{
 "cells": [
  {
   "cell_type": "markdown",
   "metadata": {},
   "source": [
    "# ЛАБОРАТОРНАЯ РАБОТА 3. \n",
    "# РЕШЕНИЕ СИСТЕМ НЕЛИНЕЙНЫХ УРАВНЕНИЙ"
   ]
  },
  {
   "cell_type": "markdown",
   "metadata": {},
   "source": [
    "## Метод Ньютона для решения систем нелинейных уравнений\n",
    "\n",
    "### Теория\n",
    "\n",
    "Предположим, что исходя из начального приближения $x^{(0)}$ к решению $\\bar{x}$ построены приближения $x^{(1)}, x^{(2)}, \\ldots, x^{(n)}$. Заменим в системе\n",
    "\n",
    "$\\begin{equation*}\n",
    "\\begin{cases}\n",
    "f_1(x_1, x_2, \\ldots, x_m) = 0,\\\\\n",
    "f_2(x_1, x_2, \\ldots, x_m) = 0,\\\\\n",
    "\\ldots \\ldots \\ldots \\ldots \\ldots \\ldots \\ldots \\ldots \\qquad \\qquad \\qquad \\qquad (1)\\\\\n",
    "f_m(x_1, x_2, \\ldots, x_m) = 0.\\\\\n",
    "\\end{cases}\n",
    "\\end{equation*}$\n",
    "\n",
    "каждую из функций $f_i \\quad  (i = 1, 2, \\ldots, m)$ главной линейной частью её разложения по формуле Тейлора в точке $x^{(n)}$:\n",
    "\n",
    "$f_i(x) \\approx f_i(x^{(n)})+\\sum\\limits_{j=1}^{m} \\cfrac{\\partial f_i(x^{(n)})}{\\partial x_j} (x_j-x_j^{(n)}).$\n",
    "\n",
    "В результате придем к системе линейных алгебраических уравнений:\n",
    "\n",
    "$f_1(x^{(n)})+\\sum\\limits_{j=1}^{m} \\cfrac{\\partial f_1(x^{(n)})}{\\partial x_j} (x_j-x_j^{(n)}) = 0,$\n",
    "\n",
    "$f_2(x^{(n)})+\\sum\\limits_{j=1}^{m} \\cfrac{\\partial f_2(x^{(n)})}{\\partial x_j} (x_j-x_j^{(n)}) = 0,$\n",
    "\n",
    "$\\ldots \\ldots \\ldots \\ldots \\ldots \\ldots \\ldots \\ldots \\ldots \\ldots \\ldots \\ldots$$\n",
    "\n",
    "$f_m(x^{(n)})+\\sum\\limits_{j=1}^{m} \\cfrac{\\partial f_m(x^{(n)})}{\\partial x_j} (x_j-x_j^{(n)}) = 0,$\n",
    "\n",
    "имеющей в матричной форме записи следующий вид:\n",
    "\n",
    "$$f(x^{(n)})+f^\\prime(x^{(n)})(x-x^{(n)})=0; \\qquad (2)$$\n",
    "\n",
    "здесь $f^\\prime$ - матрица Якоби:\n",
    "\n",
    "$f^\\prime(x) = \\begin{pmatrix}\n",
    "{\\partial f_1 (x) \\over \\partial x_1} & {\\partial f_1 (x) \\over \\partial x_2} & \\cdots & {\\partial f_1 (x) \\over \\partial x_n} \\\\\n",
    "{\\partial f_2 (x) \\over \\partial x_1} & {\\partial f_2 (x) \\over \\partial x_2} & \\cdots & {\\partial f_2 (x) \\over \\partial x_n} \\\\\n",
    "\\cdots & \\cdots & \\cdots &\\cdots \\\\\n",
    "{\\partial f_m (x) \\over \\partial x_1} & {\\partial f_m (x) \\over \\partial x_2} & \\cdots & {\\partial f_m (x) \\over \\partial x_n}\n",
    "\\end{pmatrix}.$\n",
    "\n",
    "Предположим, что матрица $f^\\prime(x^{(n)})$ невырожденная, т.е. существует обратная матрица $(f^\\prime(x^{(n)}))^{-1}$. Тогда система $(2)$ имеет единственное решение, которое и принимется за очередное приближение $x^{(n+1)}$ к решению $\\bar{x}$.Таким образом, приближение $x^{(n+1)}$ удовлетворяет равенству\n",
    "\n",
    "$f(x^{(n)})+f^\\prime(x^{(n)})(x^{(n+1)}-x^{(n)})=0, \\qquad (3)$\n",
    "\n",
    "выражая из которого $x^{(n+1)}$, выводим итерационную формулу  метода Ньютона:\n",
    "\n",
    "$x^{(n+1)} = x^{(n)}-(f^\\prime(x^{(n)}))^{-1} f(x^{(n)}).$\n",
    "\n",
    "#### Замечание.\n",
    "\n",
    "Последняя формула предполагает использование трудоемкой операции обращения матрицы, поэтому непосредственное её использование для вычисления $x^{(n+1)}$ в большинстве случаев нецелесообразно. Обычно вместо этого решают эквивалентую системе (3) систему линейных алгебраических уравнений:\n",
    "\n",
    "$f^\\prime(x^{(n)}) \\Delta x^{(n+1)} = - f(x^{(n)})$\n",
    "\n",
    "относительно поправки $\\Delta x^{(n+1)} = x^{(n+1)} - x^{(n)}$. Затем полагают\n",
    "\n",
    "$x^{(n+1)} = x^{(n)} + \\Delta x^{(n+1)}.$\n",
    "\n",
    "\n",
    "### Сходимость метода\n",
    "\n",
    "#### Основная теорема о сходимости метода Ньютона\n",
    "\n",
    "Пусть в некоторой окрестности $\\bar{x}$ системы $(1)$ функции $f_i \\quad (i = 1, 2, \\ldots, m)$ дважды непрерывно дифференцируемы и матрица $f^\\prime(\\bar{x})$ невырождена. Тогда найдется такая маоая $\\delta$-окрестность решения $\\bar{x}$, что при произвольном выборе начального приближения $x^{(0)}$ из этой окрестности итерационная последовательность метода Ньютона не выходит за пределы оксретности и справедлива оценка:\n",
    "\n",
    "$\\Vert x^{(n+1)} - \\bar{x} \\Vert \\le \\cfrac{1}{\\delta} \\Vert x^{(n)} - \\bar{x}\\Vert^2, n \\ge 0.$\n",
    "\n",
    "Эта оценка означает, что метод сходится с квадратичной скоростью.\n",
    "\n",
    "Квадратичная скорость сходимости метода Ньютона позволяет использовать простой практический критерий окончания итераций\n",
    "\n",
    "$\\Vert x^{(n)} - x^{(n-1)}\\Vert < \\varepsilon.$"
   ]
  },
  {
   "cell_type": "markdown",
   "metadata": {},
   "source": [
    "# Задание\n",
    "\n",
    "Найти с точность $\\varepsilon = 10^{-6}$ все корни системы нелинейных уравнений\n",
    "\n",
    "$f_1(x_1, x_2) = 0,$\n",
    "\n",
    "$f_2(x_1, x_2) = 0,$\n",
    "\n",
    "используя метод Ньютона для системы нелинейных уравнений. Найти корни с помощью встроенной функции."
   ]
  },
  {
   "cell_type": "markdown",
   "metadata": {},
   "source": [
    "## Система нелинейных уравнений\n",
    "### (вариант 7)\n",
    "\n",
    "$\\begin{equation*}\n",
    "\\begin{cases}\n",
    "sin(x_1 - 1) + x_2 - 0,1 = 0\\\\\n",
    "x_1 - sin(x_2 + 1) - 0,8 = 0\\\\\n",
    "\\end{cases}\n",
    "\\end{equation*}$"
   ]
  },
  {
   "cell_type": "code",
   "execution_count": 1,
   "metadata": {
    "collapsed": true
   },
   "outputs": [],
   "source": [
    "import numpy as np\n",
    "import matplotlib.pyplot as plt\n",
    "import math\n",
    "import scipy.optimize\n",
    "from scipy import linalg\n",
    "from numpy import linalg\n",
    "from scipy.misc import derivative\n",
    "from scipy.optimize import fsolve\n",
    "%matplotlib inline"
   ]
  },
  {
   "cell_type": "markdown",
   "metadata": {},
   "source": [
    "### 1. Локализовать корни системы уравнений графически"
   ]
  },
  {
   "cell_type": "markdown",
   "metadata": {},
   "source": [
    "Предварительно нужно привеcти уравнения системы к виду $x_2 - g_i (x_1)$ (либо $x_1 - g_i (x_2)$), $i = 1, 2$.\n",
    "\n",
    "Выразим $x_2 - g_i (x_1) \\quad (i = 1, 2)$:\n",
    "\n",
    "* из первого уравнения системы: \n",
    "\n",
    "$x_2 = 0.1 - sin(x_1 - 1)$;\n",
    "\n",
    "\n",
    "* из второго уравнения системы:\n",
    "\n",
    "$sin(x_2 + 1) = x_1 - 0,8$;\n",
    "\n",
    "$x_2 + 1 = arcsin(x_1 -0,8)$;\n",
    "\n",
    "$x_2 = arcsin(x_1 - 0,8) - 1$."
   ]
  },
  {
   "cell_type": "code",
   "execution_count": 2,
   "metadata": {
    "collapsed": true
   },
   "outputs": [],
   "source": [
    "# первое уравнение через x1\n",
    "def f1(x):\n",
    "    return 0.1 - np.sin(x-1)\n",
    "# второе уравнение черех x1\n",
    "def f2(x):\n",
    "    return np.arcsin(x - 0.8) - 1"
   ]
  },
  {
   "cell_type": "code",
   "execution_count": 3,
   "metadata": {},
   "outputs": [
    {
     "data": {
      "text/plain": [
       "<matplotlib.legend.Legend at 0x1ab1e7286d8>"
      ]
     },
     "execution_count": 3,
     "metadata": {},
     "output_type": "execute_result"
    },
    {
     "data": {
      "image/png": "[encoded data removed]",
      "text/plain": [
       "<matplotlib.figure.Figure at 0x1ab1e32d8d0>"
      ]
     },
     "metadata": {},
     "output_type": "display_data"
    }
   ],
   "source": [
    "x = np.linspace(-5, 5, 100)\n",
    "y = np.linspace(0, 1.8, 100)\n",
    "plt.figure(figsize=(9, 6))\n",
    "plt.plot(x, f1(x), label = u'$x_2 = 0.1 - sin(x_1 - 1)$')\n",
    "plt.plot(y, f2(y), label = u'$x_2 = arcsin(x_1 - 0,8) - 1$')\n",
    "plt.grid(True)\n",
    "plt.scatter(1.430717, -0.317523, c='r')\n",
    "plt.xlabel(r'$x_1$', fontsize=20)\n",
    "plt.ylabel(r'$x_2$', fontsize=20)\n",
    "plt.plot([-6, 1.430717], [-0.317523, -0.317523], c='m', linestyle=':', linewidth = 1.4)\n",
    "plt.plot([1.430717, 1.430717], [-0.317523, -2], c='m', linestyle=':', linewidth = 1.4)\n",
    "plt.legend()"
   ]
  },
  {
   "cell_type": "markdown",
   "metadata": {},
   "source": [
    "### 2. Составить программу-функцию, вычисляющую корень системы двух нелинейных уравнений по методу Ньютона с точностью $\\varepsilon$. Предусмотреть подсчет количества итераций. Для решения соответствующей системы линейных алгебраических уравнений использовать встроенную функцию ``` linalg.solve.```"
   ]
  },
  {
   "cell_type": "code",
   "execution_count": 4,
   "metadata": {
    "collapsed": true
   },
   "outputs": [],
   "source": [
    "# система\n",
    "def F(x):\n",
    "    return np.array([np.sin(x[0]-1)+x[1]-0.1, x[0]-np.sin(x[1]+1)-0.8])\n",
    "\n",
    "# предварительно вычисленная матрица Якоби\n",
    "def J(x):\n",
    "    return np.array([[np.cos(x[0]-1), 1], [1, -np.cos(x[1]+1)]])"
   ]
  },
  {
   "cell_type": "markdown",
   "metadata": {},
   "source": [
    "Есть приближение $x_{i}$ к корню и мы ищем лучшее приближение $x_{i+1}$ путем аппроксимации функции $F(x_{i+1})$ линейной функцией и решением соответствующей системы теперь уже линейных уравнений. Мы аппроксимируем нелинейную задачу $F(x_{i+1})=0$ линейной:\n",
    "\n",
    "$$F(x_{i}) + J(x_{i})(x_{i+1} - x_{i}) = 0, \\qquad (1)$$\n",
    "\n",
    "где $ J(x_{i})$ - *якобиан* системы $F(x_{i})$\n",
    "\n",
    "уравнение (1) является линейной системой с матрицей коэффициентов $J$ и вектором $F(x_{i})$. Переписывая в другой форме, получим:\n",
    "\n",
    "$$J(x_{i})\\delta=-F(x_{i}), \\delta = (x_{i+1} - x_{i})$$\n",
    "\n",
    "На каждой итерации метода Ньютона выполняем следующие шаги:\n",
    "\n",
    "1. Решаем $J(x_{i})\\delta=-F(x_{i})$ для $\\delta$.\n",
    "2. Выражаем $x_{i+1}=x_{i}+\\delta$\n",
    "\n",
    "$F=0$ - система;\n",
    "\n",
    "$x$ - начальное приближение;\n",
    "\n",
    "итерации продолжаются до выполнения неравенства $\\Vert F \\Vert < \\varepsilon$."
   ]
  },
  {
   "cell_type": "code",
   "execution_count": 5,
   "metadata": {
    "collapsed": true
   },
   "outputs": [],
   "source": [
    "def Newton_system(F, J, x, eps):\n",
    "    F_value = F(x)\n",
    "    F_norm = np.linalg.norm(F_value, ord=2)  # 2-norm\n",
    "    iteration_counter = 0\n",
    "    while abs(F_norm) >= eps: # пока не выполнится критерий окончания\n",
    "        delta = np.linalg.solve(J(x), -F_value)\n",
    "        x = x + delta\n",
    "        F_value = F(x)\n",
    "        F_norm = np.linalg.norm(F_value, ord=2)\n",
    "        iteration_counter += 1\n",
    "    return x, iteration_counter"
   ]
  },
  {
   "cell_type": "markdown",
   "metadata": {},
   "source": [
    "### 3. Используя составленную программу, вычислить все корни заданной системы с точностью $\\varepsilon$"
   ]
  },
  {
   "cell_type": "code",
   "execution_count": 6,
   "metadata": {},
   "outputs": [
    {
     "data": {
      "text/plain": [
       "(array([ 1.43071734, -0.31752274]), 3)"
      ]
     },
     "execution_count": 6,
     "metadata": {},
     "output_type": "execute_result"
    }
   ],
   "source": [
    "solution = Newton_system(F, J, np.array([1.3, -0.4]), 1e-6)\n",
    "solution"
   ]
  },
  {
   "cell_type": "code",
   "execution_count": 7,
   "metadata": {},
   "outputs": [
    {
     "name": "stdout",
     "output_type": "stream",
     "text": [
      "Количество итераций: 3\n"
     ]
    }
   ],
   "source": [
    "print('Количество итераций: {:d}'.format(solution[1]))"
   ]
  },
  {
   "cell_type": "markdown",
   "metadata": {},
   "source": [
    "### 4. Используя встроенную функцию, найти все корни системы с точностью $\\varepsilon$. Сравнить с результатами, полученнными в п. 3"
   ]
  },
  {
   "cell_type": "markdown",
   "metadata": {},
   "source": [
    "### С помощью fsolve\n",
    "\n",
    "https://docs.scipy.org/doc/scipy-0.14.0/reference/generated/scipy.optimize.fsolve.html"
   ]
  },
  {
   "cell_type": "code",
   "execution_count": 8,
   "metadata": {},
   "outputs": [
    {
     "name": "stdout",
     "output_type": "stream",
     "text": [
      "[1.4307173447990178, -0.3175227369648439]\n"
     ]
    }
   ],
   "source": [
    "def equations(p):\n",
    "    x, y = p\n",
    "    return [np.sin(x-1) + y - 0.1, x - np.sin(y+1) - 0.8]\n",
    "\n",
    "x1, x2 =  fsolve(equations, (1.5, -0.2), xtol=1e-6)\n",
    "\n",
    "print([x1, x2])"
   ]
  },
  {
   "cell_type": "markdown",
   "metadata": {},
   "source": [
    "### Найдем разность между решением, которое дает написанный алгоритм, и решением, полученным с помощью встроенной функции ```fsolve```"
   ]
  },
  {
   "cell_type": "code",
   "execution_count": 9,
   "metadata": {
    "collapsed": true
   },
   "outputs": [],
   "source": [
    "# решение, полученное написанным алгоритмом\n",
    "x1_alg = Newton_system(F, J, np.array([1.3, -0.4]), 1e-6)[0][0]\n",
    "x2_alg = Newton_system(F, J, np.array([1.3, -0.4]), 1e-6)[0][1]\n",
    "\n",
    "# x1, x2 - с помощью встроенной функции fsolve"
   ]
  },
  {
   "cell_type": "code",
   "execution_count": 10,
   "metadata": {},
   "outputs": [
    {
     "data": {
      "text/plain": [
       "1.1672884880908896e-12"
      ]
     },
     "execution_count": 10,
     "metadata": {},
     "output_type": "execute_result"
    }
   ],
   "source": [
    "x1_alg - x1"
   ]
  },
  {
   "cell_type": "code",
   "execution_count": 11,
   "metadata": {},
   "outputs": [
    {
     "data": {
      "text/plain": [
       "-5.4550808314957067e-12"
      ]
     },
     "execution_count": 11,
     "metadata": {},
     "output_type": "execute_result"
    }
   ],
   "source": [
    "x2_alg - x2"
   ]
  },
  {
   "cell_type": "markdown",
   "metadata": {},
   "source": [
    "# ツ"
   ]
  }
 ],
 "metadata": {
  "kernelspec": {
   "display_name": "Python 3",
   "language": "python",
   "name": "python3"
  },
  "language_info": {
   "codemirror_mode": {
    "name": "ipython",
    "version": 3
   },
   "file_extension": ".py",
   "mimetype": "text/x-python",
   "name": "python",
   "nbconvert_exporter": "python",
   "pygments_lexer": "ipython3",
   "version": "3.6.1"
  }
 },
 "nbformat": 4,
 "nbformat_minor": 2
}
