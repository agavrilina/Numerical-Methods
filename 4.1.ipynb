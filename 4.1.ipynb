{
 "cells": [
  {
   "cell_type": "code",
   "execution_count": 20,
   "metadata": {},
   "outputs": [],
   "source": [
    "import numpy as np\n",
    "import matplotlib.pyplot as plt\n",
    "import math\n",
    "import scipy.optimize\n",
    "from scipy import linalg\n",
    "from numpy import linalg\n",
    "from scipy.misc import derivative\n",
    "from scipy.optimize import fsolve\n",
    "%matplotlib inline"
   ]
  },
  {
   "cell_type": "markdown",
   "metadata": {},
   "source": [
    "## Метод Ньютона для решения систем нелинейных уравнений\n",
    "\n",
    "Предположим, что исходя из начального приближения $x^{(0)}$ к решению $\\bar{x}$ построены приближения $x^{(1)}, x^{(2)}, \\ldots, x^{(n)}$. Заменим в системе\n",
    "\n",
    "$\\begin{equation*}\n",
    "\\begin{cases}\n",
    "f_1(x_1, x_2, \\ldots, x_m) = 0,\\\\\n",
    "f_2(x_1, x_2, \\ldots, x_m) = 0,\\\\\n",
    "\\ldots \\ldots \\ldots \\ldots \\ldots \\ldots \\ldots \\ldots \\qquad \\qquad \\qquad \\qquad (1)\\\\\n",
    "f_m(x_1, x_2, \\ldots, x_m) = 0.\\\\\n",
    "\\end{cases}\n",
    "\\end{equation*}$\n",
    "\n",
    "каждую из функций $f_i \\quad  (i = 1, 2, \\ldots, m)$ главной линейной частью её разложения по формуле Тейлора в точке $x^{(n)}$:\n",
    "\n",
    "$$f_i(x) \\approx f_i(x^{(n)})+\\sum\\limits_{j=1}^{m} \\cfrac{\\partial f_i(x^{(n)})}{\\partial x_j} (x_j-x_j^{(n)}).$$\n",
    "\n",
    "В результате придем к системе линейных алгебраических уравнений:\n",
    "\n",
    "$$f_1(x^{(n)})+\\sum\\limits_{j=1}^{m} \\cfrac{\\partial f_1(x^{(n)})}{\\partial x_j} (x_j-x_j^{(n)}) = 0,$$\n",
    "\n",
    "$$f_2(x^{(n)})+\\sum\\limits_{j=1}^{m} \\cfrac{\\partial f_2(x^{(n)})}{\\partial x_j} (x_j-x_j^{(n)}) = 0,$$\n",
    "\n",
    "$$\\ldots \\ldots \\ldots \\ldots \\ldots \\ldots \\ldots \\ldots \\ldots \\ldots \\ldots \\ldots$$\n",
    "\n",
    "$$f_m(x^{(n)})+\\sum\\limits_{j=1}^{m} \\cfrac{\\partial f_m(x^{(n)})}{\\partial x_j} (x_j-x_j^{(n)}) = 0,$$\n",
    "\n",
    "имеющей в матричной форме записи следующий вид:\n",
    "\n",
    "$$f(x^{(n)})+f^\\prime(x^{(n)})(x-x^{(n)})=0; \\qquad (2)$$\n",
    "\n",
    "здесь $f^\\prime$ - матрица Якоби:\n",
    "\n",
    "$f^\\prime(x) = \\begin{pmatrix}\n",
    "{\\partial f_1 \\over \\partial x_1 (x)} & {\\partial f_1 \\over \\partial x_2 (x)} & \\cdots & {\\partial f_1 \\over \\partial x_n (x)} \\\\\n",
    "{\\partial f_2 \\over \\partial x_1 (x)} & {\\partial f_2 \\over \\partial x_2 (x)} & \\cdots & {\\partial f_2 \\over \\partial x_n (x)} \\\\\n",
    "\\cdots & \\cdots & \\cdots &\\cdots \\\\\n",
    "{\\partial f_m \\over \\partial x_1 (x)} & {\\partial f_m \\over \\partial x_2 (x)} & \\cdots & {\\partial f_m \\over \\partial x_n (x)}\n",
    "\\end{pmatrix}.$\n",
    "\n",
    "Предположим, что матрица $f^\\prime(x^{(n)})$ невырожденная, т.е. существует обратная матрица $(f^\\prime(x^{(n)}))^{-1}$. Тогда система $(2)$ имеет единственное решение, которое и принимется за очередное приближение $x^{(n+1)}$ к решению $\\bar{x}$.Таким образом, приближение $x^{(n+1)}$ удовлетворяет равенству\n",
    "\n",
    "$$f(x^{(n)})+f^\\prime(x^{(n)})(x^{(n+1)}-x^{(n)})=0, \\qquad (3)$$\n",
    "\n",
    "выражая из которого $x^{(n+1)}$, выводим итерационную формулу  метода Ньютона:\n",
    "\n",
    "$$x^{(n+1)} = x^{(n)}-(f^\\prime(x^{(n)}))^{-1} f(x^{(n)}).$$\n",
    "\n",
    "#### Замечание.\n",
    "\n",
    "Последняя формула предполагает использование трудоемкой операции обращения матрицы, поэтому непосрежственное её использование для вычисления $x^{(n+1)}$ в большинстве случаев нецелесообразно. Обычно вместо этого решают эквивалентую системе (3) систему линейных алгебраических уравнений:\n",
    "\n",
    "$$f^\\prime(x^{(n)}) \\Delta x^{(n+1)} = - f(x^{(n)})$$\n",
    "\n",
    "относительно поправки $\\Delta x^{(n+1)} = x^{(n+1)} - x^{(n)}$. Затем полагают\n",
    "\n",
    "$$x^{(n+1)} = x^{(n)} + \\Delta x^{(n+1)}.$$\n",
    "\n",
    "\n",
    "### Сходимость метода\n",
    "\n",
    "#### Основная теорема о сходимости метода Ньютона\n",
    "\n",
    "Пусть в некоторой окрестности $\\bar{x}$ системы $(1)$ функции $f_i \\quad (i = 1, 2, \\ldots, m)$ дважды непрерывно дифференцируемы и матрица $f^\\prime(\\bar{x})$ невырождена. Тогда найдется такая маоая $\\delta$-окрестность решения $\\bar{x}$, что при произвольном выборе начального приближения $x^{(0)}$ из этой окрестности итерационная последовательность метода Ньютона не выходит за пределы оксретности и справедлива оценка:\n",
    "\n",
    "$$\\Vert x^{(n+1)} - \\bar{x} \\Vert \\le \\cfrac{1}{\\delta} \\Vert x^{(n)} - \\bar{x}\\Vert^2, n \\ge 0.$$\n",
    "\n",
    "Эта оценка означает, что метод сходится с квадратичной скоростью.\n",
    "\n",
    "Квадратичная скорость сходимости метода Ньютона позволяет использовать простой практический критерий окончания итераций\n",
    "\n",
    "$$\\Vert x^{(n)} - x^{(n-1)}\\Vert < \\varepsilon.$$"
   ]
  },
  {
   "cell_type": "markdown",
   "metadata": {},
   "source": [
    "## Задание\n",
    "\n",
    "Найти с точность $\\varepsilon = 10^{-6}$ все корни системы нелинейных уравнений\n",
    "\n",
    "$f_1(x_1, x_2)=0,$\n",
    "\n",
    "$f_2(x_1, x_2) = 0,$\n",
    "\n",
    "используя метод Ньютона для системы нелинейных уравнений. Найти корни с помощью встроенной функции."
   ]
  },
  {
   "cell_type": "markdown",
   "metadata": {},
   "source": [
    "## Система нелинейных уравнений\n",
    "\n",
    "$\\begin{equation*}\n",
    "\\begin{cases}\n",
    "sin(x_1 - 1) + x_2 - 0,1 = 0\\\\\n",
    "x_1 - sin(x_2 + 1) - 0,8 = 0\\\\\n",
    "\\end{cases}\n",
    "\\end{equation*}$"
   ]
  },
  {
   "cell_type": "markdown",
   "metadata": {},
   "source": [
    "## С помощью встроенной fsolve\n",
    "\n",
    "https://docs.scipy.org/doc/scipy-0.14.0/reference/generated/scipy.optimize.fsolve.html\n",
    "\n",
    "Find the roots of a function.\n",
    "\n",
    "Return the roots of the (non-linear) equations defined by func(x) = 0 given a starting estimate."
   ]
  },
  {
   "cell_type": "code",
   "execution_count": 33,
   "metadata": {},
   "outputs": [
    {
     "name": "stdout",
     "output_type": "stream",
     "text": [
      "(1.3381579548739657, -0.43174993070374057)\n"
     ]
    }
   ],
   "source": [
    "def equations(p):\n",
    "    x, y = p\n",
    "    return (np.sin(x-1) + y + 0.1, x - np.sin(y+1) - 0.8)\n",
    "\n",
    "x1, x2 =  fsolve(equations, (1.5, -0.2))\n",
    "\n",
    "print((x1,x2))"
   ]
  },
  {
   "cell_type": "code",
   "execution_count": 3,
   "metadata": {
    "collapsed": true
   },
   "outputs": [],
   "source": [
    "def f1(x1, x2):\n",
    "    return np.sin(x1-1) + x2 - 0.1\n",
    "def f2(x1, x2):\n",
    "    return x1 - np.sin(x2+1) - 0.8"
   ]
  },
  {
   "cell_type": "code",
   "execution_count": 5,
   "metadata": {},
   "outputs": [
    {
     "data": {
      "text/plain": [
       "<matplotlib.collections.PathCollection at 0x1c4a63a18d0>"
      ]
     },
     "execution_count": 5,
     "metadata": {},
     "output_type": "execute_result"
    },
    {
     "data": {
      "image/png": "[encoded data removed]",
      "text/plain": [
       "<matplotlib.figure.Figure at 0x1c4a969b8d0>"
      ]
     },
     "metadata": {},
     "output_type": "display_data"
    }
   ],
   "source": [
    "x = np.linspace(-2, 2)\n",
    "fx = 0.8 + np.sin(x+1)\n",
    "plt.plot(x, fx)\n",
    "plt.grid(True)\n",
    "plt.scatter(-0.43174993070374057, 1.3381579548739657, c='r')"
   ]
  },
  {
   "cell_type": "code",
   "execution_count": 6,
   "metadata": {},
   "outputs": [
    {
     "data": {
      "text/plain": [
       "<matplotlib.collections.PathCollection at 0x1c4a969bf28>"
      ]
     },
     "execution_count": 6,
     "metadata": {},
     "output_type": "execute_result"
    },
    {
     "data": {
      "image/png": "[encoded data removed]",
      "text/plain": [
       "<matplotlib.figure.Figure at 0x1c4a969bf60>"
      ]
     },
     "metadata": {},
     "output_type": "display_data"
    }
   ],
   "source": [
    "y = np.linspace(-2, 2)\n",
    "fy = -0.1-np.sin(y-1)\n",
    "plt.plot(y, fy)\n",
    "plt.grid(True)\n",
    "plt.scatter(1.3381579548739657, -0.43174993070374057, c='r')"
   ]
  },
  {
   "cell_type": "code",
   "execution_count": 26,
   "metadata": {
    "collapsed": true
   },
   "outputs": [],
   "source": [
    "def F(x):\n",
    "    return np.array([np.sin(x[0]-1)+x[1]-0.1, x[0]-np.sin(x[1]+1)-0.8])\n",
    "\n",
    "def J(x):\n",
    "    return np.array([[np.cos(x[0]-1), 1], [1, -np.cos(x[1]+1)]])"
   ]
  },
  {
   "cell_type": "markdown",
   "metadata": {},
   "source": [
    "$F=0$ - система;\n",
    "\n",
    "$J$ - Якобиан;\n",
    "\n",
    "$x$ - начальное приближение;\n",
    "\n",
    "итерации продолжаются до выполнения неравенства $\\Vert F \\Vert < \\varepsilon$."
   ]
  },
  {
   "cell_type": "code",
   "execution_count": 46,
   "metadata": {},
   "outputs": [],
   "source": [
    "def Newton_system(F, J, x, eps):\n",
    "    F_value = F(x)\n",
    "    F_norm = np.linalg.norm(F_value, ord=2)  # None: Frobenius norm, 2-norm\n",
    "    iteration_counter = 0\n",
    "    while abs(F_norm) > eps:\n",
    "        delta = np.linalg.solve(J(x), -F_value)\n",
    "        x = x + delta\n",
    "        F_value = F(x)\n",
    "        F_norm = np.linalg.norm(F_value, ord=2)\n",
    "        iteration_counter += 1\n",
    "\n",
    "    # Here, either a solution is found, or too many iterations\n",
    "    #if abs(F_norm) > eps:\n",
    "        #iteration_counter = -1\n",
    "    return x, iteration_counter"
   ]
  },
  {
   "cell_type": "code",
   "execution_count": 51,
   "metadata": {},
   "outputs": [
    {
     "data": {
      "text/plain": [
       "(array([ 1.43071734, -0.31752274]), 3)"
      ]
     },
     "execution_count": 51,
     "metadata": {},
     "output_type": "execute_result"
    }
   ],
   "source": [
    "Newton_system(F, J, np.array([1.3, -0.4]), 1e-6)"
   ]
  },
  {
   "cell_type": "code",
   "execution_count": null,
   "metadata": {
    "collapsed": true
   },
   "outputs": [],
   "source": []
  }
 ],
 "metadata": {
  "kernelspec": {
   "display_name": "Python 3",
   "language": "python",
   "name": "python3"
  },
  "language_info": {
   "codemirror_mode": {
    "name": "ipython",
    "version": 3
   },
   "file_extension": ".py",
   "mimetype": "text/x-python",
   "name": "python",
   "nbconvert_exporter": "python",
   "pygments_lexer": "ipython3",
   "version": "3.6.1"
  }
 },
 "nbformat": 4,
 "nbformat_minor": 2
}
