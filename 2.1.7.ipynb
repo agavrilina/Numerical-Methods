{
 "cells": [
  {
   "cell_type": "markdown",
   "metadata": {},
   "source": [
    "Гаврилина Александра, группа БПМ152 (возможно, я нахожусь в списке 154 группы, т.к. переводилась, но сейчас я в 152)\n",
    "\n",
    "Вариант 7"
   ]
  },
  {
   "cell_type": "markdown",
   "metadata": {},
   "source": [
    "$\\Large \\textbf{2.1.7: метод бисекции}$"
   ]
  },
  {
   "cell_type": "markdown",
   "metadata": {},
   "source": [
    "$\\large \\textbf{Дано}$\n",
    "\n",
    "Даны два уравнения $f(x)=0$ и $g(x)=0$. Найти с точностью $\\varepsilon$ все корни уравнений, содержащиеся на отрезке $[a, b]$. Для решения задачи использовать метод бисекции.\n",
    "\n",
    "Вариант 7, задача 2.1.7\n",
    "\n",
    "$[a, b] = [5, 25]$\n",
    "\n",
    "$\\varepsilon = 10^{-10}$\n",
    "\n",
    "$f(x) = (ln x)^2 - 5 ln x + 6$\n",
    "\n",
    "$g(x) = (ln x)^2 - 4 ln x + 4$"
   ]
  },
  {
   "cell_type": "markdown",
   "metadata": {},
   "source": [
    "$\\large \\textbf{Теория}$\n",
    "\n",
    "Метод бисекции или метод деления отрезка пополам — простейший численный метод для решения нелинейных уравнений вида $f(x)=0.$ Предполагается только непрерывность функции $f(x)$. Поиск основывается на теореме о промежуточных значениях.\n",
    "\n",
    "$\\textbf{1. Описание метода}$\n",
    "\n",
    "Пусть требуется с заданной точностью $\\varepsilon > 0$ найти корень $\\bar{x}$ уравнения $f(x)=0$. Отрезок локализации $[a, b]$ (т.е. отрезок, содержащий только один корень $\\bar{x}$) будем считать заданным. Предположим, что функция $f$ непрерына на отрезке $[a, b]$ и на его концах принимает значения разных знаков, т.е. $f(a) \\cdot f(b) < 0$.\n",
    "\n",
    "Для дальнейшего будет удобно обозначить отрезок $[a, b]$ через $[a^{(0)}, b^{(0)}]$. Примем за приближенное значение корня середину отрезка - точку $x^{(0)} = \\cfrac{a^{(0)} + b^{(0)}}{2}$. Так как положение корня $\\bar{x}$ на отрезке $[a^{(0)}, b^{(0)}]$ неизвестно, то можно лишь утверждать, что погрешность этого приближения не превышает половины длины отрезка: $\\vert x^{(0)} - \\bar{x}\\vert \\leqslant \\cfrac{b^{(0)}-a^{(0)}}{2}$.\n",
    "\n",
    "Уменьшить погрешность приближения можно, уточнив отрезок локализации, т.е. заменив начальный отрезок $[a^{(0)}, b^{(0)}]$ отрезком $[a^{(1)}, b^{(1)}]$ меньшей длины. Согласно $\\textbf{методу бисекции (половинного деления)}$ в качестве $[a^{(1)}, b^{(1)}]$ берут тот из отрезков $[a^{(0)}, x^{(0)}]$ и $[x^{(0)}, b^{(0)}]$, на концах которого выполняется условие $f(a^{(1)}) \\cdot f(b^{(1)}) \\leqslant 0$. Этот отрезок содержит искомый корень. Действительно, если $f(a^{(1)}) \\cdot f(b^{(1)}) < 0$, то наличие корня следует из теоремы:\n",
    "\n",
    "$\\fbox{Пусть функция $f$ непрерывна на отрезке $[a, b]$ и принимает на его концах значения разных знаков, т.е. $f(a) \\cdot$ f(b) < 0.$\\\\ $Тогда отрезок $[a, b]$ содержит по крайней мере один корень уравнения $f(x)=0$.}$\n",
    "\n",
    "\n",
    "Если же $f(a^{(1)}) \\cdot f(b^{(1)}) = 0$, то корнем является один из концов отрезка. \n",
    "\n",
    "Середина полученного отрезка $x^{(1)} = \\cfrac{a^{(1)}+b^{(1)}}{2}$ дает теперь приближение к корню, оценка погрешности которого составляет $\\vert x^{(1)} - \\bar{x}\\vert \\leqslant \\cfrac{b^{(1)}-a^{(1)}}{2} = \\cfrac{b-a}{2^2}$.\n",
    "\n",
    "За очередное уточнение отрезка локализации $[a^{(2)}, b^{(2)}]$ снова берут тот из отрезков $[a^{(1)}, x^{(1)}]$, $[x^{(1)}, b^{(1)}]$, на концах которого выполняется условие $f(a^{(2)}) \\cdot f(b^{(2)}) \\leqslant 0$.\n",
    "\n",
    "Опишем очередную $(n+1)$-ю итерацию метода. Пусть отрезок $[a^{(n)}, b^{(n)}]$ уже найден и вычислены значения $x^{(n)}, f(a^{(n)}), f(b^{(n)})$. Тогда производят следующие действия:\n",
    "\n",
    "$1^{\\circ}$. Вычисляют $f(x^{(n)})$.\n",
    "\n",
    "$2^{\\circ}$. Если $f(a^{(n)}) \\cdot f(b^{(n)}) \\leqslant 0$, то в качестве отрезка локализации $[a^{(n+1)}, b^{(n+1)}]$ принимают отрезок $[a^{(n)}, x^{(n)}]$. В противном случае $f(x^{(n)}) \\cdot f(b^{(n)}) < 0$ и за $[a^{(n+1)}, b^{(n+1)}]$ принимают отрезок $[x^{(n)}, b^{(n)}]$.\n",
    "\n",
    "$3^{\\circ}$. Вычисляют $x^{(n+1)} = \\cfrac{a^{(n+1)} + b^{(n+1)}}{2}$.\n",
    "\n",
    "Неограниченное продолжение итерационного процесса дает последовательность отрезков $[a^{(0)}, b^{(0)}]$, $[a^{(1)}, b^{(1)}]$, $\\ldots$, $[a^{(n)}, b^{(n)}]$, $\\ldots$, содержащих искомый корень. Каждый из них (за исключением начального) получен делением пополам предыдущего отрезка.\n",
    "\n",
    "$\\textbf{2. Скорость сходимости}$\n",
    "\n",
    "Середина $n$-го отрезка - точка $x^{(n)}$ = $\\cfrac{a^{(n)} + b^{(n)}}{2}$ дает приближение к корню $\\bar{x}$, имеющее оценку погрешности $\\vert x^{(n)} - \\bar{x}\\vert \\leqslant \\cfrac{b^{(n)}-a^{(n)}}{2} = \\cfrac{b-a}{2^{n+1}}$.\n",
    "\n",
    "Из этой оценки видно, что метод бисекции сходится со скоростью геометрической прогрессии, заменатель которой $q = \\frac{1}{2}$. По сравнению с другими методами метод бисекции сходится довольно медленно. Однако он достаточно прост и весьма непритязателен; для его применения достаточно, что выполнялось неравенство $f(a) \\cdot f(b) < 0$, функция $f$ была непрерывна и верно определялся ее знак. В тех ситуациях, где не нужна сверхвысокая точность сходимости (а \n",
    "то часто имеет место при простых инженерных расчетах), этот метод весьма привлекателен.\n",
    "\n",
    "Заметим, что число итераций, которое требуется при применении метода бисекции для достижения разумной точности $\\varepsilon$, не может быть очень большим. Например, для уменьшения начального отрезка локализации в $10^6$ раз нужно 19 итераций.\n",
    "\n",
    "$\\textbf{3. Критерий окончания}$\n",
    "\n",
    "Итерации следует вести до тех пор, пока не будет выполнено неравенство $b^{(n)} - a^{(n)} < 2 \\varepsilon$. При его выполнении можно принять $x^{(n)}$ за приближение к корню с точность $\\varepsilon$."
   ]
  },
  {
   "cell_type": "markdown",
   "metadata": {},
   "source": [
    "$\\large \\textbf{Тело программы}$"
   ]
  },
  {
   "cell_type": "code",
   "execution_count": 1,
   "metadata": {
    "collapsed": true
   },
   "outputs": [],
   "source": [
    "import numpy as np\n",
    "import matplotlib.pyplot as plt\n",
    "import math\n",
    "import scipy.optimize\n",
    "%matplotlib inline"
   ]
  },
  {
   "cell_type": "code",
   "execution_count": 2,
   "metadata": {
    "collapsed": true
   },
   "outputs": [],
   "source": [
    "# f, g - наши функции (даны выше)\n",
    "f = lambda x: math.pow(math.log(x), 2) - 5*math.log(x)+6\n",
    "g = lambda x: math.pow(math.log(x), 2) - 4*math.log(x)+4\n",
    "# проверка знака произведения f(a) f(b) - понадобится в алгоритме\n",
    "def sign(a, b):\n",
    "        return a * b < 0"
   ]
  },
  {
   "cell_type": "code",
   "execution_count": 3,
   "metadata": {
    "collapsed": true
   },
   "outputs": [],
   "source": [
    "def bisection(a, b, eps, func):\n",
    "    k = 0 # k - считаем число итераций\n",
    "    xn = (a+b)/2\n",
    "    while (b - a) >= 2*eps:\n",
    "        if sign(func(a), func(xn)):\n",
    "            b = xn\n",
    "        if sign(func(b), func(xn)):\n",
    "            a = xn\n",
    "        xn = (a + b)/2\n",
    "        k += 1\n",
    "    x = xn\n",
    "    return x, k"
   ]
  },
  {
   "cell_type": "code",
   "execution_count": 4,
   "metadata": {
    "collapsed": true
   },
   "outputs": [],
   "source": [
    "eps = math.pow(10, -10)"
   ]
  },
  {
   "cell_type": "markdown",
   "metadata": {},
   "source": [
    "Для первого корня возьмем отрезок локализации $[5, 15]$, для второго $[15, 25]$."
   ]
  },
  {
   "cell_type": "code",
   "execution_count": 5,
   "metadata": {},
   "outputs": [
    {
     "data": {
      "text/plain": [
       "(7.38905609898211, 36)"
      ]
     },
     "execution_count": 5,
     "metadata": {},
     "output_type": "execute_result"
    }
   ],
   "source": [
    "x1 = bisection(5, 15, eps, f)\n",
    "x1"
   ]
  },
  {
   "cell_type": "code",
   "execution_count": 6,
   "metadata": {},
   "outputs": [
    {
     "data": {
      "text/plain": [
       "(20.08553692321584, 36)"
      ]
     },
     "execution_count": 6,
     "metadata": {},
     "output_type": "execute_result"
    }
   ],
   "source": [
    "x2 = bisection(15, 25, eps, f)\n",
    "x2"
   ]
  },
  {
   "cell_type": "code",
   "execution_count": null,
   "metadata": {
    "scrolled": true
   },
   "outputs": [
    {
     "data": {
      "text/plain": [
       "<matplotlib.text.Text at 0x297d670d470>"
      ]
     },
     "execution_count": 7,
     "metadata": {},
     "output_type": "execute_result"
    },
    {
     "data": {
      "image/png": "[encoded data removed]",
      "text/plain": [
       "<matplotlib.figure.Figure at 0x297d9917dd8>"
      ]
     },
     "metadata": {},
     "output_type": "display_data"
    }
   ],
   "source": [
    "# изобразим найденные точки на коорд. плоскости\n",
    "x = np.linspace(5, 25)\n",
    "fx = (np.log(x))**2 - 5*np.log(x)+6\n",
    "plt.plot(x, fx)\n",
    "plt.grid(True)\n",
    "plt.scatter(x1[0], 0, c='r')\n",
    "plt.scatter(x2[0], 0, c='r')\n",
    "plt.xlabel(r'$x$', fontsize=30)\n",
    "plt.ylabel(r'$f(x)$', fontsize=30)\n",
    "plt.title('f(x) = (ln x)^2 - 5 ln x + 6')"
   ]
  },
  {
   "cell_type": "code",
   "execution_count": null,
   "metadata": {
    "collapsed": true
   },
   "outputs": [],
   "source": [
    "x3 = bisection(5, 25, eps, g)\n",
    "x3"
   ]
  },
  {
   "cell_type": "code",
   "execution_count": null,
   "metadata": {
    "collapsed": true
   },
   "outputs": [],
   "source": [
    "gx = (np.log(x))**2 - 4*np.log(x)+4\n",
    "plt.plot(x, gx)\n",
    "plt.grid(True)\n",
    "plt.xlabel(r'$x$', fontsize=30)\n",
    "plt.ylabel(r'$g(x)$', fontsize=30)\n",
    "plt.title('g(x) = (ln x)^2 - 4 ln x + 4')"
   ]
  },
  {
   "cell_type": "markdown",
   "metadata": {
    "collapsed": true
   },
   "source": [
    "$\\large \\textbf{Вывод}$\n",
    "\n",
    "Таким образом, алгоритм находит такие корни\n",
    "\n",
    "корни уравнения $f(x)=0$: $x_1 = 7.38905609898211$ и $x_2 = 20.08553692321584$;\n",
    "\n",
    "корень уравения $g(x)=0$: метод бисекции не подходит, т.к. функция не меняет знак на концах отрезка локализации $\\Rightarrow$ не выполняется условие $f(a) \\cdot f(b) < 0$."
   ]
  },
  {
   "cell_type": "markdown",
   "metadata": {
    "collapsed": true
   },
   "source": [
    "$\\large \\textbf{Аналитическое решение}$\n",
    "\n",
    "Если посчитать лапками или же в Wolfram'е, корни уравнений такие:\n",
    "\n",
    "корни уравнения $f(x)=0$: $\\bar{x_1} = e^{2} \\approx 7.3890560989$ и $\\bar{x_2} = e^{3} \\approx 20.085536923$;\n",
    "\n",
    "корень уравения $g(x)=0$: $\\bar{x}=e^{2} \\approx 7.3890560989$."
   ]
  },
  {
   "cell_type": "markdown",
   "metadata": {},
   "source": [
    "$\\large \\textbf{С помощью функции scipy.optimize.bisect}$\n",
    "\n",
    "$\\href{https://docs.scipy.org/doc/scipy-0.14.0/reference/generated/scipy.optimize.bisect.html}{https://docs.scipy.org/doc/scipy-0.14.0/reference/generated/scipy.optimize.bisect.html}$"
   ]
  },
  {
   "cell_type": "markdown",
   "metadata": {},
   "source": [
    "Предварительно разделим отрезок $[5, 25]$ на два отрезка локализации: например, $[5, 15]$ и $[15, 25]$."
   ]
  },
  {
   "cell_type": "markdown",
   "metadata": {},
   "source": [
    "Для $[5, 15]$:"
   ]
  },
  {
   "cell_type": "code",
   "execution_count": null,
   "metadata": {
    "collapsed": true
   },
   "outputs": [],
   "source": [
    "scipy.optimize.bisect(f, 5, 15)"
   ]
  },
  {
   "cell_type": "markdown",
   "metadata": {},
   "source": [
    "Для $[15, 25]$:"
   ]
  },
  {
   "cell_type": "code",
   "execution_count": null,
   "metadata": {
    "collapsed": true
   },
   "outputs": [],
   "source": [
    "scipy.optimize.bisect(f, 10, 25)"
   ]
  },
  {
   "cell_type": "markdown",
   "metadata": {},
   "source": [
    "Как можно заметить, корни такие же.\n",
    "\n",
    "\"Готово, вы восхитительны!\""
   ]
  }
 ],
 "metadata": {
  "kernelspec": {
   "display_name": "Python 3",
   "language": "python",
   "name": "python3"
  },
  "language_info": {
   "codemirror_mode": {
    "name": "ipython",
    "version": 3
   },
   "file_extension": ".py",
   "mimetype": "text/x-python",
   "name": "python",
   "nbconvert_exporter": "python",
   "pygments_lexer": "ipython3",
   "version": "3.6.1"
  }
 },
 "nbformat": 4,
 "nbformat_minor": 2
}
