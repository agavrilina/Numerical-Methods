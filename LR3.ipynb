{
 "cells": [
  {
   "cell_type": "markdown",
   "metadata": {},
   "source": [
    "### Гаврилина Александра, группа БПМ152 \n",
    "Вариант 7: задача 3.1.7"
   ]
  },
  {
   "cell_type": "markdown",
   "metadata": {},
   "source": [
    "# ЛАБОРАТОРНАЯ РАБОТА 3\n",
    "## РЕШЕНИЕ СИСТЕМ ЛИНЕЙНЫХ АЛГЕБРАИЧЕСКИХ УРАВНЕНИЙ ПРЯМЫМИ МЕТОДАМИ"
   ]
  },
  {
   "cell_type": "markdown",
   "metadata": {},
   "source": [
    "Дана система уравнений $Ax=b$ порядка $n$. Исследовать зависимость погрешности решения $x$ от погрешностей правой части системы $b$."
   ]
  },
  {
   "cell_type": "markdown",
   "metadata": {},
   "source": [
    "## Метод Гаусса"
   ]
  },
  {
   "cell_type": "markdown",
   "metadata": {},
   "source": [
    "Метод Гаусса — классический метод решения системы линейных алгебраических уравнений (СЛАУ). \n",
    "\n",
    "Это метод последовательного исключения переменных, когда с помощью элементарных преобразований система уравнений приводится к равносильной системе треугольного вида, из которой последовательно, начиная с последних (по номеру), находятся все переменные системы.\n",
    "\n",
    "Вычисления с помощью метода Гаусса состоят из двух основных этапов, называемых прямым ходои и обратным ходом (обратной подстановкой). Прямой ход метода Гаусса заключается в последовательном исключении неизвестных из системы \n",
    "\n",
    "$\\begin{equation*}\n",
    "\\begin{cases}\n",
    "a_{11} x_1 + a_{12} x_2 + a_{13} x_3 + \\ldots + a_{1m} x_m = b_1,\\\\\n",
    "a_{21} x_1 + a_{22} x_2 + a_{23} x_3 + \\ldots + a_{2m} x_m = b_2,\\\\\n",
    "a_{31} x_1 + a_{32} x_2 + a_{33} x_3 + \\ldots + a_{3m} x_m = b_3,\\\\\n",
    "\\ldots \\ldots \\ldots \\ldots \\ldots \\ldots \\ldots \\ldots \\ldots \\ldots \\ldots \\ldots \\ldots \\qquad \\qquad \\qquad \\qquad \\qquad \\qquad (1)\\\\\n",
    "a_{m1} x_1 + a_{m2} x_2 + a_{m3} x_3 + \\ldots + a_{mm} x_m = b_m.\\\\\n",
    "\\end{cases}\n",
    "\\end{equation*}$\n",
    "\n",
    "для преобразования ее к эквивалентной системе с верхней треугольной матрицей. Вычисления значений неизвестных производят на этапе обратного хода."
   ]
  },
  {
   "cell_type": "markdown",
   "metadata": {},
   "source": [
    "### Описание метода"
   ]
  },
  {
   "cell_type": "markdown",
   "metadata": {},
   "source": [
    "#### Прямой ход состоит из $m-1$ шагов исключения."
   ]
  },
  {
   "cell_type": "markdown",
   "metadata": {},
   "source": [
    "1-й шаг. Целью этого шага является исключение неизвестного $x_1$ из уравнений с номерами $i = 2, 3, \\ldots, m$. Предположим, что коэффициент $a_{11} \\ne 0$. Будем называть его главным (или ведущим) элементом 1-го шага.\n",
    "\n",
    "Найдем величины $\\mu_{i1} = \\cfrac{a_{i1}}{a_{11}} (i = 2, 3, \\ldots, m)$, называемые множителями 1-го шага.\n",
    "\n",
    "Вычтем последовательно из второго, третьего, $\\ldots$, m-го уравнений системы $(1)$ первое уравнение, умноженное соответствуенно на $\\mu_{21}, \\mu_{31}, \\ldots, \\mu_{m1}$. Это позволить обратить к нуль коэффициенты при $x_1$ во всех уравнениях, кроме первого. В результате получим эквивалентную систему\n",
    "\n",
    "$\\begin{equation*}\n",
    "\\begin{cases}\n",
    "a_{11} x_1 + a_{12} x_2 + a_{13} x_3 + \\ldots + a_{1m} x_m = b_1,\\\\\n",
    "\\qquad \\quad a_{22}^{(1)} x_2 + a_{23}^{(1)} x_3 + \\ldots + a_{2m}^{(1)} x_m = b_2^{(1)},\\\\\n",
    "\\qquad \\quad a_{32}^{(1)} x_2 + a_{33}^{(1)} x_3 + \\ldots + a_{3m}^{(1)} x_m = b_3^{(1)},\\\\\n",
    "\\ldots \\ldots \\ldots \\ldots \\ldots \\ldots \\ldots \\ldots \\ldots \\ldots \\ldots \\ldots \\ldots \\qquad \\qquad \\qquad \\qquad \\qquad \\qquad (2)\\\\\n",
    "\\qquad \\quad a_{m2}^{(1)} x_2 + a_{m3}^{(1)} x_3 + \\ldots + a_{mm}^{(1)} x_m = b_m^{(1)},\\\\\n",
    "\\end{cases}\n",
    "\\end{equation*}$\n",
    "\n",
    "в которой $a_{ij}^{(1)}$ и $b_{i}^{(1)} (i, j = 2, 3, \\ldots, m)$ вычисляются по формулам\n",
    "\n",
    "$a_{ij}^{(1)} = a_{ij} - \\mu_{i1} a_{1j}, b_{i}^{(1)} = b_{i} - \\mu_{i1} b_{1}$.\n",
    "\n",
    "2-й шаг. Целью этого шага является исключение неизвестного $x_2$ из уравнений $i = 3, 4, \\ldots, m$. Пусть $a_{22}^{(1)} \\ne 0$, где $a_{22}^{(1)}$ - коэффициент, называемый главным (или ведущим) элементом 2-го шага.\n",
    "\n",
    "Вычислим множители 2-го шага\n",
    "\n",
    "$\\mu_{i2} = \\cfrac{a_{i2}^{(1)}}{a_{22}^{(1)}} (i = 3, 4, \\ldots, m)$\n",
    "\n",
    "и вычтем последоватеьно из третьего, четвертого, $\\ldots$, $m$-г уравнений системы $(2)$ второе уравнение, умноженное соответственно на $\\mu_{32}, \\mu_{42}, \\ldots, \\mu_{m2}$. В результате получим систему\n",
    "\n",
    "$\\begin{equation*}\n",
    "\\begin{cases}\n",
    "a_{11} x_1 + a_{12} x_2 + a_{13} x_3 + \\ldots + a_{1m} x_m = b_1,\\\\\n",
    "\\qquad \\quad a_{22}^{(1)} x_2 + a_{23}^{(1)} x_3 + \\ldots + a_{2m}^{(1)} x_m = b_2^{(1)},\\\\\n",
    "\\qquad \\quad \\qquad \\quad a_{33}^{(2)} x_3 + \\ldots + a_{3m}^{(2)} x_m = b_3^{(2)},\\\\\n",
    "\\ldots \\ldots \\ldots \\ldots \\ldots \\ldots \\ldots \\ldots \\ldots \\ldots \\ldots \\ldots \\ldots \\qquad \\qquad \\qquad \\qquad \\qquad \\qquad (3)\\\\\n",
    "\\qquad \\quad \\qquad \\quad a_{m3}^{(2)} x_3 + \\ldots + a_{mm}^{(2)} x_m = b_m^{(2)}.\\\\\n",
    "\\end{cases}\n",
    "\\end{equation*}$\n",
    "\n",
    "Здесь $a_{ij}^{(2)}$ и $b_{i}^{(2)} (i, j = 3, 4, \\ldots, m)$ вычисляются по формулам\n",
    "\n",
    "$a_{ij}^{(2)} = a_{ij}^{(1)} - \\mu_{i2} a_{2j}^{(1)}, b_{i}^{(2)} = b_{i}^{(1)} - \\mu_{i2} b_{2}^{(1)}$.\n",
    "\n",
    "Аналогично проводятся остальные шаги. Опишем очередной $k$-й шаг.\n",
    "\n",
    "$k$-й шаг. В предположении, что главный (ведущий) элемент $k$-го шага $a_{kk}^{(k-1)}$ отличен от нуля, вычислим множители $k$-го шага\n",
    "\n",
    "$\\mu_{ik} = \\cfrac{a_{ik}^{(k-1)}}{a_{kk}^{(k-1)}} (i = k+1, \\ldots, m)$\n",
    "\n",
    "и вычтем последовательно из $(k+1)$-го, $\\ldots$, $m$-го уравнений полученной на предыдущем шаге системы $k$-е уравнение, умноженное соответственно на $\\mu_{k+1, k}, \\mu_{k+2, k}, \\ldots, \\mu_{mk}$.\n",
    "\n",
    "После $(m-1)$-го шага исключения получим систему уравнений\n",
    "\n",
    "$\\begin{equation*}\n",
    "\\begin{cases}\n",
    "a_{11} x_1 + a_{12} x_2 + a_{13} x_3 + \\ldots + a_{1m} x_m = b_1,\\\\\n",
    "\\qquad \\quad a_{22}^{(1)} x_2 + a_{23}^{(1)} x_3 + \\ldots + a_{2m}^{(1)} x_m = b_2^{(1)},\\\\\n",
    "\\qquad \\quad \\qquad \\quad a_{33}^{(2)} x_3 + \\ldots + a_{3m}^{(2)} x_m = b_3^{(2)},\\\\\n",
    "\\ldots \\ldots \\ldots \\ldots \\ldots \\ldots \\ldots \\ldots \\ldots \\ldots \\ldots \\ldots \\ldots \\qquad \\qquad \\qquad \\qquad \\qquad \\qquad (4)\\\\\n",
    "\\qquad \\quad \\qquad \\quad \\qquad \\quad \\quad a_{mm}^{(m-1)} x_m = b_m^{(m-1)},\\\\\n",
    "\\end{cases}\n",
    "\\end{equation*}$\n",
    "\n",
    "матрица $A^{(m-1)}$ которой является верхней треугольной. На этом вычисления прямого хода заканчиваются."
   ]
  },
  {
   "cell_type": "markdown",
   "metadata": {},
   "source": [
    "#### Обратный ход"
   ]
  },
  {
   "cell_type": "markdown",
   "metadata": {},
   "source": [
    "Из последнего уравнения системы $(4)$ находим $x_m$. Подставляя найденное значение $x_m$ в предпоследнее уравнение, получаем $x_{m-1}$. Осуществляя обратную подстановку, далее последовательно находим $x_{m-2}, x_{m-3}, \\ldots, x_1$. Вычисления неизвестных здесь проводятся по формулам\n",
    "\n",
    "$x_m = \\cfrac{b_{m}^{(m-1)}}{a_{mm}^{(m-1)}},$\n",
    "\n",
    "$x_k = \\cfrac{b_{k}^{(k-1)}-a_{k, k+1}^{(k-1)} x_{k+1} - \\ldots - a_{km}^{(k-1)} x_{m}}{a_{kk}^{(k-1)}} \\quad (k = m-1, \\ldots, 1).$"
   ]
  },
  {
   "cell_type": "markdown",
   "metadata": {},
   "source": [
    "### Задача 3.1.\n",
    "\n",
    "Дана система уравнение $Ax=b$ порядка $n$. Исследовать зависимость погрешности решения $x$ от погрешностей правой части системы $b$."
   ]
  },
  {
   "cell_type": "markdown",
   "metadata": {},
   "source": [
    "### Задание 1\n",
    "\n",
    "Задать матрицу системы $A$ и вектор правой части $b$. Составить программу, реализующую метод Гаусса (схема частичного выбора - выбор главного элемента по столбцу) для произвольной системы $Ax=b$. Используя составленную программу, найти решение заданной системы $Ax=b$. Используя встроенную функцию, найти решение x системы $Ax=b$ с помощью метода Гаусса."
   ]
  },
  {
   "cell_type": "markdown",
   "metadata": {},
   "source": [
    "Компоненты вектора $b$ задаются формулой $b_i = N, \\quad i = 1, \\ldots, n \\quad (n = 6),$\n",
    "\n",
    "$c = c_{ij} = 0,1 \\cdot N \\cdot i \\cdot j, \\quad \\forall i, j = 1, \\ldots, n, \\quad N$ - номер варианта $(N=7)$.\n",
    "\n",
    "$a_{ij} = \\cfrac{256}{(5 + c \\cdot 0,256)^5}$"
   ]
  },
  {
   "cell_type": "code",
   "execution_count": 1,
   "metadata": {
    "collapsed": true
   },
   "outputs": [],
   "source": [
    "import numpy as np\n",
    "import numpy.linalg as la\n",
    "import matplotlib.pyplot as plt\n",
    "from scipy import linalg\n",
    "from numpy import linalg\n",
    "%matplotlib inline"
   ]
  },
  {
   "cell_type": "code",
   "execution_count": 2,
   "metadata": {
    "collapsed": true
   },
   "outputs": [],
   "source": [
    "# генерация коэфф-тов a_{ij}\n",
    "def Coeff(N, i, j):\n",
    "    c = 0.1 * N * i * j\n",
    "    return 256 / (5+c*0.256)**5"
   ]
  },
  {
   "cell_type": "code",
   "execution_count": 3,
   "metadata": {
    "collapsed": true
   },
   "outputs": [],
   "source": [
    "# номер варианта\n",
    "N = 7\n",
    "# n - число уравнений\n",
    "n = 6"
   ]
  },
  {
   "cell_type": "code",
   "execution_count": 4,
   "metadata": {
    "collapsed": true
   },
   "outputs": [],
   "source": [
    "# массив A \n",
    "A = np.asarray([[Coeff(N, i, j) for i in range(1, n + 1)] for j in range(1, n + 1)])\n",
    "# вектор b\n",
    "b = np.full((n, 1), float(N)) # вектор из 7-рок"
   ]
  },
  {
   "cell_type": "code",
   "execution_count": 5,
   "metadata": {},
   "outputs": [
    {
     "name": "stdout",
     "output_type": "stream",
     "text": [
      "[[ 0.06869523  0.05795145  0.04916228  0.04192518  0.03592962  0.03093407]\n",
      " [ 0.05795145  0.04192518  0.03093407  0.02322575  0.01771135  0.01369583]\n",
      " [ 0.04916228  0.03093407  0.02024478  0.01369583  0.00953176  0.00679833]\n",
      " [ 0.04192518  0.02322575  0.01369583  0.00849452  0.00549277  0.00367823]\n",
      " [ 0.03592962  0.01771135  0.00953176  0.00549277  0.00334348  0.00212858]\n",
      " [ 0.03093407  0.01369583  0.00679833  0.00367823  0.00212858  0.00130012]]\n"
     ]
    }
   ],
   "source": [
    "print(A)"
   ]
  },
  {
   "cell_type": "markdown",
   "metadata": {},
   "source": [
    "## Схема частичного выбора\n",
    "\n",
    "На 1-м шаге метода среди элементов $a_{ij}$ определяют максимальный по модулю элемент $a_{i_{1} j_{1}}$. Первое уравнение системы и уравнение с новым параметром $i_1$ меняют местами. Далее стандартным образом производят исключение неизвестного $x_{j_{1}}$ из всех уравнений, кроме первого.\n",
    "\n",
    "На $k$-м шаге метода среди коэффициентов $a_{ij}^{(k-1)}$ при неизвестных в уравнениях системы с номерами $i = k, \\ldots, m$ выбирают максимальный по модулю коэффициент $\\large{a_{i_{k} j_{k}}^{(k-1)}}$. Затем $k$-е уравнение и уравнение, содержащее найденный коэффициент, меняют местами и исключают неизвестное $x_{j_{k}}$ из уравнений с номерами $i = k+1, \\ldots, m$.\n",
    "\n",
    "На этапе обратного хода неизвестные вычисляют в следующем порядке: $\\large{x_{j_{m}}, x_{j_{m-1}}, \\ldots, x_{j_{1}}}$"
   ]
  },
  {
   "cell_type": "code",
   "execution_count": 6,
   "metadata": {
    "collapsed": true
   },
   "outputs": [],
   "source": [
    "def Gauss_Method(A, b):\n",
    "    if A.shape[0] != A.shape[1]:\n",
    "        print('Матрица должна был квадратной.')\n",
    "        return -1\n",
    "    else:\n",
    "        n = A.shape[0]\n",
    "        Ab = np.hstack((A, b))\n",
    "        # прямой ход\n",
    "        # схема частичного выбора (выбор главного элемента - pivoting - по столбцу)\n",
    "        for k in range(n - 1):\n",
    "            p = np.argmax(abs(Ab[k:, k])) + k # ищем индекс максимального по модулю элемента\n",
    "            if Ab[p, k] == 0:\n",
    "                print('Матрица вырождена!')\n",
    "                return -1\n",
    "            # меняем местами k-е уравнение и уравнение с найденным элементом\n",
    "            Ab[[p, k], :] = Ab[[k, p], :]\n",
    "            mu = Ab[k + 1:, k] / Ab[k, k]\n",
    "            Ab[k + 1:, :] -= Ab[k, :] * mu[:, np.newaxis] # newaxis is used to increase the dimension \n",
    "                                                            # of the existing array by one more dimension, when used once\n",
    "        \n",
    "        # обратный ход\n",
    "        x = np.zeros((n, 1)) # создаем массив из нулей для заполнения корнями\n",
    "        x[n-1] = Ab[n-1, n] / Ab[n-1, n-1] # из последнего уравнения находим x_m\n",
    "        for k in range(n-2, -1, -1): # далее в цикле вычисляем снизу вверх остальные корни по формуле\n",
    "            x[k] = (Ab[k, -1] - np.dot(Ab[k, k + 1:n], x[k+1:])) / Ab[k, k]\n",
    "        \n",
    "        return x"
   ]
  },
  {
   "cell_type": "code",
   "execution_count": 7,
   "metadata": {},
   "outputs": [
    {
     "data": {
      "text/plain": [
       "array([[  1715.38141401],\n",
       "       [-12130.10702671],\n",
       "       [ 40418.13434796],\n",
       "       [-68845.50948246],\n",
       "       [ 57944.46040583],\n",
       "       [-19088.68444831]])"
      ]
     },
     "execution_count": 7,
     "metadata": {},
     "output_type": "execute_result"
    }
   ],
   "source": [
    "x = Gauss_Method(A, b)\n",
    "x"
   ]
  },
  {
   "cell_type": "markdown",
   "metadata": {},
   "source": [
    "#### Решение системы с помощью встроенной функции ```numpy.linalg.solve```\n",
    "\n",
    "https://docs.scipy.org/doc/numpy/reference/generated/numpy.linalg.solve.html"
   ]
  },
  {
   "cell_type": "code",
   "execution_count": 8,
   "metadata": {},
   "outputs": [
    {
     "data": {
      "text/plain": [
       "array([[  1715.381414  ],\n",
       "       [-12130.10702662],\n",
       "       [ 40418.13434759],\n",
       "       [-68845.50948172],\n",
       "       [ 57944.46040513],\n",
       "       [-19088.68444807]])"
      ]
     },
     "execution_count": 8,
     "metadata": {},
     "output_type": "execute_result"
    }
   ],
   "source": [
    "la.solve(A, b)"
   ]
  },
  {
   "cell_type": "markdown",
   "metadata": {},
   "source": [
    "#### Разница между результатами"
   ]
  },
  {
   "cell_type": "code",
   "execution_count": 9,
   "metadata": {},
   "outputs": [
    {
     "name": "stdout",
     "output_type": "stream",
     "text": [
      "[[ -7.07836989e-09]\n",
      " [  8.57962732e-08]\n",
      " [ -3.72267095e-07]\n",
      " [  7.43195415e-07]\n",
      " [ -6.94933988e-07]\n",
      " [  2.46523996e-07]]\n"
     ]
    }
   ],
   "source": [
    "expected = la.solve(A, b) # решения встроенного\n",
    "x_Gauss = Gauss_Method(A, b) # решение алгоритма\n",
    "print(expected - x_Gauss)"
   ]
  },
  {
   "cell_type": "markdown",
   "metadata": {},
   "source": [
    "Принимая решение, полученное с помощью ```lsolve```, за эталонное, вычислим абсолютную и относительную погрешность."
   ]
  },
  {
   "cell_type": "markdown",
   "metadata": {},
   "source": [
    "* Абсолютная погрешность:"
   ]
  },
  {
   "cell_type": "code",
   "execution_count": 10,
   "metadata": {},
   "outputs": [
    {
     "data": {
      "text/plain": [
       "7.4319541454315186e-07"
      ]
     },
     "execution_count": 10,
     "metadata": {},
     "output_type": "execute_result"
    }
   ],
   "source": [
    "np.linalg.norm(expected - x_Gauss, ord = np.inf)"
   ]
  },
  {
   "cell_type": "markdown",
   "metadata": {},
   "source": [
    "* Относительная погрешность:"
   ]
  },
  {
   "cell_type": "code",
   "execution_count": 11,
   "metadata": {},
   "outputs": [
    {
     "data": {
      "text/plain": [
       "1.0795118231211296e-11"
      ]
     },
     "execution_count": 11,
     "metadata": {},
     "output_type": "execute_result"
    }
   ],
   "source": [
    "np.linalg.norm(expected - x_Gauss, ord = np.inf)/np.linalg.norm(expected, ord = np.inf)"
   ]
  },
  {
   "cell_type": "markdown",
   "metadata": {},
   "source": [
    "### Задание 2\n",
    "\n",
    "С помощью встроенной функции ```cond(A)``` вычислить число обусловленности матрицы A."
   ]
  },
  {
   "cell_type": "markdown",
   "metadata": {},
   "source": [
    "#### Число обусловленности с помощью встроенной функции ```numpy.linalg.cond```\n",
    "\n",
    "https://docs.scipy.org/doc/numpy/reference/generated/numpy.linalg.cond.html"
   ]
  },
  {
   "cell_type": "code",
   "execution_count": 12,
   "metadata": {},
   "outputs": [
    {
     "data": {
      "text/plain": [
       "1914046.5731981399"
      ]
     },
     "execution_count": 12,
     "metadata": {},
     "output_type": "execute_result"
    }
   ],
   "source": [
    "la.cond(A)"
   ]
  },
  {
   "cell_type": "markdown",
   "metadata": {},
   "source": [
    "Обусловленность задачи - это чувствительность решения к погрешностям входных данных. В данном случае число обусловленности получилось довольно большим $\\Rightarrow$ *матрица плохо обусловлена*."
   ]
  },
  {
   "cell_type": "markdown",
   "metadata": {},
   "source": [
    "### Задание 3\n",
    "\n",
    "Принимая решение $x$, полученное в п.1, за точное, вычислитель вектор $d=(d_1, \\ldots, d_n)^T$, $d_i = \\cfrac{\\Vert x-x^i \\Vert_\\infty}{\\Vert x\\Vert_\\infty}, i = 1, \\ldots, n$, относительных погрешностей решений $x^i$ систем $Ax^i=b^i, i = 1, \\ldots, n$, где компоненты векторов $b^i$ вычисляются по формулам:\n",
    "\n",
    "$\\begin{equation*}\n",
    "b_{i}^{k} = \n",
    "\\begin{cases}\n",
    "b_k + \\Delta, & k = i,\\\\\n",
    " & \\quad \\qquad k = 1, \\ldots, n\\\\\n",
    "b_k, & k \\ne i,\\\\\n",
    "\\end{cases}\n",
    "\\end{equation*}$\n",
    "\n",
    "($\\Delta$ - произвольная величина погрешности)."
   ]
  },
  {
   "cell_type": "code",
   "execution_count": 13,
   "metadata": {
    "collapsed": true
   },
   "outputs": [],
   "source": [
    "def vector_d(A, b, delta):\n",
    "    x = Gauss_Method(A, b) # решение, полученное с помощью написанноо алгоритма - \"точное\" решение\n",
    "    d = np.zeros((b.shape[0],)) # массив из нулей для заполнения компонентами d\n",
    "    for i in range(0, A.shape[0]):\n",
    "        b1 = b.copy().astype('float64')\n",
    "        b1[i] = b1[i] + delta \n",
    "        d[i] = np.linalg.norm(x - np.linalg.solve(A, b1), np.inf)/(np.linalg.norm(x, np.inf)) # считаем погрешности\n",
    "    return d"
   ]
  },
  {
   "cell_type": "markdown",
   "metadata": {},
   "source": [
    "Возьмем $\\Delta = 0,01$"
   ]
  },
  {
   "cell_type": "code",
   "execution_count": 14,
   "metadata": {},
   "outputs": [
    {
     "data": {
      "text/plain": [
       "array([ 0.00645516,  0.07762367,  0.34201536,  0.70173548,  0.67171026,\n",
       "        0.24316852])"
      ]
     },
     "execution_count": 14,
     "metadata": {},
     "output_type": "execute_result"
    }
   ],
   "source": [
    "d = vector_d(A, b, 0.01)\n",
    "d"
   ]
  },
  {
   "cell_type": "markdown",
   "metadata": {},
   "source": [
    "### Задание 4\n",
    "На основе вычисленного вектора $d$ построить гистограмму. По гистограмме определить компоненты $b_m$ вектора $b$, которая оказывает наибольшее влияние на погрешность решения."
   ]
  },
  {
   "cell_type": "markdown",
   "metadata": {},
   "source": [
    "С помощью ```matplotlib.pyplot.bar```"
   ]
  },
  {
   "cell_type": "code",
   "execution_count": 15,
   "metadata": {},
   "outputs": [
    {
     "data": {
      "image/png": "[encoded data removed]",
      "text/plain": [
       "<matplotlib.figure.Figure at 0x1dc480d8080>"
      ]
     },
     "metadata": {},
     "output_type": "display_data"
    }
   ],
   "source": [
    "plt.bar(np.linspace(1, n, n), d) #  n = 6 по заданию\n",
    "plt.grid(True)"
   ]
  },
  {
   "cell_type": "markdown",
   "metadata": {},
   "source": [
    "#### Вывод\n",
    "\n",
    "По гистограмме видно, что наибольшее влияние на погрешность решения оказывает компонента $b_4$ вектора $b$."
   ]
  },
  {
   "cell_type": "markdown",
   "metadata": {},
   "source": [
    "### Задание 5\n",
    "Оценить теоретически погрешность решения $x^m$ по формуле: $\\large \\delta(x^m)\\le cond(A) \\cdot \\delta(b^m)$, где $\\large cond(A)$ - число обусловленности матрицы А, $\\large \\delta(b^{m})$ - относительная погрешность $\\large b^{m}$, $\\large \\delta(b^{m}) = \\frac{\\left\\lVert b-b^{m} \\right\\rVert_{\\infty}}{\\left\\lVert b\\right\\rVert_{\\infty}}$. Сравнить значение $\\large \\delta(x^m)$ со значением практической погрешности $d_m$. Объяснить полученные результаты."
   ]
  },
  {
   "cell_type": "code",
   "execution_count": 16,
   "metadata": {
    "collapsed": true
   },
   "outputs": [],
   "source": [
    "b4 = b.copy().astype('float64')\n",
    "b4[3] += 0.01"
   ]
  },
  {
   "cell_type": "markdown",
   "metadata": {},
   "source": [
    "$\\large \\delta(b^m):$"
   ]
  },
  {
   "cell_type": "code",
   "execution_count": 17,
   "metadata": {},
   "outputs": [
    {
     "data": {
      "text/plain": [
       "0.0014285714285713982"
      ]
     },
     "execution_count": 17,
     "metadata": {},
     "output_type": "execute_result"
    }
   ],
   "source": [
    "delta_b4 = np.linalg.norm(b - b4, np.inf)/(np.linalg.norm(b, np.inf))\n",
    "delta_b4"
   ]
  },
  {
   "cell_type": "markdown",
   "metadata": {},
   "source": [
    "$\\large cond(A) \\cdot \\delta(b^m):$"
   ]
  },
  {
   "cell_type": "code",
   "execution_count": 18,
   "metadata": {},
   "outputs": [
    {
     "data": {
      "text/plain": [
       "5712.8539841084958"
      ]
     },
     "execution_count": 18,
     "metadata": {},
     "output_type": "execute_result"
    }
   ],
   "source": [
    "np.linalg.cond(A, np.inf)*delta_b4"
   ]
  },
  {
   "cell_type": "markdown",
   "metadata": {},
   "source": [
    "Решение для $Ax=b$, где $b = (b_1, b_2, b_3, b_4 + \\Delta, b_5, b_6)$"
   ]
  },
  {
   "cell_type": "code",
   "execution_count": 19,
   "metadata": {},
   "outputs": [
    {
     "data": {
      "text/plain": [
       "array([[   2132.74593318],\n",
       "       [ -17383.8818274 ],\n",
       "       [  63964.35577053],\n",
       "       [-117156.84603844],\n",
       "       [ 104188.69578878],\n",
       "       [ -35829.74514417]])"
      ]
     },
     "execution_count": 19,
     "metadata": {},
     "output_type": "execute_result"
    }
   ],
   "source": [
    "x4 = la.solve(A, b4)\n",
    "x4"
   ]
  },
  {
   "cell_type": "markdown",
   "metadata": {},
   "source": [
    "$\\large \\delta(x^4)$\n",
    "\n",
    "*При вычислении этой относительной погрешности за истинное решение принимаем то, которое получено алгоритмом в п.1.*"
   ]
  },
  {
   "cell_type": "code",
   "execution_count": 20,
   "metadata": {},
   "outputs": [
    {
     "data": {
      "text/plain": [
       "0.70173547874292308"
      ]
     },
     "execution_count": 20,
     "metadata": {},
     "output_type": "execute_result"
    }
   ],
   "source": [
    "delta_x4 = np.linalg.norm(Gauss_Method(A, b) - x4, np.inf)/(np.linalg.norm(Gauss_Method(A, b), np.inf))\n",
    "delta_x4"
   ]
  },
  {
   "cell_type": "markdown",
   "metadata": {},
   "source": [
    "Неравенство: $\\large \\delta(x^4)\\le cond(A) \\cdot \\delta(b^4)$"
   ]
  },
  {
   "cell_type": "code",
   "execution_count": 21,
   "metadata": {},
   "outputs": [
    {
     "name": "stdout",
     "output_type": "stream",
     "text": [
      "0.701735478743 <= 5712.85398411\n"
     ]
    }
   ],
   "source": [
    "print(delta_x4, '<=', np.linalg.cond(A, np.inf)*delta_b4)"
   ]
  },
  {
   "cell_type": "markdown",
   "metadata": {},
   "source": [
    "Неравенство выполняется"
   ]
  },
  {
   "cell_type": "markdown",
   "metadata": {},
   "source": [
    "#### Вывод\n",
    "\n",
    "Так как число обусловленности очень большое, то матрица плохо обусловлена, а это значит, что незначительные изменения в правой части приводят к большой погрешности в решении."
   ]
  },
  {
   "cell_type": "markdown",
   "metadata": {},
   "source": [
    "# ツ"
   ]
  }
 ],
 "metadata": {
  "kernelspec": {
   "display_name": "Python 3",
   "language": "python",
   "name": "python3"
  },
  "language_info": {
   "codemirror_mode": {
    "name": "ipython",
    "version": 3
   },
   "file_extension": ".py",
   "mimetype": "text/x-python",
   "name": "python",
   "nbconvert_exporter": "python",
   "pygments_lexer": "ipython3",
   "version": "3.6.1"
  }
 },
 "nbformat": 4,
 "nbformat_minor": 2
}
