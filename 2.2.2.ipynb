{
 "cells": [
  {
   "cell_type": "markdown",
   "metadata": {},
   "source": [
    "Гаврилина Александра, группа БПМ152 (возможно, я нахожусь в списке 154 группы, т.к. переводилась, но сейчас я в 152)\n",
    "\n",
    "Вариант 7"
   ]
  },
  {
   "cell_type": "markdown",
   "metadata": {},
   "source": [
    "# 2.2.2: метод бисекции и метод Ньютона"
   ]
  },
  {
   "cell_type": "markdown",
   "metadata": {},
   "source": [
    "# Дано\n",
    "\n",
    "Найти указанный в варианте  корень уравнения $f(x)=0$ с точностью $\\varepsilon$,  двумя  способами.\n",
    "\n",
    "а) Использовать метод бисекции. Предварительно определить отрезок локализации  $[a, b]$.\n",
    "\n",
    "b) Использовать метод Ньютона. В качестве начального приближения для метода Ньютона взять  середину отрезка локализации из п. а).\n",
    "\n",
    "Сравнить число итераций в п. a), b).\n",
    "\n",
    "\n",
    "Вариант 7, задача 2.2.2\n",
    "\n",
    "$\\varepsilon = 10^{-6}$\n",
    "\n",
    "Функция $f(x) = x e^x - x - 1$\n",
    "\n",
    "Положительный корень"
   ]
  },
  {
   "cell_type": "markdown",
   "metadata": {},
   "source": [
    "# Теория\n",
    "\n",
    "## a) Метод бисекции\n",
    "\n",
    "Метод бисекции или метод деления отрезка пополам — простейший численный метод для решения нелинейных уравнений вида $f(x)=0.$ Предполагается только непрерывность функции $f(x)$. Поиск основывается на теореме о промежуточных значениях.\n",
    "\n",
    "### 1. Описание метода\n",
    "\n",
    "Пусть требуется с заданной точностью $\\varepsilon > 0$ найти корень $\\bar{x}$ уравнения $f(x)=0$. Отрезок локализации $[a, b]$ (т.е. отрезок, содержащий только один корень $\\bar{x}$) будем считать заданным. Предположим, что функция $f$ непрерына на отрезке $[a, b]$ и на его концах принимает значения разных знаков, т.е. $f(a) \\cdot f(b) < 0$.\n",
    "\n",
    "Для дальнейшего будет удобно обозначить отрезок $[a, b]$ через $[a^{(0)}, b^{(0)}]$. Примем за приближенное значение корня середину отрезка - точку $x^{(0)} = \\cfrac{a^{(0)} + b^{(0)}}{2}$. Так как положение корня $\\bar{x}$ на отрезке $[a^{(0)}, b^{(0)}]$ неизвестно, то можно лишь утверждать, что погрешность этого приближения не превышает половины длины отрезка: $\\vert x^{(0)} - \\bar{x}\\vert \\leqslant \\cfrac{b^{(0)}-a^{(0)}}{2}$.\n",
    "\n",
    "Уменьшить погрешность приближения можно, уточнив отрезок локализации, т.е. заменив начальный отрезок $[a^{(0)}, b^{(0)}]$ отрезком $[a^{(1)}, b^{(1)}]$ меньшей длины. Согласно $\\textbf{методу бисекции (половинного деления)}$ в качестве $[a^{(1)}, b^{(1)}]$ берут тот из отрезков $[a^{(0)}, x^{(0)}]$ и $[x^{(0)}, b^{(0)}]$, на концах которого выполняется условие $f(a^{(1)}) \\cdot f(b^{(1)}) \\leqslant 0$. Этот отрезок содержит искомый корень. Действительно, если $f(a^{(1)}) \\cdot f(b^{(1)}) < 0$, то наличие корня следует из теоремы:\n",
    "\n",
    "#### Пусть функция $f$ непрерывна на отрезке $[a, b]$ и принимает на его концах значения разных знаков, т.е. $f(a) \\cdot f(b) < 0$.$\\\\ $Тогда отрезок $[a, b]$ содержит по крайней мере один корень уравнения $f(x)=0$.\n",
    "\n",
    "\n",
    "Если же $f(a^{(1)}) \\cdot f(b^{(1)}) = 0$, то корнем является один из концов отрезка. \n",
    "\n",
    "Середина полученного отрезка $x^{(1)} = \\cfrac{a^{(1)}+b^{(1)}}{2}$ дает теперь приближение к корню, оценка погрешности которого составляет $\\vert x^{(1)} - \\bar{x}\\vert \\leqslant \\cfrac{b^{(1)}-a^{(1)}}{2} = \\cfrac{b-a}{2^2}$.\n",
    "\n",
    "За очередное уточнение отрезка локализации $[a^{(2)}, b^{(2)}]$ снова берут тот из отрезков $[a^{(1)}, x^{(1)}]$, $[x^{(1)}, b^{(1)}]$, на концах которого выполняется условие $f(a^{(2)}) \\cdot f(b^{(2)}) \\leqslant 0$.\n",
    "\n",
    "Опишем очередную $(n+1)$-ю итерацию метода. Пусть отрезок $[a^{(n)}, b^{(n)}]$ уже найден и вычислены значения $x^{(n)}, f(a^{(n)}), f(b^{(n)})$. Тогда производят следующие действия:\n",
    "\n",
    "$1^{\\circ}$. Вычисляют $f(x^{(n)})$.\n",
    "\n",
    "$2^{\\circ}$. Если $f(a^{(n)}) \\cdot f(b^{(n)}) \\leqslant 0$, то в качестве отрезка локализации $[a^{(n+1)}, b^{(n+1)}]$ принимают отрезок $[a^{(n)}, x^{(n)}]$. В противном случае $f(x^{(n)}) \\cdot f(b^{(n)}) < 0$ и за $[a^{(n+1)}, b^{(n+1)}]$ принимают отрезок $[x^{(n)}, b^{(n)}]$.\n",
    "\n",
    "$3^{\\circ}$. Вычисляют $x^{(n+1)} = \\cfrac{a^{(n+1)} + b^{(n+1)}}{2}$.\n",
    "\n",
    "Неограниченное продолжение итерационного процесса дает последовательность отрезков $[a^{(0)}, b^{(0)}]$, $[a^{(1)}, b^{(1)}]$, $\\ldots$, $[a^{(n)}, b^{(n)}]$, $\\ldots$, содержащих искомый корень. Каждый из них (за исключением начального) получен делением пополам предыдущего отрезка.\n",
    "\n",
    "### 2. Скорость сходимости\n",
    "\n",
    "Середина $n$-го отрезка - точка $x^{(n)}$ = $\\cfrac{a^{(n)} + b^{(n)}}{2}$ дает приближение к корню $\\bar{x}$, имеющее оценку погрешности $\\vert x^{(n)} - \\bar{x}\\vert \\leqslant \\cfrac{b^{(n)}-a^{(n)}}{2} = \\cfrac{b-a}{2^{n+1}}$.\n",
    "\n",
    "Из этой оценки видно, что метод бисекции сходится со скоростью геометрической прогрессии, заменатель которой $q = \\frac{1}{2}$. По сравнению с другими методами метод бисекции сходится довольно медленно. Однако он достаточно прост и весьма непритязателен; для его применения достаточно, что выполнялось неравенство $f(a) \\cdot f(b) < 0$, функция $f$ была непрерывна и верно определялся ее знак. В тех ситуациях, где не нужна сверхвысокая точность сходимости (а \n",
    "то часто имеет место при простых инженерных расчетах), этот метод весьма привлекателен.\n",
    "\n",
    "Заметим, что число итераций, которое требуется при применении метода бисекции для достижения разумной точности $\\varepsilon$, не может быть очень большим. Например, для уменьшения начального отрезка локализации в $10^6$ раз нужно 19 итераций.\n",
    "\n",
    "### 3. Критерий окончания\n",
    "\n",
    "Итерации следует вести до тех пор, пока не будет выполнено неравенство $b^{(n)} - a^{(n)} < 2 \\varepsilon$. При его выполнении можно принять $x^{(n)}$ за приближение к корню с точность $\\varepsilon$."
   ]
  },
  {
   "cell_type": "markdown",
   "metadata": {},
   "source": [
    "## b) Метод Ньютона\n",
    "\n",
    "Метод Ньютона, алгоритм Ньютона (также известный как метод касательных) — это итерационный численный метод нахождения корня (нуля) заданной функции.\n",
    "\n",
    "Основная идея метода заключается в следующем: задаётся начальное приближение вблизи предположительного корня, после чего строится касательная к графику исследуемой функции в точке приближения, для которой находится пересечение с осью абсцисс. Эта точка берётся в качестве следующего приближения. И так далее, пока не будет достигнута необходимая точность.\n",
    "\n",
    "### Расчетная формула метода Ньютона:\n",
    "\n",
    "$$x^{(n+1)}=x^{(n)}-\\cfrac{f(x^{(n)})}{f^\\prime(x^{(n)})}, n \\geqslant 0.$$\n",
    "\n",
    "### Критерий окончания\n",
    "\n",
    "При заданной точности $\\varepsilon > 0$ вычисления нужно вести до тех пор, пока не окажется выполненным неравенство\n",
    "\n",
    "$$\\vert x^{(n)} - x^{(n-1)} \\vert < \\varepsilon.$$"
   ]
  },
  {
   "cell_type": "code",
   "execution_count": 2,
   "metadata": {
    "collapsed": true
   },
   "outputs": [],
   "source": [
    "import numpy as np\n",
    "import matplotlib.pyplot as plt\n",
    "import math\n",
    "import scipy.optimize\n",
    "%matplotlib inline"
   ]
  },
  {
   "cell_type": "markdown",
   "metadata": {},
   "source": [
    "# a) Метод бисекции"
   ]
  },
  {
   "cell_type": "code",
   "execution_count": 47,
   "metadata": {
    "collapsed": true
   },
   "outputs": [],
   "source": [
    "def sign(a, b):\n",
    "        return a * b > 0"
   ]
  },
  {
   "cell_type": "code",
   "execution_count": 63,
   "metadata": {
    "collapsed": true
   },
   "outputs": [],
   "source": [
    "def bisection(a, b, eps, func):\n",
    "    an = a\n",
    "    bn = b\n",
    "    k = 0\n",
    "    while (bn - an) > 2*eps:\n",
    "        xn = (an + bn)/2.0\n",
    "        if sign(func(b), func(xn)):\n",
    "            bn = xn\n",
    "        else:\n",
    "            an = xn\n",
    "        k = k + 1\n",
    "    xn = (an + bn)/2.0\n",
    "    return xn, k"
   ]
  },
  {
   "cell_type": "code",
   "execution_count": 55,
   "metadata": {
    "collapsed": true
   },
   "outputs": [],
   "source": [
    "f = lambda x: x*math.exp(x) - x - 1"
   ]
  },
  {
   "cell_type": "code",
   "execution_count": 64,
   "metadata": {},
   "outputs": [
    {
     "data": {
      "text/plain": [
       "(0.8064661026000977, 18)"
      ]
     },
     "execution_count": 64,
     "metadata": {},
     "output_type": "execute_result"
    }
   ],
   "source": [
    "eps = math.pow(10, -6)\n",
    "x_pos = bisection(0.5, 1, eps, f)\n",
    "x_pos"
   ]
  },
  {
   "cell_type": "markdown",
   "metadata": {},
   "source": [
    "$\\textbf{18 итераций}$"
   ]
  },
  {
   "cell_type": "code",
   "execution_count": 66,
   "metadata": {},
   "outputs": [
    {
     "data": {
      "text/plain": [
       "<matplotlib.collections.PathCollection at 0x298d3006198>"
      ]
     },
     "execution_count": 66,
     "metadata": {},
     "output_type": "execute_result"
    },
    {
     "data": {
      "image/png": "[encoded data removed]",
      "text/plain": [
       "<matplotlib.figure.Figure at 0x298d1e75e10>"
      ]
     },
     "metadata": {},
     "output_type": "display_data"
    }
   ],
   "source": [
    "x, s = np.linspace(-1.5, 2, 30, retstep = True)\n",
    "fx = x*np.exp(x) - x - 1\n",
    "plt.plot(x, fx)\n",
    "plt.grid(True)\n",
    "plt.scatter(0.8064661026000977, 0)"
   ]
  },
  {
   "cell_type": "markdown",
   "metadata": {},
   "source": [
    "# b) Метод Ньютона\n",
    "\n",
    "В качестве начального приближения $-$ середина отрезка локализации пункта $a)$: $[0.5, 1]$, то есть $x_0 = 0.75$.\n",
    "\n",
    "Функция: $f(x) = x e^x - x - 1$\n",
    "\n",
    "Производная функции: $f^\\prime = e^x(x+1)-1$"
   ]
  },
  {
   "cell_type": "code",
   "execution_count": 41,
   "metadata": {
    "collapsed": true
   },
   "outputs": [],
   "source": [
    "eps = math.pow(10, -6)"
   ]
  },
  {
   "cell_type": "code",
   "execution_count": 4,
   "metadata": {
    "collapsed": true
   },
   "outputs": [],
   "source": [
    "f = lambda x: x*math.exp(x) - x - 1\n",
    "f1 = lambda x: math.exp(x)*(x+1) - 1"
   ]
  },
  {
   "cell_type": "code",
   "execution_count": 38,
   "metadata": {
    "collapsed": true
   },
   "outputs": [],
   "source": [
    "def Newton_method(x0, f, df, eps):\n",
    "    k=0\n",
    "    while True:\n",
    "        x1 = x0 - (f(x0) / f1(x0))\n",
    "        if abs(x1 - x0) < eps:\n",
    "            return x1, k\n",
    "        x0 = x1\n",
    "        k+=1"
   ]
  },
  {
   "cell_type": "code",
   "execution_count": 44,
   "metadata": {},
   "outputs": [
    {
     "data": {
      "text/plain": [
       "(0.8064659942363269, 3)"
      ]
     },
     "execution_count": 44,
     "metadata": {},
     "output_type": "execute_result"
    }
   ],
   "source": [
    "x2 = Newton_method(0.75, f, f1, eps)\n",
    "x2"
   ]
  },
  {
   "cell_type": "code",
   "execution_count": 45,
   "metadata": {},
   "outputs": [
    {
     "data": {
      "text/plain": [
       "<matplotlib.text.Text at 0x1cfbb99f780>"
      ]
     },
     "execution_count": 45,
     "metadata": {},
     "output_type": "execute_result"
    },
    {
     "data": {
      "image/png": "[encoded data removed]",
      "text/plain": [
       "<matplotlib.figure.Figure at 0x1cfb6832ac8>"
      ]
     },
     "metadata": {},
     "output_type": "display_data"
    }
   ],
   "source": [
    "x = np.linspace(0.5, 1)\n",
    "fx = x*np.exp(x) - x - 1\n",
    "plt.plot(x, fx)\n",
    "plt.grid(True)\n",
    "plt.scatter(x2[0], 0, c='r')\n",
    "plt.xlabel(r'$x$', fontsize=30)\n",
    "plt.ylabel(r'$f(x)$', fontsize=30)\n",
    "plt.title('f(x) = x e^x - x - 1')"
   ]
  }
 ],
 "metadata": {
  "kernelspec": {
   "display_name": "Python 3",
   "language": "python",
   "name": "python3"
  },
  "language_info": {
   "codemirror_mode": {
    "name": "ipython",
    "version": 3
   },
   "file_extension": ".py",
   "mimetype": "text/x-python",
   "name": "python",
   "nbconvert_exporter": "python",
   "pygments_lexer": "ipython3",
   "version": "3.6.1"
  }
 },
 "nbformat": 4,
 "nbformat_minor": 2
}
