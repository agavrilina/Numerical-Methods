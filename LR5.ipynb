{
 "cells": [
  {
   "cell_type": "markdown",
   "metadata": {},
   "source": [
    "### Гаврилина Александра, группа БПМ152 \n",
    "Вариант 7: задача 5.1.7 + 5.2"
   ]
  },
  {
   "cell_type": "markdown",
   "metadata": {},
   "source": [
    "# ЛАБОРАТОРНАЯ РАБОТА 5\n",
    "\n",
    "## РЕШЕНИЕ СИСТЕМ ЛИНЕЙНЫХ АЛГЕБРАИЧЕСКИХ УРАВНЕНИЙ ИТЕРАЦИОННЫМИ МЕТОДАМИ"
   ]
  },
  {
   "cell_type": "markdown",
   "metadata": {},
   "source": [
    "Задача 5.1. Дана система уравнений $Ax=b$. Найти решение системы с помощью метода Гаусса. Выполнить $10$ итераций по методу Зейделя. Принимая решение, полученное с помощью метода Гаусса за точное, найти величину абсолютной погрешности итерационного решения.\n",
    "\n",
    "ПОРЯДОК РЕШЕНИЯ ЗАДАЧИ:\n",
    "\n",
    "1. Задать матрицу системы $A$ и вектор правой части $b$. Используя встроенную функцию ```lsolve```, найти решение системы $Ax=b$ с помощью метода Гаусса.\n",
    "\n",
    "2. Преобразовать систему $Ax=b$ к виду $x=Bx+c$, удобному для итераций. Проверить выполнение достаточного условия сходимости итерационных методов $\\Vert B \\Vert_{\\infty} < 1$.\n",
    "\n",
    "3. Используя самостоятельно написанную функцию, выполнить $10$ итераций по методу Зейделя; взять любое начальное приближение. Принимая решение, полученное в п. 1 за точное, найти величину абсолютной погрешности итерационного решения (использовать норму $\\Vert \\cdotp \\Vert_{\\infty}$).\n",
    "\n",
    "4. Взять другое начальное приближение. Объяснить полученные результаты.\n",
    "\n",
    "Задача 5.2. Для системы уравнений $Ax=b$ из задачи 5.1 найти решение по методу Зейделя с точностью $\\varepsilon=10^{-6}$, взяв любое начальное приближение. Для этого модифицировать написанную функцию так, чтобы решение вычислялось с заданной точностью $\\varepsilon$. Предусмотреть подсчет количества итераций, потребовавшихся для достижения точности $\\varepsilon$."
   ]
  },
  {
   "cell_type": "markdown",
   "metadata": {},
   "source": [
    "# ТЕОРИЯ"
   ]
  },
  {
   "cell_type": "markdown",
   "metadata": {},
   "source": [
    "## Метод простой итерации\n",
    "\n",
    "### 1. Приведение системы к виду, удобному для итераций\n",
    "\n",
    "Для того, чтобы применить метод простой итерации к решению СЛАУ $Ax=b \\qquad (1)$ \n",
    "\n",
    "с квадратной невырожденной матрицей $A$, необходимо предварительно преобразовать эту систему к виду $x = Bx + c$.\n",
    "\n",
    "Здесь $B$ - квадратная матрица с элементами $b_{ij} \\quad (i, j = 1, 2, \\ldots, m); c$ - вектор-столбец с элементами $c_i \\quad (i = 1, 2, \\ldots, m)$.\n",
    "\n",
    "В развернутой форме эта система имеет вид:\n",
    "\n",
    "$\\begin{cases}\n",
    "x_{1} = b_{11}x_{1} + b_{12}x_{2} + b_{13}x_{3} + ... + b_{1m}x_{m} + c_{1},\\\\\n",
    "x_{2} = b_{21}x_{1} + b_{22}x_{2} + b_{23}x_{3} + ... + b_{2m}x_{m} + c_{2},\\\\\n",
    "\\ldots \\quad \\ldots \\quad \\ldots \\quad \\ldots \\quad \\ldots \\quad \\ldots  \\quad \\ldots\\quad \\ldots\\quad  \\quad \\quad \\quad  (2)\\\\\n",
    "x_{n} = b_{m1}x_{1} + b_{m2}x_{2} + b_{m3}x_{3} + ... + b_{mm}x_{m} + c_{m}.\\\\\n",
    "\\end{cases}$\n",
    "\n",
    "Самый простой способ приведения системы к виду, удобному для итераций, состоит в следующем. \n",
    "\n",
    "* из первого уравнения системы выражаем $x_{1}$\n",
    "\n",
    "$x_{1} = a_{11}^{-1}(b_{1} - a_{12}x_{1} - a_{13}x_{2} - a_{13}x_{3} - ... - a_{1m}x_{m})$,\n",
    "\n",
    "* из второго уравнения системы выражаем $x_{2}$\n",
    "\n",
    "$x_{2} = a_{22}^{-1}(b_{2} - a_{21}x_{1} - a_{23}x_{2} - a_{33}x_{3} - ... - a_{3m}x_{m})$.\n",
    "\n",
    "В результате получим систему:\n",
    "\n",
    "$\\begin{cases}\n",
    "x_{1} = \\qquad\\quad b_{1,2}x_{2} + b_{1,3}x_{3} + \\dotsb + b_{1, n}x_{n} + c_{1},\\\\\n",
    "x_{2} = b_{2,1}x_{1} + \\qquad\\quad b_{2,3}x_{3} + \\dotsb + b_{2, n}x_{n} + c_{2},\\\\\n",
    "x_{3} = b_{3,1}x_{1} + b_{3,2}x_{2}  \\qquad\\quad + \\dotsb + b_{2, n}x_{n} + c_{2},\\\\\n",
    "\\dots \\quad \\dots \\quad \\dots \\quad \\dots \\quad \\dots \\dots \\quad \\dots \\dots \\quad \\dots  \\qquad \\qquad (2)\\\\\n",
    "x_{n} = b_{n,1}x_{1} + b_{n,2}x_{2} + b_{n,3}x_{3} + ... \\qquad \\quad +c_{n},\\\\\n",
    "\\end{cases}$\n",
    "\n",
    "в которой на главной диагонали стоят *нулевые* элементы.Остальные выражаются по формулам: $b_{ij} = \\cfrac{-a_{ij}}{a_{ii}}, c_{i} = \\cfrac{b_{i}}{a_{ii}}, \\quad i, j = 1, \\ldots, n, i \\neq j$.\n",
    "\n",
    "Конечно, для выполнения данного преобразования *необходимо*, чтобы диагональные элементы матрицы А были *ненулевыми*.\n",
    "\n",
    "### 2. Описание метода простой итерации\n",
    "\n",
    "Выберем начальное приближение $\\large x^{(0)} = (x_{1}^{(0)}, x_{2}^{(0)}, \\ldots, x_{m}^{(0)})$. Подставляя его в правую часть системы $(2)$ и вычисляя полученное выражение, находим первое приближение\n",
    "\n",
    "$$x^{(1)} = B x^{(0)} + c.$$\n",
    "\n",
    "Подставляя приближение $x^{(1)}$ в правую часть системы $(2)$, получаем:\n",
    "\n",
    "$$x^{(2)} = B x^{(1)} + c.$$\n",
    "\n",
    "Продолжая этот процесс далее, получаем последовательность $x^{(0)}, x^{(1)}, \\ldots, x^{(n)}, \\ldots$ приближений, вычисляемых по формуле\n",
    "\n",
    "$$x^{(k+1)} = B x^{(k)} + c, \\quad k = 0, 1, 2, \\ldots .$$\n",
    "\n",
    "\n",
    "### 3. Апостериорная оценка погрешности\n",
    "\n",
    "В качестве критеория окончания итерационного процесса может быть использовано неравенство\n",
    "\n",
    "$\\Vert x^{(n)} - x^{(n-1)}\\Vert < \\varepsilon_1, \\quad \\varepsilon_1 = \\cfrac{1 - \\Vert B \\Vert}{\\Vert B \\Vert} \\varepsilon$.\n",
    "\n",
    "## Метод Зейделя\n",
    "\n",
    "### 1. Описание метода\n",
    "\n",
    "Пусть система $Ax=b$ приведена к виду \n",
    "\n",
    "$\\begin{equation*}\n",
    "\\begin{cases}\n",
    "x_1 = \\qquad \\quad b_{12} x_2 + b_{13} x_3 + \\ldots + b_{1,m-1} x_{m-1} + b_{1m} x_{m} +  c_1,\\\\\n",
    "x_2 = b_{21} x_1 \\qquad \\quad + b_{23} x_3 + \\ldots + b_{2,m-1} x_{m-1} + b_{2m} x_{m} +  c_2,\\\\\n",
    "x_3 = b_{31} x_1 + b_{32} x_2 \\qquad \\quad  + \\ldots + b_{3,m-1} x_{m-1} + b_{3m} x_{m} + c_3,\\\\\n",
    "\\ldots \\ldots \\ldots \\ldots \\ldots \\ldots \\ldots \\ldots \\ldots \\ldots \\ldots \\ldots \\ldots \\ldots \\ldots \\ldots \\ldots \\ldots \\ldots \\ldots  \\qquad \\qquad \\qquad \\qquad \\qquad \\qquad (3)\\\\\n",
    "x_m = b_{m1} x_1 + b_{m2} x_2 + b_{m3} x_3 +\\ldots + b_{m,m-1} x_{m-1}  \\qquad + c_m,\\\\\n",
    "\\end{cases}\n",
    "\\end{equation*}$\n",
    "\n",
    "с коэффициентами, вычисленными по формулам \n",
    "\n",
    "$$b_{ij} = -\\cfrac{a_{ij}}{a_{ii}}, \\quad c_{i} = \\cfrac{b_{i}}{a_{ii}} \\quad (i, j = 1, 2, \\ldots, m, \\quad j \\ne i). \\quad \\qquad \\qquad \\qquad \\quad (4)$$\n",
    "\n",
    "Метод Зейделя можно рассматривать как модификацию метода Якоби. Основная идея модификации состоит в том, что при вычислении очередного $(k+1)$-го приближения к неизвестному $x_i$ при $i>1$ используют уже найденные $(k+1)$-е приближения к неизвестным $x_1, \\ldots, x_{i-1}$, а не $k$-е приближения, как в методе Якоби. Новые значения $x^{(k)}$ используются здесь сразу же по мере получения, в то время как в методе Якоби они не используются до следующей итерации.\n",
    "\n",
    "На $(k+1)$-ой итерации компоненты приближения $\\large x^{k+1}$ вычисляются по формулам:\n",
    "\n",
    "$\\begin{cases}\n",
    "x_{1} = \\quad\\quad\\quad\\quad b_{12}x_{2}^{(k)} + b_{13}x_{3}^{(k)} + \\ldots + b_{1m}x_{m}^{(k)} + c_{1},\\\\\n",
    "x_{2} = b_{21}x_{1}^{(k+1)} \\quad\\quad\\quad + b_{23}x_{3}^{(k)} + \\ldots + b_{2m}x_{m}^{(k)} + c_{2},\\\\\n",
    "x_{3} = b_{31}x_{1}^{(k+1)} + b_{32}x_{2}^{(k+1)}  \\quad \\quad + \\ldots + b_{3m}x_{m}^{(k)} + c_{3},\\\\\n",
    "\\ldots \\quad \\ldots \\quad \\ldots \\quad \\ldots \\quad \\ldots \\quad \\ldots \\quad \\ldots \\quad \\ldots \\quad \\ldots \\quad \\quad\\quad\\quad (5)\\\\\n",
    "x_{m} = b_{m1}x_{1}^{(k+1)} + b_{m2}x_{2}^{(k+1)} + b_{m3}x_{3}^{(k+1)} + \\ldots \\quad + c_{m}.\\\\\n",
    "\\end{cases}$\n",
    "\n",
    "Введем верхнюю и нижнюю треугольные матрицы:\n",
    "\n",
    "$B_{1} = \n",
    "\\begin{bmatrix}\n",
    "    0       & 0 & 0 & \\dots & 0 \\\\\n",
    "    b_{21}       & 0 & 0 & \\dots & 0 \\\\\n",
    "    b_{31}       & b_{32} & 0 & \\dots & 0 \\\\\n",
    "    \\ldots  & \\ldots & \\ldots  & \\dots & \\ldots \\\\\n",
    "    b_{m1}       & b_{m2} & b_{m3} & \\dots & 0\\\\\n",
    "\\end{bmatrix}, \\qquad $\n",
    "$B_{2} = \n",
    "\\begin{bmatrix}\n",
    "    0     & b_{12} & b_{13} & \\dots & b_{1m}\\\\\n",
    "    0     & 0       & b_{23} & \\dots & b_{2m} \\\\\n",
    "    0     & 0       & 0       & \\dots & b_{3m} \\\\\n",
    "    \\ldots  & \\ldots & \\ldots  & \\dots & \\ldots \\\\\n",
    "    0     & 0       & 0       & \\dots & 0 \\\\\n",
    "\\end{bmatrix}$\n",
    "\n",
    "Тогда расчетные формулы\n",
    "\n",
    "$$x^{(k+1)} = B_1 x^{(k+1)} + B_2 x^{(k)} + c.$$\n",
    "\n",
    "Заметим, что $B = B_1 + B_2$ и поэтому решение $\\bar{x}$ исходной системы удовлетворяет равенству\n",
    "\n",
    "$$\\bar{x} = B_1 \\bar{x} + B_2 \\bar{x} + c.$$\n",
    "\n",
    "\n",
    "### 2. Достаточные условия сходимости\n",
    "\n",
    "#### Теорема\n",
    "Пусть $\\Vert B \\Vert < 1$, где $\\Vert B \\Vert$ - одна из норм $\\Vert B \\Vert_{\\infty}, \\Vert B \\Vert_{1}$. Тогда при любом выборе начального приближения $x^{(0)}$ метод Зейделя сходится со скоростью геометрической прогрессии, знаменатель которой $q \\le \\Vert B \\Vert$.\n",
    "\n",
    "#### Теорема\n",
    "Пусть выполнено условие\n",
    "\n",
    "$$\\Vert B_1 \\Vert + \\Vert B_2 \\Vert < 1.$$\n",
    "\n",
    "Тогда при любом выборе начального приближения метод Зейделя сходится и верна оценка погрешности\n",
    "\n",
    "$$\\Vert x^{(n)} - \\bar{x}\\Vert \\le q^n \\Vert x^{(0)} - \\bar{x}\\Vert,$$\n",
    "\n",
    "где $q = \\cfrac{\\Vert B_2 \\Vert}{1 - \\Vert B_1 \\Vert}< 1$.\n",
    "\n",
    "Особо выделим часто встречающийся на практике случай систем с симметричными положительно определенными матрицами.\n",
    "\n",
    "#### Теорема\n",
    "Пусть $A$ - симметричная положительно определенная матрица. Тогда при любом выборе начального приближения $x^{(0)}$ метод Зейделя сходится со скоростью геометрической сходимости.\n",
    "\n",
    "\n",
    "### 3. Апостериорная оценка погрешности\n",
    "\n",
    "Если выполнено условие $\\Vert B \\Vert < 1$, то для метода Зейделя справедлива апостериорная оценка погрешности\n",
    "\n",
    "$$\\Vert x^{(n)} - \\bar{x} \\Vert \\le \\cfrac{\\Vert B_2 \\Vert}{1-\\Vert B \\Vert} \\Vert x^{(n)} - x^{(n-1)} \\Vert, \\quad n \\ge 1.$$\n",
    "\n",
    "Это неравенство позволяет сфомулировать простой критерий окончания итерационного процесса. Если требуется найти решение с точность $\\varepsilon > 0$, то итерации метода Зейделя следует вести до выполнения неравенства $\\cfrac{\\Vert B_2 \\Vert}{1-\\Vert B \\Vert} \\Vert x^{(n-1)} - x^{(n)} \\Vert < \\varepsilon$ или эквивалентного ему неравенства\n",
    "\n",
    "$$\\Vert x^{(n)} - x^{(n-1)} \\Vert < \\varepsilon_2,$$\n",
    "\n",
    "где $\\varepsilon_2 = \\cfrac{1-\\Vert B \\Vert}{\\Vert B_2 \\Vert} \\varepsilon$."
   ]
  },
  {
   "cell_type": "markdown",
   "metadata": {},
   "source": [
    "### 4. Геометрическая интерпретация метода\n",
    "\n",
    "Приведем геометрическую интерпретацию метода Зейделя при $m = 2$, т.е. когда он применяется для решения системы\n",
    "\n",
    "$\\begin{equation*}\n",
    "\\begin{cases}\n",
    "a_{11} x_1 + a_{12} x_2 = b_1,\\\\\n",
    "a_{21} x_1 + a_{22} x_2 = b_2.\\\\\n",
    "\\end{cases}\n",
    "\\end{equation*}$\n",
    "\n",
    "Первое уравнение задает на плоскости $x_1 O x_2$ прямую $l_1$, второе - прямую $l_2$ (см. рис.).\n",
    "\n",
    "Расчетные формулы метода принимают вид:\n",
    "\n",
    "$\\begin{cases}\n",
    "x_{1}^{(k+1)} = \\quad\\quad\\qquad b_{12} x_{2}^{(k)} + c_1,\\\\\n",
    "x_{2}^{(k+1)} = b_{21} x_{1}^{(k+1)}\\qquad\\quad+ c_2,\\\\\n",
    "\\end{cases}$\n",
    "\n",
    "где\n",
    "\n",
    "$ b_{12} = -\\cfrac{a_{12}}{a_{11}}, \\quad c_{1} = \\cfrac{b_{1}}{a_{11}}, \\quad b_{21} = -\\cfrac{a_{21}}{a_{22}}, \\quad c_{2} = \\cfrac{b_{2}}{a_{22}}.$\n",
    "\n",
    "Пусть приближение $x^{k}$ уже найдено. Тогда при определении $x_1^{(k+1)}$ координата $x_2 = x_2^{(k)}$ фиксируется и точка $x$ перемещается параллельно оси $O x_1$ до пересечения с прямой $l_1$. Координата $x_1$ точки пересечения принимается за $x_1^{(k+1)}$. Затем точка $x$ перемещается вдоль прямой $x_1 = x_1^{(k+1)}$ до пересечения с прямой $l_2$. Координата $x_2$ точки пересечения принимается за $x_2^{(k+1)}$.\n",
    "\n",
    "На рисунке приведены геометрические иллюстрации, отвечающие сходящемуся и расходящемуся итерационному процессу Зейделя. Видно, что характер сходимости может измениться при перестановке уравнений."
   ]
  },
  {
   "cell_type": "code",
   "execution_count": 1,
   "metadata": {
    "collapsed": true
   },
   "outputs": [],
   "source": [
    "import numpy as np\n",
    "import matplotlib.image\n",
    "import matplotlib.pyplot as plt\n",
    "import math\n",
    "from numpy import linalg\n",
    "%matplotlib inline\n",
    "from IPython.display import Image\n",
    "from IPython.core.display import HTML "
   ]
  },
  {
   "cell_type": "markdown",
   "metadata": {},
   "source": [
    "![](https://psv4.userapi.com/c834600/u120800213/docs/d12/9e43f403d8fb/zeid_geom.png?extra=RB-53bLv6KMyfF6xnEOD4UPMp83r8hq7VccVe4qFFniepqaDf4hPdUlZBjYBKk6o_Kcf3nIjePr4tNbR3UOws-Umj_OCVcn1rfxLF_UzrF-es0BHdAYnvbY7PvAJioywtU-E0yX00WIql07Z)"
   ]
  },
  {
   "cell_type": "markdown",
   "metadata": {},
   "source": [
    "# Программа"
   ]
  },
  {
   "cell_type": "markdown",
   "metadata": {
    "collapsed": true
   },
   "source": [
    "### Задача 5.1. Дана система уравнений $Ax=b$. Найти решение системы с помощью метода Гаусса. Выполнить $10$ итераций по методу Зейделя. Принимая решение, полученное с помощью метода Гаусса за точное, найти величину абсолютной погрешности итерационного решения.\n",
    "\n",
    "#### 1) Задать матрицу системы  $A$  и вектор правой части $b$.\n",
    "\n",
    "Их задаем в соответствии с вариантом в методичке."
   ]
  },
  {
   "cell_type": "code",
   "execution_count": 2,
   "metadata": {
    "collapsed": true
   },
   "outputs": [],
   "source": [
    "A = np.array([[4.95, 1.12, 2.9, 0.66], [8.91, 19.9, -4.0, 6.93], [-2.97, 2.2, -5.8, 0], [5.94, 1.3, 10.5, 17.82]])\n",
    "# вектор-строка\n",
    "b = np.array([-3.41, 50.33, 19.49, -45.88])\n",
    "# вектор-столбец\n",
    "b_row = b.reshape(-1, 1)"
   ]
  },
  {
   "cell_type": "code",
   "execution_count": 3,
   "metadata": {},
   "outputs": [
    {
     "data": {
      "text/plain": [
       "array([[  4.95,   1.12,   2.9 ,   0.66],\n",
       "       [  8.91,  19.9 ,  -4.  ,   6.93],\n",
       "       [ -2.97,   2.2 ,  -5.8 ,   0.  ],\n",
       "       [  5.94,   1.3 ,  10.5 ,  17.82]])"
      ]
     },
     "execution_count": 3,
     "metadata": {},
     "output_type": "execute_result"
    }
   ],
   "source": [
    "A"
   ]
  },
  {
   "cell_type": "code",
   "execution_count": 4,
   "metadata": {},
   "outputs": [
    {
     "data": {
      "text/plain": [
       "array([ -3.41,  50.33,  19.49, -45.88])"
      ]
     },
     "execution_count": 4,
     "metadata": {},
     "output_type": "execute_result"
    }
   ],
   "source": [
    "b"
   ]
  },
  {
   "cell_type": "markdown",
   "metadata": {},
   "source": [
    "#### Система уравнений"
   ]
  },
  {
   "cell_type": "code",
   "execution_count": 5,
   "metadata": {},
   "outputs": [
    {
     "name": "stdout",
     "output_type": "stream",
     "text": [
      "[(4.95)*x1 + (1.12)*x2 + (2.9)*x3 + (0.66)*x4] = [-3.41]\n",
      "[(8.91)*x1 + (19.9)*x2 + ( -4)*x3 + (6.93)*x4] = [50.33]\n",
      "[(-2.97)*x1 + (2.2)*x2 + (-5.8)*x3 + (  0)*x4] = [19.49]\n",
      "[(5.94)*x1 + (1.3)*x2 + (10.5)*x3 + (17.82)*x4] = [-45.88]\n"
     ]
    }
   ],
   "source": [
    "for i in range(A.shape[0]):\n",
    "    row = [\"({0:3g})*x{1}\".format(A[i, j], j + 1) for j in range(A.shape[1])]\n",
    "    print(\"[{0}] = [{1:3g}]\".format(\" + \".join(row), b[i]))"
   ]
  },
  {
   "cell_type": "markdown",
   "metadata": {},
   "source": [
    "Используя встроенную функцию ```np.linalg.solve```, найти решение системы  $Ax=b$  с помощью метода Гаусса."
   ]
  },
  {
   "cell_type": "code",
   "execution_count": 6,
   "metadata": {},
   "outputs": [
    {
     "data": {
      "text/plain": [
       "array([ 0.77777778,  2.        , -3.        , -1.21212121])"
      ]
     },
     "execution_count": 6,
     "metadata": {},
     "output_type": "execute_result"
    }
   ],
   "source": [
    "x_Gauss = np.linalg.solve(A, b)\n",
    "x_Gauss"
   ]
  },
  {
   "cell_type": "markdown",
   "metadata": {},
   "source": [
    "#### 2) Преобразовать систему $Ax=b$ к виду $x=Bx+c$, удобному для итераций. Проверить выполнение достаточного условия сходимости итерационных методов $\\Vert B \\Vert_{\\infty} < 1$."
   ]
  },
  {
   "cell_type": "code",
   "execution_count": 7,
   "metadata": {
    "collapsed": true
   },
   "outputs": [],
   "source": [
    "c = np.zeros_like(b)\n",
    "B1 = np.zeros((4, 4))\n",
    "B2 = np.zeros((4, 4))\n",
    "for i in range(A.shape[0]): # считаем коэфф-ты по формулам из теории выше\n",
    "    B1[i, :i] = A[i, :i] / A[i, i]\n",
    "    B2[i, i+1:] += A[i, i + 1:] / A[i, i]\n",
    "    c[i] = b[i] / A[i, i]"
   ]
  },
  {
   "cell_type": "markdown",
   "metadata": {},
   "source": [
    "Нижняя треугольная матрица $B_1$"
   ]
  },
  {
   "cell_type": "code",
   "execution_count": 8,
   "metadata": {},
   "outputs": [
    {
     "data": {
      "text/plain": [
       "array([[ 0.        ,  0.        ,  0.        ,  0.        ],\n",
       "       [ 0.44773869,  0.        ,  0.        ,  0.        ],\n",
       "       [ 0.51206897, -0.37931034,  0.        ,  0.        ],\n",
       "       [ 0.33333333,  0.07295174,  0.58922559,  0.        ]])"
      ]
     },
     "execution_count": 8,
     "metadata": {},
     "output_type": "execute_result"
    }
   ],
   "source": [
    "B1"
   ]
  },
  {
   "cell_type": "markdown",
   "metadata": {},
   "source": [
    "Верхняя треугольная матрица $B_2$"
   ]
  },
  {
   "cell_type": "code",
   "execution_count": 9,
   "metadata": {},
   "outputs": [
    {
     "data": {
      "text/plain": [
       "array([[ 0.        ,  0.22626263,  0.58585859,  0.13333333],\n",
       "       [ 0.        ,  0.        , -0.20100503,  0.34824121],\n",
       "       [ 0.        ,  0.        ,  0.        ,  0.        ],\n",
       "       [ 0.        ,  0.        ,  0.        ,  0.        ]])"
      ]
     },
     "execution_count": 9,
     "metadata": {},
     "output_type": "execute_result"
    }
   ],
   "source": [
    "B2"
   ]
  },
  {
   "cell_type": "markdown",
   "metadata": {},
   "source": [
    "Вектор $c$"
   ]
  },
  {
   "cell_type": "code",
   "execution_count": 10,
   "metadata": {},
   "outputs": [
    {
     "data": {
      "text/plain": [
       "array([-0.68888889,  2.52914573, -3.36034483, -2.57463524])"
      ]
     },
     "execution_count": 10,
     "metadata": {},
     "output_type": "execute_result"
    }
   ],
   "source": [
    "c"
   ]
  },
  {
   "cell_type": "code",
   "execution_count": 11,
   "metadata": {},
   "outputs": [
    {
     "data": {
      "text/plain": [
       "array([[ 0.        ,  0.22626263,  0.58585859,  0.13333333],\n",
       "       [ 0.44773869,  0.        , -0.20100503,  0.34824121],\n",
       "       [ 0.51206897, -0.37931034,  0.        ,  0.        ],\n",
       "       [ 0.33333333,  0.07295174,  0.58922559,  0.        ]])"
      ]
     },
     "execution_count": 11,
     "metadata": {},
     "output_type": "execute_result"
    }
   ],
   "source": [
    "B = B1 + B2\n",
    "B"
   ]
  },
  {
   "cell_type": "markdown",
   "metadata": {},
   "source": [
    "#### Проверим достаточное условие"
   ]
  },
  {
   "cell_type": "code",
   "execution_count": 12,
   "metadata": {},
   "outputs": [
    {
     "data": {
      "text/plain": [
       "0.99698492462311561"
      ]
     },
     "execution_count": 12,
     "metadata": {},
     "output_type": "execute_result"
    }
   ],
   "source": [
    "np.linalg.norm(B1 + B2, ord = np.inf)"
   ]
  },
  {
   "cell_type": "markdown",
   "metadata": {},
   "source": [
    "$\\Vert B \\Vert_{\\infty} = 0.99698492462311561 < 1 \\Rightarrow$ достаточное условие выполнено  "
   ]
  },
  {
   "cell_type": "markdown",
   "metadata": {},
   "source": [
    "#### 3) Используя самостоятельно написанную функцию для метода, выполнить $10$ итераций по методу Зейделя; взять любое начальное приближение."
   ]
  },
  {
   "cell_type": "code",
   "execution_count": 25,
   "metadata": {
    "collapsed": true
   },
   "outputs": [],
   "source": [
    "def Seidel_Method(B, c, k, x):\n",
    "    # B, c - соответствующие матрица и вектор для алгоритма\n",
    "    # k - число итераций\n",
    "    # x - начальное приближение\n",
    "    for it_count in range(0, k):\n",
    "        x_new = np.zeros_like(x)\n",
    "        print(\"Итерация {0}: {1}\".format(it_count, x))\n",
    "        for i in range(B.shape[0]):\n",
    "            s1 = np.dot(B[i, :i], x_new[:i])\n",
    "            s2 = np.dot(B[i, i + 1:], x[i + 1:])\n",
    "            x_new[i] = (c[i] - s1 - s2)\n",
    "        x = x_new\n",
    "    return x"
   ]
  },
  {
   "cell_type": "markdown",
   "metadata": {},
   "source": [
    "В качестве начального приближения возьмем вектор из нулей $x_0 = (0, 0, 0, 0)$."
   ]
  },
  {
   "cell_type": "code",
   "execution_count": 26,
   "metadata": {},
   "outputs": [
    {
     "name": "stdout",
     "output_type": "stream",
     "text": [
      "Итерация 0: [ 0.  0.  0.  0.]\n",
      "Итерация 1: [-0.68888889  2.83758794 -1.93125975 -1.41406493]\n",
      "Итерация 2: [-0.01094189  2.6382876  -2.35401204 -1.37641148]\n",
      "Итерация 3: [ 0.27680493  2.4113644  -2.58743258 -1.31823529]\n",
      "Итерация 4: [ 0.45714377  2.26344167 -2.73588712 -1.2800838 ]\n",
      "Итерация 5: [ 0.57249966  2.16866635 -2.83090655 -1.25563386]\n",
      "Итерация 6: [ 0.64635173  2.10798606 -2.89174057 -1.23997953]\n",
      "Итерация 7: [ 0.69363429  2.0691364  -2.93068858 -1.22995707]\n",
      "Итерация 8: [ 0.72390622  2.0442635  -2.95562444 -1.22354034]\n",
      "Итерация 9: [ 0.74328735  2.02833902 -2.97158924 -1.21943213]\n",
      "Итерация 10: [ 0.75569582  2.01814362 -2.98181045 -1.21680191]\n"
     ]
    },
    {
     "data": {
      "text/plain": [
       "array([ 0.76364015,  2.01161617, -2.98835442, -1.21511796])"
      ]
     },
     "execution_count": 26,
     "metadata": {},
     "output_type": "execute_result"
    }
   ],
   "source": [
    "B = B1 + B2\n",
    "k = 11\n",
    "x0 = np.zeros_like(b) # в качестве начального приближения возьмем вектор из нулей\n",
    "x_iter1 = Seidel_Method(B, c, k, x0)\n",
    "x_iter1"
   ]
  },
  {
   "cell_type": "markdown",
   "metadata": {},
   "source": [
    "Принимая решение, полученное в п. 1 за точное, найти величину абсолютной погрешности итерационного решения (использовать норму $\\Vert \\cdotp \\Vert_{\\infty}$)."
   ]
  },
  {
   "cell_type": "code",
   "execution_count": 27,
   "metadata": {},
   "outputs": [
    {
     "data": {
      "text/plain": [
       "0.01413763169513127"
      ]
     },
     "execution_count": 27,
     "metadata": {},
     "output_type": "execute_result"
    }
   ],
   "source": [
    "np.linalg.norm(x_Gauss - x_iter1, ord = np.inf)"
   ]
  },
  {
   "cell_type": "markdown",
   "metadata": {},
   "source": [
    "Относительная погрешность:"
   ]
  },
  {
   "cell_type": "code",
   "execution_count": 28,
   "metadata": {},
   "outputs": [
    {
     "data": {
      "text/plain": [
       "0.0047125438983770945"
      ]
     },
     "execution_count": 28,
     "metadata": {},
     "output_type": "execute_result"
    }
   ],
   "source": [
    "np.linalg.norm(x_Gauss - x_iter1, ord = np.inf)/np.linalg.norm(x_Gauss, ord = np.inf)"
   ]
  },
  {
   "cell_type": "markdown",
   "metadata": {},
   "source": [
    "#### 4) Взять другое начальное приближение. Объяснить полученные результаты."
   ]
  },
  {
   "cell_type": "markdown",
   "metadata": {},
   "source": [
    "В качестве начального приближения возьмем вектор $x_1 = (0.5, 2, -2.5, -1)$ (он ближе к *точному* решению)."
   ]
  },
  {
   "cell_type": "code",
   "execution_count": 17,
   "metadata": {},
   "outputs": [
    {
     "name": "stdout",
     "output_type": "stream",
     "text": [
      "Итерация 0: [ 0.5  2.  -2.5 -1. ]\n",
      "Итерация 1: [ 0.45656566  2.17045226 -2.77086294 -1.25249872]\n",
      "Итерация 2: [ 0.61035255  2.13508156 -2.8630289  -1.24687411]\n",
      "Итерация 3: [ 0.6716019   2.08717332 -2.91256488 -1.23460771]\n",
      "Итерация 4: [ 0.7098273   2.05582968 -2.94402789 -1.22652412]\n",
      "Итерация 5: [ 0.73427426  2.03574457 -2.96416491 -1.22134262]\n",
      "Итерация 6: [ 0.74992534  2.02288492 -2.97705715 -1.21802508]\n",
      "Итерация 7: [ 0.75994569  2.01465171 -2.98531119 -1.21590107]\n",
      "Итерация 8: [ 0.76636106  2.00938053 -2.99059572 -1.21454121]\n",
      "Итерация 9: [ 0.7704684   2.00600574 -2.99397906 -1.21367058]\n",
      "Итерация 10: [ 0.77309806  2.00384508 -2.99614518 -1.21311317]\n"
     ]
    },
    {
     "data": {
      "text/plain": [
       "array([ 0.77478166,  2.00246175, -2.99753201, -1.2127563 ])"
      ]
     },
     "execution_count": 17,
     "metadata": {},
     "output_type": "execute_result"
    }
   ],
   "source": [
    "x1 = np.array([0.5, 2, -2.5, -1]) # прям близко к истинному\n",
    "x_iter2 = Seidel_Method(B, c, k, x1)\n",
    "x_iter2"
   ]
  },
  {
   "cell_type": "markdown",
   "metadata": {},
   "source": [
    "Объяснение довольно простое: чем ближе начальное приближение к истинному корню *(хотя понятно, что истинность в данных задачах -- понятие относительное)*, тем лучше. В первом случае, где мы в качестве начального приближения взяли нулевой вектор, методу пришлось дольше \"идти\" к ответу. Во втором же случае эта задача была упрощена, и мы за меньшее число итераций пришли к тому результату, который получился в первом случае."
   ]
  },
  {
   "cell_type": "markdown",
   "metadata": {},
   "source": [
    "Принимая решение ```np.linalg.lsolve``` за эталонное, вычислим абсолютную и отностельную погрешность полученного решения."
   ]
  },
  {
   "cell_type": "markdown",
   "metadata": {},
   "source": [
    "* Абсолютная погрешность:"
   ]
  },
  {
   "cell_type": "code",
   "execution_count": 18,
   "metadata": {},
   "outputs": [
    {
     "data": {
      "text/plain": [
       "0.002996114175798481"
      ]
     },
     "execution_count": 18,
     "metadata": {},
     "output_type": "execute_result"
    }
   ],
   "source": [
    "np.linalg.norm(x_Gauss - x_iter2, ord = np.inf)"
   ]
  },
  {
   "cell_type": "markdown",
   "metadata": {},
   "source": [
    "* Относительная погрешность:"
   ]
  },
  {
   "cell_type": "code",
   "execution_count": 19,
   "metadata": {},
   "outputs": [
    {
     "data": {
      "text/plain": [
       "0.00099870472526616136"
      ]
     },
     "execution_count": 19,
     "metadata": {},
     "output_type": "execute_result"
    }
   ],
   "source": [
    "np.linalg.norm(x_Gauss - x_iter2, ord = np.inf)/np.linalg.norm(x_Gauss, ord = np.inf)"
   ]
  },
  {
   "cell_type": "markdown",
   "metadata": {},
   "source": [
    "### Задача 5.2. Для системы уравнений $Ax=b$ из задачи 5.1 найти решение по методу Зейделя с точностью $\\varepsilon=10^{-6}$, взяв любое начальное приближение. Для этого модифицировать функцию так, чтобы решение вычислялось с заданной точностью $\\varepsilon$. Предусмотреть подсчет количества итераций, потребовавшихся для достижения точности $\\varepsilon$."
   ]
  },
  {
   "cell_type": "markdown",
   "metadata": {},
   "source": [
    "Только для критерия окончания нужна не $\\varepsilon$, а $\\varepsilon_2 = \\cfrac{1-\\Vert B \\Vert}{\\Vert B_2 \\Vert} \\varepsilon$ (см. теорию выше)."
   ]
  },
  {
   "cell_type": "code",
   "execution_count": 20,
   "metadata": {},
   "outputs": [
    {
     "data": {
      "text/plain": [
       "0.0031890220332431059"
      ]
     },
     "execution_count": 20,
     "metadata": {},
     "output_type": "execute_result"
    }
   ],
   "source": [
    "eps = 1e-6\n",
    "eps2 = ((1 - np.linalg.norm(B, ord = np.inf)))/(np.linalg.norm(B2, ord = np.inf))\n",
    "eps2"
   ]
  },
  {
   "cell_type": "code",
   "execution_count": 2,
   "metadata": {
    "collapsed": true
   },
   "outputs": [],
   "source": [
    "def Seidel_Method_Modified(B, c, x, eps):\n",
    "    it_count = 0\n",
    "    x_new = np.zeros_like(x)\n",
    "    # новая эпсилон\n",
    "    while True:\n",
    "        x_new = np.copy(x)\n",
    "        print(\"Итерация {0}: {1}\".format(it_count, x))\n",
    "        for i in range(B.shape[0]):\n",
    "            s1 = np.dot(B[i, :i], x_new[:i])\n",
    "            s2 = np.dot(B[i, i + 1:], x[i + 1:])\n",
    "            x_new[i] = (c[i] - s1 - s2) #/ B[i, i]\n",
    "        it_count += 1\n",
    "        if np.allclose(x, x_new, eps):\n",
    "            break\n",
    "        x = x_new\n",
    "    return x"
   ]
  },
  {
   "cell_type": "code",
   "execution_count": 3,
   "metadata": {},
   "outputs": [
    {
     "ename": "NameError",
     "evalue": "name 'B' is not defined",
     "output_type": "error",
     "traceback": [
      "\u001b[1;31m---------------------------------------------------------------------------\u001b[0m",
      "\u001b[1;31mNameError\u001b[0m                                 Traceback (most recent call last)",
      "\u001b[1;32m<ipython-input-3-113c6929132c>\u001b[0m in \u001b[0;36m<module>\u001b[1;34m()\u001b[0m\n\u001b[1;32m----> 1\u001b[1;33m \u001b[0mx_mod\u001b[0m \u001b[1;33m=\u001b[0m \u001b[0mSeidel_Method_Modified\u001b[0m\u001b[1;33m(\u001b[0m\u001b[0mB\u001b[0m\u001b[1;33m,\u001b[0m \u001b[0mc\u001b[0m\u001b[1;33m,\u001b[0m \u001b[0mx1\u001b[0m\u001b[1;33m,\u001b[0m \u001b[0meps2\u001b[0m\u001b[1;33m)\u001b[0m\u001b[1;33m\u001b[0m\u001b[0m\n\u001b[0m",
      "\u001b[1;31mNameError\u001b[0m: name 'B' is not defined"
     ]
    }
   ],
   "source": [
    "x_mod = Seidel_Method_Modified(B, c, x1, eps2)"
   ]
  },
  {
   "cell_type": "markdown",
   "metadata": {},
   "source": [
    "Принимая решение ```np.linalg.lsolve``` за эталонное, вычислим абсолютную и отностельную погрешность полученного решения."
   ]
  },
  {
   "cell_type": "markdown",
   "metadata": {},
   "source": [
    "* Абсолютная погрешность:"
   ]
  },
  {
   "cell_type": "code",
   "execution_count": 23,
   "metadata": {},
   "outputs": [
    {
     "data": {
      "text/plain": [
       "1.4211072950520709e-05"
      ]
     },
     "execution_count": 23,
     "metadata": {},
     "output_type": "execute_result"
    }
   ],
   "source": [
    "np.linalg.norm(x_Gauss - x_mod, ord = np.inf)"
   ]
  },
  {
   "cell_type": "markdown",
   "metadata": {},
   "source": [
    "* Относительная погрешность:"
   ]
  },
  {
   "cell_type": "code",
   "execution_count": 24,
   "metadata": {},
   "outputs": [
    {
     "data": {
      "text/plain": [
       "4.7370243168402408e-06"
      ]
     },
     "execution_count": 24,
     "metadata": {},
     "output_type": "execute_result"
    }
   ],
   "source": [
    "np.linalg.norm(x_Gauss - x_mod, ord = np.inf)/np.linalg.norm(x_Gauss, ord = np.inf)"
   ]
  },
  {
   "cell_type": "markdown",
   "metadata": {},
   "source": [
    "#### Вывод\n",
    "\n",
    "Порядок погрешности $10^{-6}$, что не превышает требуемой точности $\\varepsilon = 10^{-6} \\Rightarrow$ всё хорошо, решение получилось довольно близким к *\"истинному\"*."
   ]
  },
  {
   "cell_type": "markdown",
   "metadata": {},
   "source": [
    "# ツ"
   ]
  }
 ],
 "metadata": {
  "kernelspec": {
   "display_name": "Python 3",
   "language": "python",
   "name": "python3"
  },
  "language_info": {
   "codemirror_mode": {
    "name": "ipython",
    "version": 3
   },
   "file_extension": ".py",
   "mimetype": "text/x-python",
   "name": "python",
   "nbconvert_exporter": "python",
   "pygments_lexer": "ipython3",
   "version": "3.6.1"
  }
 },
 "nbformat": 4,
 "nbformat_minor": 2
}
