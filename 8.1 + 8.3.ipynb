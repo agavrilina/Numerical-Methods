{
 "cells": [
  {
   "cell_type": "markdown",
   "metadata": {},
   "source": [
    "Вычислить значение интеграла $I=\\int\\limits_{1}^{1.44}P_n(x)dx$, где $P_n(x)=\\sum\\limits_{i=0}^{n}c_ix^i$, с помощью квадратурных формул трапеций и Симпсона для элементарного отрезка интегрирования. Оценить величину погрешности. Применяя те же квадратурные формулы для составного отрезка интегрирования, вычислить интеграл $I$ с точностью 0.0001. Предварительно оценить шаг интегрирования, при котором достигается заданная точность.\n",
    "ПОРЯДОК РЕШЕНИЯ ЗАДАЧИ:\n",
    "1. Вычислить значение интеграла $I$ аналитически.\n",
    "2. Задать многочлен $P_n(x)$. Вычислить значение интеграла $I$ по формулам трапеций и Симпсона, считая отрезок $[1, 1.44]$ элементарным отрезком интегрирования.\n",
    "3. Найти абсолютные погрешности результатов.\n",
    "4. Используя выражение для остаточных членов интегрирования (см. ПРИЛОЖЕНИЕ 8.C), оценить шаги интегрирования, при которых величина погрешности каждой квадратурной формулы будет меньше 0.0001.\n",
    "5. Вычислить значения интеграла по составной квадратурной формуле с найденным шагом (см. ПРИЛОЖЕНИЕ 8.B).\n",
    "6. Найти абсолютные погрешности результатов.\n",
    "\n",
    "$c_0=6.8\\\\\n",
    "c_1=1.7\\\\\n",
    "c_2=-4.1\\\\\n",
    "c_3=0.1\\\\\n",
    "c_4=-6.1$"
   ]
  },
  {
   "cell_type": "code",
   "execution_count": 35,
   "metadata": {
    "collapsed": true
   },
   "outputs": [],
   "source": [
    "import numpy as np\n",
    "import math\n",
    "from scipy import integrate\n",
    "import matplotlib.pyplot as plt\n",
    "%matplotlib inline"
   ]
  },
  {
   "cell_type": "code",
   "execution_count": 3,
   "metadata": {
    "collapsed": true
   },
   "outputs": [],
   "source": [
    "c0 = 6.8\n",
    "c1 = 1.7\n",
    "c2 = -4.1\n",
    "c3 = 0.1\n",
    "c4 = -6.1"
   ]
  },
  {
   "cell_type": "code",
   "execution_count": 4,
   "metadata": {
    "collapsed": true
   },
   "outputs": [],
   "source": [
    "a1 = 1\n",
    "b1 = 1.44"
   ]
  },
  {
   "cell_type": "code",
   "execution_count": 5,
   "metadata": {
    "collapsed": true
   },
   "outputs": [],
   "source": [
    "def P(x):\n",
    "    return c0+c1*x+c2*x**2+c3*x**3+c4*x**4"
   ]
  },
  {
   "cell_type": "markdown",
   "metadata": {},
   "source": [
    "### задание 1\n",
    "Вычислить значение интеграла $I$ аналитически."
   ]
  },
  {
   "cell_type": "code",
   "execution_count": 46,
   "metadata": {},
   "outputs": [
    {
     "name": "stdout",
     "output_type": "stream",
     "text": [
      "Точное значение интеграла:  -5.061041144661331\n"
     ]
    }
   ],
   "source": [
    "Int_exact = integrate.quad(P, a1, b1)[0]\n",
    "print('Точное значение интеграла: ', Int_exact)"
   ]
  },
  {
   "cell_type": "markdown",
   "metadata": {},
   "source": [
    "### задание 2\n",
    "Задать многочлен $P_n(x)$. Вычислить значение интеграла $I$ по формулам трапеций и Симпсона, считая отрезок $[1, 1.44]$ элементарным отрезком интегрирования."
   ]
  },
  {
   "cell_type": "markdown",
   "metadata": {},
   "source": [
    "В результате мы получим элементарный интеграл."
   ]
  },
  {
   "cell_type": "code",
   "execution_count": 11,
   "metadata": {
    "collapsed": true
   },
   "outputs": [],
   "source": [
    "def Trapezoid(a, b):\n",
    "    h = b - a\n",
    "    return (P(b) + P(a))*h/2"
   ]
  },
  {
   "cell_type": "code",
   "execution_count": 12,
   "metadata": {
    "collapsed": true
   },
   "outputs": [],
   "source": [
    "def Simpson(a, b):\n",
    "    h = b - a\n",
    "    c = (a + b)/2\n",
    "    return (P(a) + 4*P(c) + P(b))*h/6"
   ]
  },
  {
   "cell_type": "code",
   "execution_count": 13,
   "metadata": {},
   "outputs": [
    {
     "name": "stdout",
     "output_type": "stream",
     "text": [
      "По формуле трапеций:  -5.8924899123199985 \n",
      "По формуле Симпсона:  -5.061879468799998\n"
     ]
    }
   ],
   "source": [
    "I_tr = Trapezoid(a1, b1)\n",
    "I_s = Simpson(a1, b1)\n",
    "print('По формуле трапеций: ', I_tr, '\\nПо формуле Симпсона: ', I_s) "
   ]
  },
  {
   "cell_type": "markdown",
   "metadata": {},
   "source": [
    "### задание 3\n",
    "Найти абсолютные погрешности результатов."
   ]
  },
  {
   "cell_type": "code",
   "execution_count": 15,
   "metadata": {
    "collapsed": true
   },
   "outputs": [],
   "source": [
    "def r(I, Ih):\n",
    "    return np.abs(I-Ih)"
   ]
  },
  {
   "cell_type": "code",
   "execution_count": 16,
   "metadata": {},
   "outputs": [
    {
     "name": "stdout",
     "output_type": "stream",
     "text": [
      "Абсолютная погрешность формулы трапеций:  0.831448767659 \n",
      "Абсолютная погрешность формулы Симпсона:  0.000838324138667\n"
     ]
    }
   ],
   "source": [
    "print('Абсолютная погрешность формулы трапеций: ', r(I, I_tr), \n",
    "      '\\nАбсолютная погрешность формулы Симпсона: ', r(I, I_s))"
   ]
  },
  {
   "cell_type": "markdown",
   "metadata": {},
   "source": [
    "### задание 4\n",
    "Используя выражение для остаточных членов интегрирования (см. ПРИЛОЖЕНИЕ 8.C), оценить шаги интегрирования, при которых величина погрешности каждой квадратурной формулы будет меньше 0.0001."
   ]
  },
  {
   "cell_type": "markdown",
   "metadata": {},
   "source": [
    "На сколько элементарных отрезков нужно разбить исходный, чтобы погрешность была меньше $\\varepsilon=0.0001$"
   ]
  },
  {
   "cell_type": "markdown",
   "metadata": {},
   "source": [
    "Остаточный член (погрешность) формулы трапеций:\n",
    "$\\large R=\\dfrac{M_2(b-a)h^2}{12}<\\varepsilon$\n",
    "\n",
    "Отсюда $\\large h<\\sqrt{\\dfrac{12\\cdot\\varepsilon}{M_2(b-a)}}$\n",
    "\n",
    "Остаточный член (погрешность) формулы Симпсона:\n",
    "$\\large R=\\dfrac{M_4(b-a)h^4}{2880}<\\varepsilon$\n",
    "\n",
    "Отсюда $\\large h<\\sqrt[4]{\\dfrac{2880\\cdot\\varepsilon}{M_4(b-a)}}$\n",
    "\n",
    "$a, b$ - границы отрезка интегрирования\n",
    "\n",
    "$\\large h=x_i-x_{i-1}$ - шаг интегрирования - постоянная положительная величина (разбиения находятся на одинаковом расстоянии)\n",
    "\n",
    "$\\large M_n=\\max\\limits_{x\\in[a,b]}|P^{(n)}(x)|$"
   ]
  },
  {
   "cell_type": "markdown",
   "metadata": {},
   "source": [
    "Сначала найдём соответствующие максимальные значения производных"
   ]
  },
  {
   "cell_type": "code",
   "execution_count": 17,
   "metadata": {
    "collapsed": true
   },
   "outputs": [],
   "source": [
    "# 1-ая производная\n",
    "def P1(x):\n",
    "    return c1 + c2*2*x + c3*3*x**2 + c4*4*x**3\n",
    "\n",
    "# 2-ая производная\n",
    "def P2(x):\n",
    "    return c2*2 + c3*3*2*x + c4*4*3*x**2\n",
    "\n",
    "# 3-ая производная\n",
    "def P3(x):\n",
    "    return c3*3*2 + c4*4*3*2*x\n",
    "\n",
    "# 4-ая производная\n",
    "def P4(x):\n",
    "    return c4*4*3*2"
   ]
  },
  {
   "cell_type": "markdown",
   "metadata": {},
   "source": [
    "### 4-ая производная = const"
   ]
  },
  {
   "cell_type": "code",
   "execution_count": 19,
   "metadata": {},
   "outputs": [
    {
     "data": {
      "text/plain": [
       "-146.39999999999998"
      ]
     },
     "execution_count": 19,
     "metadata": {},
     "output_type": "execute_result"
    }
   ],
   "source": [
    "M4 = P4(b1)\n",
    "M4"
   ]
  },
  {
   "cell_type": "markdown",
   "metadata": {},
   "source": [
    "Найдём максимальное по модулю значение второй производной на $[1, 1.44]$ "
   ]
  },
  {
   "cell_type": "code",
   "execution_count": 20,
   "metadata": {},
   "outputs": [
    {
     "data": {
      "text/plain": [
       "[<matplotlib.lines.Line2D at 0x28b3df718d0>]"
      ]
     },
     "execution_count": 20,
     "metadata": {},
     "output_type": "execute_result"
    },
    {
     "data": {
      "image/png": "[encoded data removed]",
      "text/plain": [
       "<matplotlib.figure.Figure at 0x28b3df716d8>"
      ]
     },
     "metadata": {},
     "output_type": "display_data"
    }
   ],
   "source": [
    "fig, ax = plt.subplots(figsize=(10, 5))\n",
    "xar = np.linspace(a1-1, b1+1, 200)\n",
    "ax.axis([a1-1, b1+1, P2(a1-1), P2(b1+1)])\n",
    "ax.plot(xar, P2(xar))"
   ]
  },
  {
   "cell_type": "markdown",
   "metadata": {},
   "source": [
    "Мы видим, что функция P2(x) монотонно возрастает на $[1, 1.44]$. Значит она принимает максимальное значение в точке $1.44$"
   ]
  },
  {
   "cell_type": "code",
   "execution_count": 21,
   "metadata": {},
   "outputs": [
    {
     "data": {
      "text/plain": [
       "-159.12351999999998"
      ]
     },
     "execution_count": 21,
     "metadata": {},
     "output_type": "execute_result"
    }
   ],
   "source": [
    "M2 = P2(b1)\n",
    "M2"
   ]
  },
  {
   "cell_type": "code",
   "execution_count": 22,
   "metadata": {
    "collapsed": true
   },
   "outputs": [],
   "source": [
    "eps = 1e-4"
   ]
  },
  {
   "cell_type": "markdown",
   "metadata": {},
   "source": [
    "Теперь мы можем определить шаги"
   ]
  },
  {
   "cell_type": "code",
   "execution_count": 37,
   "metadata": {},
   "outputs": [
    {
     "name": "stdout",
     "output_type": "stream",
     "text": [
      "Шаг для формулы трапеций меньше, чем  0.00413996906645 \n",
      "Шаг для формулы Симпсона меньше, чем  0.258582829677\n"
     ]
    }
   ],
   "source": [
    "h_trapez = np.abs((12*eps/(M2*(b1 - a1)))**0.5)\n",
    "h_Simpson = np.abs((2880*eps/(M4*(b1 - a1)))**0.25)\n",
    "print('Шаг для формулы трапеций меньше, чем ', h_trapez,\n",
    "     '\\nШаг для формулы Симпсона меньше, чем ', h_Simpson)"
   ]
  },
  {
   "cell_type": "markdown",
   "metadata": {},
   "source": [
    "### задание 5\n",
    "Вычислить значения интеграла по составной квадратурной формуле с найденным шагом (см. ПРИЛОЖЕНИЕ 8.B)."
   ]
  },
  {
   "cell_type": "markdown",
   "metadata": {},
   "source": [
    "Снчала нужно определить количество элементарных отрезков, на которые надо поделить наш отрезок.\n",
    "Без ограничения общности рассмотрим случай для формулы трапеций. Шаг должен быть меньше найденной величины $htr$. Значит, при  шаге, равном $htr$, число получившихся элементарных отрезков $ktr\\geq\\Bigl[\\frac{b-a}{htr}\\Bigr]$, где $[\\cdot]$ - целая часть от деления.\n",
    "\n",
    "Пусть для всех отрезков размер шага будет равен $htr$, а для последнего возьмём $b-(a+htr\\cdot ktr)$ для увеличения точности. Это необходимо сделать прежде всего для формулы Симпсона, где размер шага велик."
   ]
  },
  {
   "cell_type": "code",
   "execution_count": 54,
   "metadata": {
    "collapsed": true
   },
   "outputs": [],
   "source": [
    "def Integral(I, k, h):\n",
    "    I_h = 0\n",
    "    for i in range(k):\n",
    "        x1 = a1 + i*h\n",
    "        x2 = x1 + h\n",
    "        I_h += I(x1, x2)\n",
    "    I_h += I(x2, b1)\n",
    "    return I_h"
   ]
  },
  {
   "cell_type": "code",
   "execution_count": 56,
   "metadata": {},
   "outputs": [
    {
     "name": "stdout",
     "output_type": "stream",
     "text": [
      "Формула трапеций:  -5.06111480606 \n",
      "Формула Симпсона:  -5.06110990291\n"
     ]
    }
   ],
   "source": [
    "ktr = int((b1 - a1) // h_trapez)\n",
    "Int_trapez = Integral(Trapezoid, ktr, h_trapez)\n",
    "\n",
    "ks = int((b1- a1) // h_Simpson)\n",
    "Int_Simpson = Integral(Simpson, ks, h_Simpson)\n",
    "\n",
    "print('Формула трапеций: ', Int_trapez, '\\nФормула Симпсона: ', Int_Simpson)"
   ]
  },
  {
   "cell_type": "markdown",
   "metadata": {},
   "source": [
    "### задание 6\n",
    "Найти абсолютные погрешности результатов."
   ]
  },
  {
   "cell_type": "code",
   "execution_count": 58,
   "metadata": {},
   "outputs": [
    {
     "name": "stdout",
     "output_type": "stream",
     "text": [
      "Абсолютная погрешность формулы трапеций:  7.36614033396e-05 \n",
      "Абсолютная погрешность формулы Симпсона:  6.87582508903e-05\n"
     ]
    }
   ],
   "source": [
    "print('Абсолютная погрешность формулы трапеций: ', r(Int_exact, Int_trapez), \n",
    "      '\\nАбсолютная погрешность формулы Симпсона: ', r(Int_exact, Int_Simpson))"
   ]
  },
  {
   "cell_type": "markdown",
   "metadata": {},
   "source": [
    "Мы хотели добиться точности $\\varepsilon = 10^{-4}$, получили $10^{-5}$, все супер"
   ]
  },
  {
   "cell_type": "markdown",
   "metadata": {},
   "source": [
    "## Задача 8.3\n",
    "Вычислить значение интеграла $\\int\\limits_{a}^{b}f(x)dx$ аналитически и, используя формулу центральных прямоугольников, с шагами $h: \\frac{b-a}{2}, \\frac{b-a}{3},...\\frac{b-a}{20}$. При указанных значениях $h$ найти абсолютную погрешность и оценки теоретической абсолютной погрешности. На одном чертеже построить графики найденных погрешностей.\n",
    "\n",
    "\n",
    "$\\large f(x) = \\sqrt[3]{2 x}  \\bigg(\\cos{(x^2)} - 2\\bigg);$\n",
    "\n",
    "$\\large a = -2, b = 0$"
   ]
  },
  {
   "cell_type": "markdown",
   "metadata": {},
   "source": [
    "Формула для оценки теоретической абсолютной погрешности:\n",
    "$\\Large R=\\frac{M_2(b-a)h^2}{24}$"
   ]
  },
  {
   "cell_type": "code",
   "execution_count": 63,
   "metadata": {
    "collapsed": true
   },
   "outputs": [],
   "source": [
    "def f(x):\n",
    "    return ((2*x)**(1/3))*(np.cos(x**2)-2)\n",
    "a = -2\n",
    "b = 0"
   ]
  },
  {
   "cell_type": "markdown",
   "metadata": {},
   "source": [
    "* 1-ая производная: $f^{(1)}(x) = \\dfrac{\\sqrt[3]{2} (\\cos{(x^2)-2})}{3 x^{2/3}} - 2 \\cdot 2^{1/3} x^{4/3} \\sin{(x^2)}$\n",
    "\n",
    "* 2-ая производная: $f^{(2)}(x) = -\\dfrac{2 \\cdot 2^{1/3} (\\cos{(x^2)-2})}{9 x^{5/3}} - 4 \\cdot 2^{1/3} x^{7/3} \\cos{(x^2)} - \\dfrac{10}{3} \\cdot 2^{1/3} \\cdot x^{1/3} \\cdot \\sin{(x^2)}$"
   ]
  },
  {
   "cell_type": "code",
   "execution_count": 66,
   "metadata": {
    "collapsed": true
   },
   "outputs": [],
   "source": [
    "# 1-ая производная\n",
    "def f1(x):\n",
    "    return ((2**(1/3)*(np.cos(x**2)-2))/(3*x**(2/3))) - (2*(2**(1/3))*(x**(4/3))*np.sin(x**2))\n",
    "# 2-ая производная\n",
    "def f2(x):\n",
    "    return -((2*2**(1/3)*(np.cos(x**2)-2))/(9*x**(5/3))) - (4*(2**(1/3))*(x**(7/3))*np.cos(x**2)) - (10/3)*(2**(1/3)*(x**(1/3))*np.sin(x**2))"
   ]
  },
  {
   "cell_type": "markdown",
   "metadata": {},
   "source": [
    "Найдём максимальное по модулю значение второй производной на $[-2, 0]$ "
   ]
  },
  {
   "cell_type": "code",
   "execution_count": 67,
   "metadata": {},
   "outputs": [
    {
     "name": "stderr",
     "output_type": "stream",
     "text": [
      "C:\\Users\\Alexandra\\Anaconda3\\lib\\site-packages\\ipykernel_launcher.py:2: RuntimeWarning: invalid value encountered in power\n",
      "  \n"
     ]
    },
    {
     "data": {
      "text/plain": [
       "[<matplotlib.lines.Line2D at 0x28b41800048>]"
      ]
     },
     "execution_count": 67,
     "metadata": {},
     "output_type": "execute_result"
    },
    {
     "data": {
      "image/png": "[encoded data removed]",
      "text/plain": [
       "<matplotlib.figure.Figure at 0x28b41800b38>"
      ]
     },
     "metadata": {},
     "output_type": "display_data"
    }
   ],
   "source": [
    "fig, ax = plt.subplots(figsize=(10, 5))\n",
    "x = np.linspace(-5, 5, 1000)\n",
    "ax.plot(x, f(x))"
   ]
  },
  {
   "cell_type": "code",
   "execution_count": 74,
   "metadata": {},
   "outputs": [
    {
     "name": "stdout",
     "output_type": "stream",
     "text": [
      "3.5311187834\n"
     ]
    }
   ],
   "source": [
    "xar = np.linspace(a1, b1, 2000)\n",
    "fmoduls = np.abs(f(xar))\n",
    "M2 = np.max(fmoduls)\n",
    "print(M2)"
   ]
  },
  {
   "cell_type": "code",
   "execution_count": 75,
   "metadata": {
    "collapsed": true
   },
   "outputs": [],
   "source": [
    "def Rcr_th(h):\n",
    "    return M2*(b-a)*h**2/24"
   ]
  },
  {
   "cell_type": "code",
   "execution_count": 76,
   "metadata": {},
   "outputs": [
    {
     "name": "stdout",
     "output_type": "stream",
     "text": [
      "Интеграл f(x):  -1.151791054316246\n"
     ]
    }
   ],
   "source": [
    "Inf = integrate.quad(f, a1, b1)[0]\n",
    "print('Интеграл f(x): ', Inf)"
   ]
  },
  {
   "cell_type": "code",
   "execution_count": 77,
   "metadata": {
    "collapsed": true
   },
   "outputs": [],
   "source": [
    "def Icr(x1, x2):\n",
    "    h = x2-x1\n",
    "    x12 = (x1+x2) /2\n",
    "    return h * f(x12)"
   ]
  },
  {
   "cell_type": "code",
   "execution_count": 82,
   "metadata": {},
   "outputs": [
    {
     "name": "stdout",
     "output_type": "stream",
     "text": [
      "Формула центральных прямоугольников\n",
      "2 отрезков:  -0.922945306435\n",
      "3 отрезков:  -1.81044972226\n",
      "4 отрезков:  -1.92755830775\n",
      "5 отрезков:  -1.95489356447\n",
      "6 отрезков:  -1.96518881103\n",
      "7 отрезков:  -1.97020562481\n",
      "8 отрезков:  -1.97305085079\n",
      "9 отрезков:  -1.9748319492\n",
      "10 отрезков:  -1.9760266634\n",
      "11 отрезков:  -1.97686995294\n",
      "12 отрезков:  -1.97748894922\n",
      "13 отрезков:  -1.97795761808\n",
      "14 отрезков:  -1.97832151789\n",
      "15 отрезков:  -1.97861002935\n",
      "16 отрезков:  -1.97884283057\n",
      "17 отрезков:  -1.97903352552\n",
      "18 отрезков:  -1.97919177559\n",
      "19 отрезков:  -1.97932460308\n",
      "20 отрезков:  -1.97943721598\n"
     ]
    }
   ],
   "source": [
    "Rcr = list()\n",
    "Rcr2 = list()\n",
    "print('Формула центральных прямоугольников')\n",
    "for kcr in range(2, 21):\n",
    "    hcr=(b-a) / kcr\n",
    "    Icr_h=Integral(Icr, kcr, hcr)\n",
    "    Rcr.append(r(Inf, Icr_h))\n",
    "    Rcr2.append(Rcr_th(hcr))\n",
    "    print(kcr, 'отрезков: ', Icr_h)"
   ]
  },
  {
   "cell_type": "code",
   "execution_count": 86,
   "metadata": {},
   "outputs": [
    {
     "data": {
      "text/plain": [
       "<matplotlib.legend.Legend at 0x28b42e6ae48>"
      ]
     },
     "execution_count": 86,
     "metadata": {},
     "output_type": "execute_result"
    },
    {
     "data": {
      "image/png": "[encoded data removed]",
      "text/plain": [
       "<matplotlib.figure.Figure at 0x28b42de5e80>"
      ]
     },
     "metadata": {},
     "output_type": "display_data"
    }
   ],
   "source": [
    "fig, ax = plt.subplots(figsize=(10, 5))\n",
    "xar = np.linspace(2, 19, 19)\n",
    "ax.plot(xar, Rcr, label='Aбсолютная погрешность')\n",
    "ax.plot(xar, Rcr2, label='Теоретическая aбсолютная погрешность')\n",
    "ax.legend()"
   ]
  },
  {
   "cell_type": "code",
   "execution_count": null,
   "metadata": {
    "collapsed": true
   },
   "outputs": [],
   "source": []
  }
 ],
 "metadata": {
  "kernelspec": {
   "display_name": "Python 3",
   "language": "python",
   "name": "python3"
  },
  "language_info": {
   "codemirror_mode": {
    "name": "ipython",
    "version": 3
   },
   "file_extension": ".py",
   "mimetype": "text/x-python",
   "name": "python",
   "nbconvert_exporter": "python",
   "pygments_lexer": "ipython3",
   "version": "3.6.1"
  }
 },
 "nbformat": 4,
 "nbformat_minor": 2
}
