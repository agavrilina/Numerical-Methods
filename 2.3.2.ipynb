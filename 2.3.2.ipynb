{
 "cells": [
  {
   "cell_type": "markdown",
   "metadata": {},
   "source": [
    "# 2.3.2: метод простой итерации"
   ]
  },
  {
   "cell_type": "markdown",
   "metadata": {},
   "source": [
    "Локализовать корни уравнения $f(x)=0$ и найти их с точностью $\\varepsilon=10^{-5}$, используя метод простой итерации. К виду $x=\\varphi(x)$, удобному для итераций, уравнение $f(x)=0$ привести двумя способами."
   ]
  },
  {
   "cell_type": "markdown",
   "metadata": {},
   "source": [
    "a) Преобразовать уравнение в виду $x=x-\\alpha f(x)$, где $\\alpha=\\cfrac{2}{M+m}, 0 < m \\leqslant f^\\prime (x) \\leqslant M$, а $x$ принадлежит отрезку локализации $[a, b]$.\n",
    "\n",
    "b) Любым другим преобразованием уравнения. Проверить достаточное условие сходимости метода. \n",
    "\n",
    "\n",
    "Использовать критерий окончания итерационного процесса вида $\\vert x^{(n)} - x^{(n-1)} \\vert < \\cfrac{1-q}{q} \\varepsilon$, где\n",
    "\n",
    "в п. a) $q = \\cfrac{M-m}{M+m}$,\n",
    "\n",
    "в п. b) $q = \\max\\limits_{x \\in [a, b]} \\vert \\varphi^\\prime (x) \\vert$.\n",
    "\n",
    "Сравнить число итераций и значения величины $q$ в п. a), п. b)."
   ]
  },
  {
   "cell_type": "markdown",
   "metadata": {},
   "source": [
    "# Метод простой итерации: теория"
   ]
  },
  {
   "cell_type": "markdown",
   "metadata": {
    "collapsed": true
   },
   "source": [
    "Метод простой итерации — один из простейших численных методов решения уравнений. Метод основан на принципе сжимающего отображения, который применительно к численным методам в общем виде также может называться методом последовательных приближений.\n",
    "\n",
    "Чтобы применить метод простой итерации для решения нелинейного уравнения $f(x)=0$, необходимо преобразовать это уравнение к следующему виду:\n",
    "\n",
    "$$x = \\varphi(x).$$\n",
    "\n",
    "Это преобразование (приведение к виду, удобному для итераций) можно выполнить разными способами. Функция $\\varphi$ называется итерационной функцией.\n",
    "\n",
    "Выберем каким-либо образом приближенное значение корня $x^{(0)}$ и подставим его в правую часть уравнения $x = \\varphi(x).$ Получим значение $x^{(1)} = \\varphi(x^{(0)})$. Подставляя теперь $x^{(1)}$ в правую часть уравнения $x = \\varphi(x)$, имеем $x^{(2)} = \\varphi(x^{(1)})$. Продолжая этот процесс неограниченно, получаем последовательность приближений к корню, вычисляемых по формуле\n",
    "\n",
    "$$x^{(n+1)} = \\varphi(x^{(n)}), \\quad n \\geqslant 0.$$\n",
    "\n",
    "Если существует предел построенной последовательности $\\bar{x} = \\lim\\limits_{n \\to \\infty} x^{(n)}$, то, переходя к пределу в равенстве $x^{(n+1)} = \\varphi(x^{(n)})$ и предполагая функцию $\\varphi$ непрерывной, получаем равенство\n",
    "\n",
    "$$\\bar{x} = \\varphi(\\bar{x}).$$\n",
    "\n",
    "Это значит, что $\\bar{x}$ - корень уравнения $x = \\varphi(x)$.\n",
    "\n",
    "# Критерий окончания\n",
    "\n",
    "$$\\vert x^{(n)} - x^{(n-1)} \\vert < \\cfrac{1-q}{q} \\varepsilon.$$"
   ]
  },
  {
   "cell_type": "code",
   "execution_count": 1,
   "metadata": {
    "collapsed": true
   },
   "outputs": [],
   "source": [
    "import numpy as np\n",
    "import matplotlib.pyplot as plt\n",
    "import math\n",
    "from scipy import optimize\n",
    "from scipy.misc import derivative\n",
    "%matplotlib inline"
   ]
  },
  {
   "cell_type": "code",
   "execution_count": 2,
   "metadata": {
    "collapsed": true
   },
   "outputs": [],
   "source": [
    "f = lambda x: np.exp(-x) - np.log10(1-x**2) - 2"
   ]
  },
  {
   "cell_type": "code",
   "execution_count": 3,
   "metadata": {},
   "outputs": [
    {
     "data": {
      "text/plain": [
       "<matplotlib.collections.PathCollection at 0x18e89aa3940>"
      ]
     },
     "execution_count": 3,
     "metadata": {},
     "output_type": "execute_result"
    },
    {
     "data": {
      "image/png": "[encoded data removed]",
      "text/plain": [
       "<matplotlib.figure.Figure at 0x18e899ad048>"
      ]
     },
     "metadata": {},
     "output_type": "display_data"
    }
   ],
   "source": [
    "x, s = np.linspace(-0.999, 0.999, 500, retstep=True)\n",
    "fx = np.exp(-x) - np.log10(1-x**2) - 2\n",
    "fdx = -np.exp(-x) + (2*x)/((1-x**2)*np.log(10))\n",
    "plt.figure(figsize=(10, 7))\n",
    "plt.plot(x, fx)\n",
    "plt.plot([-1, -1], [-2,  4], c='r', linestyle='--', linewidth = 1.1)\n",
    "plt.plot([1, 1], [-2, 4], c='r', linestyle='--', linewidth = 1.1) # асимптоты для красоты\n",
    "plt.plot([-0.5939, -0.5939], [-2, 0], c='m', linestyle=':', linewidth = 1.4)\n",
    "plt.plot([0.9881, 0.9881], [-2, 0], c='m', linestyle=':', linewidth = 1.4) # линии от корней\n",
    "plt.grid(True)\n",
    "plt.xlabel(r'$x$', fontsize=30)\n",
    "plt.ylabel(r'$f(x)$', fontsize=30)\n",
    "plt.title('f(x) = exp(-x) - lg(1-x^2) - 2')\n",
    "plt.scatter(0.9881, 0, c='m', s = 25)\n",
    "plt.scatter(-0.5939, 0, c='m', s = 25)\n",
    "#plt.scatter(x1, 0, c='r')"
   ]
  },
  {
   "cell_type": "code",
   "execution_count": 5,
   "metadata": {
    "collapsed": true
   },
   "outputs": [],
   "source": [
    "# x0 - начальное приближение\n",
    "# alpha - \n",
    "# func - функция\n",
    "# q - знаменатель геом. прогрессии, 0 <= q < 1\n",
    "# eps - требуемая точность\n",
    "def Fixed_point_iteration(x0, alpha, func, q, eps):\n",
    "    x_k = x0 \n",
    "    x_n = x_k - alpha * func(x_k)\n",
    "    iters = 1 # считаем число итераций\n",
    "    while np.abs(x_n - x_k) >= ((1 - q)/q)*eps:\n",
    "        x_k = x_n\n",
    "        x_n = x_k - alpha * func(x_k)\n",
    "        iters += 1\n",
    "    return (x_n, iters)"
   ]
  },
  {
   "cell_type": "code",
   "execution_count": 6,
   "metadata": {
    "collapsed": true
   },
   "outputs": [],
   "source": [
    "# отрезок локализации первого корня\n",
    "a1 = -0.75\n",
    "b1 = -0.25\n",
    "\n",
    "# отрезок локализации второго корня\n",
    "a2 = 0.85\n",
    "b2 = 0.99"
   ]
  },
  {
   "cell_type": "markdown",
   "metadata": {},
   "source": [
    "# Пункт a) \n",
    "\n",
    "Преобразовать уравнение к виду $x=x-\\alpha f(x)$, где $\\alpha = \\cfrac{2}{M+m}$, 0 < $m$ < $\\vert f^\\prime (x) \\vert$ < $M$, а $x$ принадлежит отрезку локализации  $[a, b]$."
   ]
  },
  {
   "cell_type": "markdown",
   "metadata": {},
   "source": [
    "## Первый отрезок локализации: $[-0.75, -0.25]$.\n",
    "\n",
    "Приведем уравнение $f(x) = 0$ к виду $x = x - \\alpha f(x)$ для корня на этом отрезке.\n",
    "\n",
    "* Производная функции:\n",
    "\n",
    "$f^\\prime (x) = \\cfrac{2 x}{(1-x^2) ln10} - e^x$.\n",
    "\n",
    "* На концах отрезка: \n",
    "\n",
    "$f^\\prime (-0.75) = -3.60601$,\n",
    "\n",
    "$f^\\prime (-0.25) = -1.51565$.\n",
    "\n",
    "* Значит, $m = 1.51565$ и $M = 3.60601$. Тогда $\\alpha = \\cfrac{2}{M+m} = \\cfrac{2}{3.60601 + 1.51565} = 0.390498$.\n",
    "\n",
    "Выберем знак $\\alpha$ таким образом, чтобы он соответствовал знаку производной функции $f(x)$ в окрестности корня: $\\alpha = -0.390498$\n",
    "\n",
    "* Значит, получим в итоге уравнение: \n",
    "$$x = x + 0.390498 \\bigg(e^{-x}-lg(1-x^2)-2\\bigg).$$"
   ]
  },
  {
   "cell_type": "code",
   "execution_count": 9,
   "metadata": {},
   "outputs": [
    {
     "data": {
      "text/plain": [
       "0.4081411104993303"
      ]
     },
     "execution_count": 9,
     "metadata": {},
     "output_type": "execute_result"
    }
   ],
   "source": [
    "alpha1 = -0.390498\n",
    "m1, M1 = 1.51565, 3.60601\n",
    "q1 = (M1 - m1)/(M1 + m1)\n",
    "eps = 1e-5\n",
    "x0_1 = (a1+b1)/2\n",
    "q1"
   ]
  },
  {
   "cell_type": "code",
   "execution_count": 8,
   "metadata": {},
   "outputs": [
    {
     "data": {
      "text/plain": [
       "(-0.59392163282240007, 4)"
      ]
     },
     "execution_count": 8,
     "metadata": {},
     "output_type": "execute_result"
    }
   ],
   "source": [
    "Fixed_point_iteration(x0_1, alpha1, f, q1, eps)"
   ]
  },
  {
   "cell_type": "markdown",
   "metadata": {},
   "source": [
    "## Второй отрезок локализации: $[0.85, 0.99]$.\n",
    "\n",
    "Приведем уравнение $f(x) = 0$ к виду $x = x - \\alpha f(x)$ для корня на этом отрезке.\n",
    "\n",
    "* Производная функции:\n",
    "\n",
    "$f^\\prime (x) = \\cfrac{2 x}{(1-x^2) ln10} - e^x$.\n",
    "\n",
    "* На концах отрезка: \n",
    "\n",
    "$f^\\prime (0.85) = 2.23313$,\n",
    "\n",
    "$f^\\prime (0.95) = 42.8396$.\n",
    "\n",
    "* Значит, $m = 2.23313$ и $M = 42.8396$. Тогда $\\alpha = \\cfrac{2}{M+m} = \\cfrac{2}{2.23313 + 42.8396} = 0.0443727$.\n",
    "\n",
    "Выберем знак $\\alpha$ таким образом, чтобы он соответствовал знаку производной функции $f(x)$ в окрестности корня: $\\alpha = 0.0443727$\n",
    "\n",
    "* Значит, получим в итоге уравнение: \n",
    "$$x = x - 0.0443727 \\bigg(e^{-x}-lg(1-x^2)-2\\bigg).$$"
   ]
  },
  {
   "cell_type": "code",
   "execution_count": 10,
   "metadata": {},
   "outputs": [
    {
     "data": {
      "text/plain": [
       "0.9009099293519606"
      ]
     },
     "execution_count": 10,
     "metadata": {},
     "output_type": "execute_result"
    }
   ],
   "source": [
    "alpha2 = 0.0443727\n",
    "m2, M2 = 2.23313, 42.8396\n",
    "q2 = (M2 - m2)/(M2 + m2)\n",
    "eps = 1e-5\n",
    "x0_2 = (a2+b2)/2\n",
    "q2"
   ]
  },
  {
   "cell_type": "code",
   "execution_count": 11,
   "metadata": {},
   "outputs": [
    {
     "data": {
      "text/plain": [
       "(0.98814698792178302, 20)"
      ]
     },
     "execution_count": 11,
     "metadata": {},
     "output_type": "execute_result"
    }
   ],
   "source": [
    "Fixed_point_iteration(x0_2, alpha2, f, q2, eps)"
   ]
  },
  {
   "cell_type": "markdown",
   "metadata": {},
   "source": [
    "# Пункт b) \n",
    "\n",
    "Любым  другим  преобразованием  уравнения. Проверить достаточное условие сходимости метода. "
   ]
  },
  {
   "cell_type": "code",
   "execution_count": 12,
   "metadata": {
    "collapsed": true
   },
   "outputs": [],
   "source": [
    "def Fixed_point_iteration2(x0, func, q, eps):\n",
    "    x_i = x0\n",
    "    x_n = x_i + func(x_i)    \n",
    "    iters = 1\n",
    "    while np.abs(x_n - x_i) >= np.abs(((1 - q)/q)*eps):\n",
    "        x_i = x_n\n",
    "        x_n = x_i + func(x_i)\n",
    "        #print(x_n)        \n",
    "        iters += 1\n",
    "    return (x_n, iters)"
   ]
  },
  {
   "cell_type": "code",
   "execution_count": 43,
   "metadata": {
    "collapsed": true
   },
   "outputs": [],
   "source": [
    "f3 = lambda x: 0.25*(np.exp(-x) - np.log10(1-x**2) - 2)\n",
    "f4 = lambda x: -np.exp(-4*x)*(np.exp(-x) - np.log10(1-x**2) - 2)"
   ]
  },
  {
   "cell_type": "code",
   "execution_count": 44,
   "metadata": {},
   "outputs": [
    {
     "data": {
      "text/plain": [
       "0.90150481492801138"
      ]
     },
     "execution_count": 44,
     "metadata": {},
     "output_type": "execute_result"
    }
   ],
   "source": [
    "# q для первой функции\n",
    "q3 = np.max(np.abs(derivative(f3, np.linspace(a1, b1), dx = 0.001)))\n",
    "q3"
   ]
  },
  {
   "cell_type": "markdown",
   "metadata": {},
   "source": [
    "$q_3 < 1$, достаточное условие выполняется"
   ]
  },
  {
   "cell_type": "code",
   "execution_count": 15,
   "metadata": {},
   "outputs": [
    {
     "data": {
      "text/plain": [
       "0.8137279194964494"
      ]
     },
     "execution_count": 15,
     "metadata": {},
     "output_type": "execute_result"
    }
   ],
   "source": [
    "# q для второй функции\n",
    "q4 = np.max(np.abs(derivative(f4, np.linspace(a2, b2), dx = 0.001)))\n",
    "q4"
   ]
  },
  {
   "cell_type": "markdown",
   "metadata": {},
   "source": [
    "$q_4 < 1$, достаточное условие выполняется"
   ]
  },
  {
   "cell_type": "code",
   "execution_count": 45,
   "metadata": {},
   "outputs": [
    {
     "data": {
      "text/plain": [
       "(-0.59392132847072687, 12)"
      ]
     },
     "execution_count": 45,
     "metadata": {},
     "output_type": "execute_result"
    }
   ],
   "source": [
    "Fixed_point_iteration2(-0.52, f3, q3, eps)"
   ]
  },
  {
   "cell_type": "code",
   "execution_count": 17,
   "metadata": {},
   "outputs": [
    {
     "data": {
      "text/plain": [
       "(0.98814689128636402, 12)"
      ]
     },
     "execution_count": 17,
     "metadata": {},
     "output_type": "execute_result"
    }
   ],
   "source": [
    "Fixed_point_iteration2(0.95, f4, q4, eps)"
   ]
  }
 ],
 "metadata": {
  "celltoolbar": "Raw Cell Format",
  "kernelspec": {
   "display_name": "Python 3",
   "language": "python",
   "name": "python3"
  },
  "language_info": {
   "codemirror_mode": {
    "name": "ipython",
    "version": 3
   },
   "file_extension": ".py",
   "mimetype": "text/x-python",
   "name": "python",
   "nbconvert_exporter": "python",
   "pygments_lexer": "ipython3",
   "version": "3.6.1"
  }
 },
 "nbformat": 4,
 "nbformat_minor": 2
}
