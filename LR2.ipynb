{
 "cells": [
  {
   "cell_type": "markdown",
   "metadata": {},
   "source": [
    "### Гаврилина Александра, группа БПМ152 \n",
    "Вариант 7: задачи 2.1.7, 2.2.2, 2.3.2"
   ]
  },
  {
   "cell_type": "markdown",
   "metadata": {},
   "source": [
    "# ЛАБОРАТОРНАЯ  РАБОТА 2\n",
    "# РЕШЕНИЕ  НЕЛИНЕЙНЫХ  УРАВНЕНИЙ"
   ]
  },
  {
   "cell_type": "markdown",
   "metadata": {},
   "source": [
    "# 2.1: метод бисекции"
   ]
  },
  {
   "cell_type": "markdown",
   "metadata": {},
   "source": [
    "Даны два уравнения $f(x)=0$ и $g(x)=0$. Найти с точностью $\\varepsilon = 10^{-10}$ все корни уравнений, содержащиеся на отрезке $[a, b]$. Для решения задачи использовать метод бисекции."
   ]
  },
  {
   "cell_type": "markdown",
   "metadata": {},
   "source": [
    "## Вариант 7, задача 2.1.7:\n",
    "\n",
    "Отрезок $[a, b] = [5, 25];$\n",
    "\n",
    "$f(x) = (\\ln{x})^2 - 5 \\ln{x} + 6$;\n",
    "\n",
    "$g(x) = (\\ln{x})^2 - 4 \\ln{x} + 4$."
   ]
  },
  {
   "cell_type": "markdown",
   "metadata": {},
   "source": [
    "# Теория\n",
    "\n",
    "Метод бисекции (или метод деления отрезка пополам) — простейший численный метод для решения нелинейных уравнений вида $f(x)=0.$ Предполагается только непрерывность функции $f(x)$. Поиск основывается на теореме о промежуточных значениях."
   ]
  },
  {
   "cell_type": "markdown",
   "metadata": {},
   "source": [
    "## 1. Описание метода\n",
    "\n",
    "Пусть требуется с заданной точностью $\\varepsilon > 0$ найти корень $\\bar{x}$ уравнения $f(x)=0$. Отрезок локализации $[a, b]$ (т.е. отрезок, содержащий только один корень $\\bar{x}$) будем считать заданным. Предположим, что функция $f$ непрерына на отрезке $[a, b]$ и на его концах принимает значения разных знаков, т.е. $f(a) \\cdot f(b) < 0$.\n",
    "\n",
    "Для дальнейшего будет удобно обозначить отрезок $[a, b]$ через $[a^{(0)}, b^{(0)}]$. Примем за приближенное значение корня середину отрезка - точку $x^{(0)} = \\cfrac{a^{(0)} + b^{(0)}}{2}$. Так как положение корня $\\bar{x}$ на отрезке $[a^{(0)}, b^{(0)}]$ неизвестно, то можно лишь утверждать, что погрешность этого приближения не превышает половины длины отрезка: $\\vert x^{(0)} - \\bar{x}\\vert \\leqslant \\cfrac{b^{(0)}-a^{(0)}}{2}$.\n",
    "\n",
    "Уменьшить погрешность приближения можно, уточнив отрезок локализации, т.е. заменив начальный отрезок $[a^{(0)}, b^{(0)}]$ отрезком $[a^{(1)}, b^{(1)}]$ меньшей длины. Согласно *методу бисекции (половинного деления)* в качестве $[a^{(1)}, b^{(1)}]$ берут тот из отрезков $[a^{(0)}, x^{(0)}]$ и $[x^{(0)}, b^{(0)}]$, на концах которого выполняется условие $f(a^{(1)}) \\cdot f(b^{(1)}) \\leqslant 0$. Этот отрезок содержит искомый корень. Действительно, если $f(a^{(1)}) \\cdot f(b^{(1)}) < 0$, то наличие корня следует из теоремы:\n",
    "\n",
    "#### Пусть функция $f$ непрерывна на отрезке $[a, b]$ и принимает на его концах значения разных знаков, т.е. $f(a) \\cdot f(b) < 0$.$\\\\ $Тогда отрезок $[a, b]$ содержит по крайней мере один корень уравнения $f(x)=0$.\n",
    "\n",
    "\n",
    "Если же $f(a^{(1)}) \\cdot f(b^{(1)}) = 0$, то корнем является один из концов отрезка. \n",
    "\n",
    "Середина полученного отрезка $x^{(1)} = \\cfrac{a^{(1)}+b^{(1)}}{2}$ дает теперь приближение к корню, оценка погрешности которого составляет $\\vert x^{(1)} - \\bar{x}\\vert \\leqslant \\cfrac{b^{(1)}-a^{(1)}}{2} = \\cfrac{b-a}{2^2}$.\n",
    "\n",
    "За очередное уточнение отрезка локализации $[a^{(2)}, b^{(2)}]$ снова берут тот из отрезков $[a^{(1)}, x^{(1)}]$, $[x^{(1)}, b^{(1)}]$, на концах которого выполняется условие $f(a^{(2)}) \\cdot f(b^{(2)}) \\leqslant 0$.\n",
    "\n",
    "Опишем очередную $(n+1)$-ю итерацию метода. Пусть отрезок $[a^{(n)}, b^{(n)}]$ уже найден и вычислены значения $x^{(n)}, f(a^{(n)}), f(b^{(n)})$. Тогда производят следующие действия:\n",
    "\n",
    "$1^{\\circ}$. Вычисляют $f(x^{(n)})$.\n",
    "\n",
    "$2^{\\circ}$. Если $f(a^{(n)}) \\cdot f(b^{(n)}) \\leqslant 0$, то в качестве отрезка локализации $[a^{(n+1)}, b^{(n+1)}]$ принимают отрезок $[a^{(n)}, x^{(n)}]$. В противном случае $f(x^{(n)}) \\cdot f(b^{(n)}) < 0$ и за $[a^{(n+1)}, b^{(n+1)}]$ принимают отрезок $[x^{(n)}, b^{(n)}]$.\n",
    "\n",
    "$3^{\\circ}$. Вычисляют $x^{(n+1)} = \\cfrac{a^{(n+1)} + b^{(n+1)}}{2}$.\n",
    "\n",
    "Неограниченное продолжение итерационного процесса дает последовательность отрезков $[a^{(0)}, b^{(0)}]$, $[a^{(1)}, b^{(1)}]$, $\\ldots$, $[a^{(n)}, b^{(n)}]$, $\\ldots$, содержащих искомый корень. Каждый из них (за исключением начального) получен делением пополам предыдущего отрезка."
   ]
  },
  {
   "cell_type": "markdown",
   "metadata": {},
   "source": [
    "## 2. Скорость сходимости\n",
    "\n",
    "Середина $n$-го отрезка - точка $x^{(n)}$ = $\\cfrac{a^{(n)} + b^{(n)}}{2}$ дает приближение к корню $\\bar{x}$, имеющее оценку погрешности $\\vert x^{(n)} - \\bar{x}\\vert \\leqslant \\cfrac{b^{(n)}-a^{(n)}}{2} = \\cfrac{b-a}{2^{n+1}}$.\n",
    "\n",
    "Из этой оценки видно, что метод бисекции сходится со скоростью геометрической прогрессии, заменатель которой $q = \\frac{1}{2}$. По сравнению с другими методами метод бисекции сходится довольно медленно. Однако он достаточно прост и весьма непритязателен; для его применения достаточно, что выполнялось неравенство $f(a) \\cdot f(b) < 0$, функция $f$ была непрерывна и верно определялся ее знак. В тех ситуациях, где не нужна сверхвысокая точность сходимости (а \n",
    "то часто имеет место при простых инженерных расчетах), этот метод весьма привлекателен.\n",
    "\n",
    "Заметим, что число итераций, которое требуется при применении метода бисекции для достижения разумной точности $\\varepsilon$, не может быть очень большим. Например, для уменьшения начального отрезка локализации в $10^6$ раз нужно 19 итераций."
   ]
  },
  {
   "cell_type": "markdown",
   "metadata": {},
   "source": [
    "## 3. Критерий окончания\n",
    "\n",
    "Итерации следует вести до тех пор, пока не будет выполнено неравенство $b^{(n)} - a^{(n)} < 2 \\varepsilon$. При его выполнении можно принять $x^{(n)}$ за приближение к корню с точность $\\varepsilon$."
   ]
  },
  {
   "cell_type": "markdown",
   "metadata": {},
   "source": [
    "## Аналитическое решение уравнений\n",
    "\n",
    "#### Первое уравнение $f(x) = 0$\n",
    "\n",
    "$f(x) = 0: \\quad (\\ln{x})^2 - 5 \\ln{x} + 6 = 0$\n",
    "\n",
    "Введем замену: $\\ln{x} = t$, тогда уравнение примет вид $t^2 - 5 t + 6 = 0$ (квадратное). \n",
    "\n",
    "Применив, например, теорему Виета, получаем:\n",
    "\n",
    "$\\begin{cases}\n",
    "t_1 + t_2  = 5;\\\\\n",
    "t_1 \\cdot t_2  = 6.\\\\\n",
    "\\end{cases}$\n",
    "\n",
    "Откуда $t_1 = 2, t_2 = 3$. \n",
    "\n",
    "Учитывая, что $t = \\ln{x}$, получаем \n",
    "\n",
    "* $\\ln{x_1} = t_1 \\Leftrightarrow x_1 = e^{t_1} = e^2 \\approx 7.3890560989$;\n",
    "\n",
    "* $\\ln{x_2} = t_2 \\Leftrightarrow x_2 = e^{t_2} = e^3 \\approx 20.0855369232$.\n",
    "\n",
    "\n",
    "#### Второе уравнение $g(x) = 0$\n",
    "\n",
    "$g(x) = 0: \\quad (\\ln{x})^2 - 4 \\ln{x} + 4 = 0$\n",
    "\n",
    "Введем замену: $\\ln{x} = t$, тогда уравнение примет вид $t^2 - 4 t + 4 = 0$ (квадратное). \n",
    "\n",
    "Применив, например, теорему Виета, получаем:\n",
    "\n",
    "$\\begin{cases}\n",
    "t_1 + t_2  = 4;\\\\\n",
    "t_1 \\cdot t_2  = 4.\\\\\n",
    "\\end{cases}$\n",
    "\n",
    "Откуда единственный корень $t = 2$. \n",
    "\n",
    "Учитывая, что $t = \\ln{x}$, получаем \n",
    "\n",
    "* $\\ln{x} = t \\Leftrightarrow x = e^{t} = e^2 \\approx 7.3890560989$."
   ]
  },
  {
   "cell_type": "markdown",
   "metadata": {},
   "source": [
    "# Программа"
   ]
  },
  {
   "cell_type": "code",
   "execution_count": 2,
   "metadata": {
    "collapsed": true
   },
   "outputs": [],
   "source": [
    "import numpy as np\n",
    "import matplotlib.pyplot as plt\n",
    "import math\n",
    "import scipy.optimize\n",
    "from scipy.misc import derivative\n",
    "%matplotlib inline"
   ]
  },
  {
   "cell_type": "code",
   "execution_count": 3,
   "metadata": {
    "collapsed": true
   },
   "outputs": [],
   "source": [
    "# f, g - наши функции (даны выше)\n",
    "f1 = lambda x: math.pow(math.log(x), 2) - 5*math.log(x) + 6\n",
    "g = lambda x: math.pow(math.log(x), 2) - 4*math.log(x) + 4"
   ]
  },
  {
   "cell_type": "markdown",
   "metadata": {},
   "source": [
    "#### Функция проверки знака произведения $f(a) \\cdot f(b)$ ($a$ и $b$ - концы отрезка)\n",
    "\n",
    "$sign(f(a)) \\ne sign(f(b))$"
   ]
  },
  {
   "cell_type": "code",
   "execution_count": 4,
   "metadata": {
    "collapsed": true
   },
   "outputs": [],
   "source": [
    "# проверка знака произведения f(a) f(b) - понадобится в алгоритме\n",
    "def sign(a, b):\n",
    "        return a * b < 0"
   ]
  },
  {
   "cell_type": "markdown",
   "metadata": {},
   "source": [
    "#### Непосредственно реализация метода бисекции"
   ]
  },
  {
   "cell_type": "code",
   "execution_count": 5,
   "metadata": {
    "collapsed": true
   },
   "outputs": [],
   "source": [
    "def Bisection(a, b, eps, func):\n",
    "    # a, b - начало и конец отрезка;\n",
    "    # eps - требуемая точность;\n",
    "    # func - функция.\n",
    "    k = 0 # k - считаем число итераций;\n",
    "    xn = (a+b)/2\n",
    "    while (b - a) >= 2*eps: # т.к. критерий остановки: (b - a) < 2 * eps\n",
    "        # проверка знака произведения\n",
    "        if sign(func(a), func(xn)): \n",
    "            b = xn\n",
    "        if sign(func(b), func(xn)):\n",
    "            a = xn\n",
    "        # снова делим пополам\n",
    "        xn = (a + b)/2\n",
    "        k += 1 # посчитываем итерации\n",
    "    x = xn\n",
    "    return x, k # функция возвращает корень и кол-во итераций"
   ]
  },
  {
   "cell_type": "markdown",
   "metadata": {},
   "source": [
    "#### Точность $\\varepsilon$ для задания 2.1"
   ]
  },
  {
   "cell_type": "code",
   "execution_count": 7,
   "metadata": {
    "collapsed": true
   },
   "outputs": [],
   "source": [
    "eps1 = math.pow(10, -10)"
   ]
  },
  {
   "cell_type": "markdown",
   "metadata": {},
   "source": [
    "### Определим отрезки локализации корней $f(x) = 0$ графическим способом"
   ]
  },
  {
   "cell_type": "code",
   "execution_count": 157,
   "metadata": {},
   "outputs": [
    {
     "data": {
      "text/plain": [
       "<matplotlib.text.Text at 0x20a501d3160>"
      ]
     },
     "execution_count": 157,
     "metadata": {},
     "output_type": "execute_result"
    },
    {
     "data": {
      "image/png": "[encoded data removed]",
      "text/plain": [
       "<matplotlib.figure.Figure at 0x20a505cf0b8>"
      ]
     },
     "metadata": {},
     "output_type": "display_data"
    }
   ],
   "source": [
    "# изобразим найденные точки на коорд. плоскости\n",
    "x = np.linspace(5, 25)\n",
    "fx = (np.log(x))**2 - 5*np.log(x)+6\n",
    "plt.plot(x, fx)\n",
    "plt.grid(True)\n",
    "plt.xlabel(r'$x$', fontsize=20)\n",
    "plt.ylabel(r'$f(x)$', fontsize=20)\n",
    "plt.title('График функции f(x) = $(\\ln{x})^2 - 5 \\ln{x}$ + 6', fontsize=20)"
   ]
  },
  {
   "cell_type": "markdown",
   "metadata": {},
   "source": [
    "Из графика видно, что на заданном отрезке $[5, 25]$ уравнение $f(x) = 0$ имеет 2 корня. Определим отрезки так:\n",
    "\n",
    "* для первого корня возьмем отрезок локализации $[6, 8]$, \n",
    "\n",
    "* для второго корня возьмем отрезок локализации $[19, 21]$."
   ]
  },
  {
   "cell_type": "code",
   "execution_count": 159,
   "metadata": {},
   "outputs": [
    {
     "name": "stdout",
     "output_type": "stream",
     "text": [
      "Корень x1: 7.3890560989\n",
      "Потребовалось итераций: 34\n"
     ]
    }
   ],
   "source": [
    "x1 = Bisection(6, 8, eps1, f1)\n",
    "print(\"Корень x1: {0:.10f}\\nПотребовалось итераций: {1}\".format(x1[0], x1[1]))"
   ]
  },
  {
   "cell_type": "code",
   "execution_count": 160,
   "metadata": {},
   "outputs": [
    {
     "name": "stdout",
     "output_type": "stream",
     "text": [
      "Корень x2: 20.0855369232\n",
      "Потребовалось итераций: 34\n"
     ]
    }
   ],
   "source": [
    "x2 = Bisection(19, 21, eps1, f1)\n",
    "print(\"Корень x2: {0:.10f}\\nПотребовалось итераций: {1}\".format(x2[0], x2[1]))"
   ]
  },
  {
   "cell_type": "markdown",
   "metadata": {},
   "source": [
    "### Изобразим найденные точки на координатной плоскости"
   ]
  },
  {
   "cell_type": "code",
   "execution_count": 162,
   "metadata": {},
   "outputs": [
    {
     "data": {
      "text/plain": [
       "<matplotlib.text.Text at 0x20a4fb7dba8>"
      ]
     },
     "execution_count": 162,
     "metadata": {},
     "output_type": "execute_result"
    },
    {
     "data": {
      "image/png": "[encoded data removed]",
      "text/plain": [
       "<matplotlib.figure.Figure at 0x20a4f86e780>"
      ]
     },
     "metadata": {},
     "output_type": "display_data"
    }
   ],
   "source": [
    "plt.plot(x, fx)\n",
    "plt.grid(True)\n",
    "plt.scatter(x1[0], 0, c='r') # отметим 1й корень\n",
    "plt.scatter(x2[0], 0, c='r') # отметим 2й корень\n",
    "plt.xlabel(r'$x$', fontsize=20)\n",
    "plt.ylabel(r'$f(x)$', fontsize=20)\n",
    "plt.title('График функции f(x) = $(\\ln{x})^2 - 5 \\ln{x}$ + 6\\n и корни уравнения f(x)=0', fontsize=20)"
   ]
  },
  {
   "cell_type": "markdown",
   "metadata": {},
   "source": [
    "### Определим отрезки локализации корней $g(x) = 0$ графическим способом"
   ]
  },
  {
   "cell_type": "code",
   "execution_count": 163,
   "metadata": {},
   "outputs": [
    {
     "data": {
      "text/plain": [
       "<matplotlib.text.Text at 0x20a4feb4940>"
      ]
     },
     "execution_count": 163,
     "metadata": {},
     "output_type": "execute_result"
    },
    {
     "data": {
      "image/png": "[encoded data removed]",
      "text/plain": [
       "<matplotlib.figure.Figure at 0x20a4fbbdb00>"
      ]
     },
     "metadata": {},
     "output_type": "display_data"
    }
   ],
   "source": [
    "gx = (np.log(x))**2 - 4*np.log(x)+4\n",
    "plt.plot(x, gx)\n",
    "plt.grid(True)\n",
    "plt.xlabel(r'$x$', fontsize=20)\n",
    "plt.ylabel(r'$g(x)$', fontsize=20)\n",
    "plt.title('График функции g(x) = $(\\ln{x})^2 - 4 \\ln{x}$ + 4', fontsize=20)"
   ]
  },
  {
   "cell_type": "markdown",
   "metadata": {},
   "source": [
    "Как можно заметить, у уравнения $g(x) = 0$ имеется один корень на отрезке $[5, 25]$ (вершина), и он был вычислен аналитически (см. выше). Однако сама функция не меняет знак на всем отрезке. Таким образом, не выполнится условие $f(a) \\cdot f(b) < 0$."
   ]
  },
  {
   "cell_type": "markdown",
   "metadata": {},
   "source": [
    "## Вывод\n",
    "\n",
    "Таким образом, алгоритм находит такие корни\n",
    "\n",
    "* корни уравнения $f(x)=0$: $x_1 = 7.3890560989$ и $x_2 = 20.0855369232$;\n",
    "\n",
    "* корень уравения $g(x)=0$: метод бисекции не подходит, т.к. функция не меняет знак на всем отрезке $\\Rightarrow$ не выполняется условие теоремы $f(a) \\cdot f(b) < 0$."
   ]
  },
  {
   "cell_type": "markdown",
   "metadata": {},
   "source": [
    "# С помощью функции scipy.optimize.bisect\n",
    "\n",
    "https://docs.scipy.org/doc/scipy-0.14.0/reference/generated/scipy.optimize.bisect.html"
   ]
  },
  {
   "cell_type": "markdown",
   "metadata": {},
   "source": [
    "Будем брать те же отрезки: для первого корня $[6, 8]$ и для второго $[19, 21]$."
   ]
  },
  {
   "cell_type": "markdown",
   "metadata": {},
   "source": [
    "#### Первый корень (отрезок $[6, 8]$)"
   ]
  },
  {
   "cell_type": "code",
   "execution_count": 11,
   "metadata": {},
   "outputs": [
    {
     "data": {
      "text/plain": [
       "7.389056098938454"
      ]
     },
     "execution_count": 11,
     "metadata": {},
     "output_type": "execute_result"
    }
   ],
   "source": [
    "scipy.optimize.bisect(f, 6, 8, xtol=1e-10)"
   ]
  },
  {
   "cell_type": "markdown",
   "metadata": {},
   "source": [
    "Принимая решение ```scipy.optimize.bisect``` за эталонное, вычислим абсолютную и относительную погрешность корня ```x1[0]```, вычисленного нашим алгоритмом."
   ]
  },
  {
   "cell_type": "markdown",
   "metadata": {},
   "source": [
    "* Абсолютная погрешность:"
   ]
  },
  {
   "cell_type": "code",
   "execution_count": 12,
   "metadata": {},
   "outputs": [
    {
     "data": {
      "text/plain": [
       "9.094947017729282e-12"
      ]
     },
     "execution_count": 12,
     "metadata": {},
     "output_type": "execute_result"
    }
   ],
   "source": [
    "abs(scipy.optimize.bisect(f, 6, 8) - x1[0])"
   ]
  },
  {
   "cell_type": "markdown",
   "metadata": {},
   "source": [
    "* Относительная погрешность:"
   ]
  },
  {
   "cell_type": "code",
   "execution_count": 13,
   "metadata": {},
   "outputs": [
    {
     "data": {
      "text/plain": [
       "1.2308672306665935e-12"
      ]
     },
     "execution_count": 13,
     "metadata": {},
     "output_type": "execute_result"
    }
   ],
   "source": [
    "abs(scipy.optimize.bisect(f, 6, 8) - x1[0])/abs(scipy.optimize.bisect(f, 6, 8))"
   ]
  },
  {
   "cell_type": "markdown",
   "metadata": {},
   "source": [
    "#### Вывод\n",
    "\n",
    "Порядок погрешности $10^{-12}$, что не превышает требуемой точности $\\varepsilon = 10^{-10} \\Rightarrow$ всё хорошо, решение получилось довольно близким к *\"истинному\"*."
   ]
  },
  {
   "cell_type": "markdown",
   "metadata": {},
   "source": [
    "#### Первый корень (отрезок $[19, 21]$)"
   ]
  },
  {
   "cell_type": "code",
   "execution_count": 14,
   "metadata": {},
   "outputs": [
    {
     "data": {
      "text/plain": [
       "20.08553692320129"
      ]
     },
     "execution_count": 14,
     "metadata": {},
     "output_type": "execute_result"
    }
   ],
   "source": [
    "scipy.optimize.bisect(f, 19, 21, xtol=1e-10)"
   ]
  },
  {
   "cell_type": "markdown",
   "metadata": {},
   "source": [
    "Принимая решение ```scipy.optimize.bisect``` за эталонное, вычислим абсолютную и относительную погрешность корня ```x2[0]```, вычисленного нашим алгоритмом."
   ]
  },
  {
   "cell_type": "markdown",
   "metadata": {},
   "source": [
    "* Абсолютная погрешность:"
   ]
  },
  {
   "cell_type": "code",
   "execution_count": 15,
   "metadata": {},
   "outputs": [
    {
     "name": "stdout",
     "output_type": "stream",
     "text": [
      "1.2732925824820995e-11\n"
     ]
    }
   ],
   "source": [
    "print(abs(scipy.optimize.bisect(f, 19, 21) - x2[0]))"
   ]
  },
  {
   "cell_type": "markdown",
   "metadata": {},
   "source": [
    "* Относительная погрешность:"
   ]
  },
  {
   "cell_type": "code",
   "execution_count": 16,
   "metadata": {},
   "outputs": [
    {
     "data": {
      "text/plain": [
       "6.339350485632752e-13"
      ]
     },
     "execution_count": 16,
     "metadata": {},
     "output_type": "execute_result"
    }
   ],
   "source": [
    "abs(scipy.optimize.bisect(f, 19, 21) - x2[0])/abs(scipy.optimize.bisect(f, 19, 21))"
   ]
  },
  {
   "cell_type": "markdown",
   "metadata": {},
   "source": [
    "#### Вывод\n",
    "\n",
    "Порядок погрешности $10^{-13}$, что не превышает требуемой точности $\\varepsilon = 10^{-10} \\Rightarrow$ всё хорошо, решение получилось довольно близким к *\"истинному\"*."
   ]
  },
  {
   "cell_type": "markdown",
   "metadata": {},
   "source": [
    "### Еще можно найти корни с помощью встроенной функции ```scipy.optimize.brentq```\n",
    "\n",
    "https://docs.scipy.org/doc/scipy/reference/generated/scipy.optimize.brentq.html"
   ]
  },
  {
   "cell_type": "markdown",
   "metadata": {},
   "source": [
    "#### Первый корень (отрезок $[6, 8]$)"
   ]
  },
  {
   "cell_type": "code",
   "execution_count": 17,
   "metadata": {},
   "outputs": [
    {
     "data": {
      "text/plain": [
       "7.389056098930621"
      ]
     },
     "execution_count": 17,
     "metadata": {},
     "output_type": "execute_result"
    }
   ],
   "source": [
    "scipy.optimize.brentq(f, 6, 8, xtol=1e-10)"
   ]
  },
  {
   "cell_type": "markdown",
   "metadata": {},
   "source": [
    "Принимая решение ```scipy.optimize.brentq``` за эталонное, вычислим абсолютную и относительную погрешность корня ```x1[0]```, вычисленного нашим алгоритмом."
   ]
  },
  {
   "cell_type": "markdown",
   "metadata": {},
   "source": [
    "* Абсолютная погрешность:"
   ]
  },
  {
   "cell_type": "code",
   "execution_count": 18,
   "metadata": {},
   "outputs": [
    {
     "data": {
      "text/plain": [
       "1.4065193454371183e-11"
      ]
     },
     "execution_count": 18,
     "metadata": {},
     "output_type": "execute_result"
    }
   ],
   "source": [
    "abs(scipy.optimize.brentq(f, 19, 21, xtol=1e-10) - x2[0])"
   ]
  },
  {
   "cell_type": "markdown",
   "metadata": {},
   "source": [
    "* Относительная погрешность:"
   ]
  },
  {
   "cell_type": "code",
   "execution_count": 19,
   "metadata": {},
   "outputs": [
    {
     "data": {
      "text/plain": [
       "7.00264748120026e-13"
      ]
     },
     "execution_count": 19,
     "metadata": {},
     "output_type": "execute_result"
    }
   ],
   "source": [
    "abs(scipy.optimize.brentq(f, 19, 21, xtol=1e-10) - x2[0])/abs(scipy.optimize.brentq(f, 19, 21))"
   ]
  },
  {
   "cell_type": "markdown",
   "metadata": {},
   "source": [
    "#### Вывод\n",
    "\n",
    "Порядок погрешности $10^{-13}$, что не превышает требуемой точности $\\varepsilon = 10^{-10} \\Rightarrow$ всё хорошо, решение получилось довольно близким к *\"истинному\"*."
   ]
  },
  {
   "cell_type": "markdown",
   "metadata": {},
   "source": [
    "#### Второй корень (отрезок $[19, 21]$)"
   ]
  },
  {
   "cell_type": "code",
   "execution_count": 20,
   "metadata": {},
   "outputs": [
    {
     "data": {
      "text/plain": [
       "20.085536923187224"
      ]
     },
     "execution_count": 20,
     "metadata": {},
     "output_type": "execute_result"
    }
   ],
   "source": [
    "scipy.optimize.brentq(f, 19, 21, xtol=1e-10)"
   ]
  },
  {
   "cell_type": "markdown",
   "metadata": {},
   "source": [
    "Принимая решение ```scipy.optimize.brentq``` за эталонное, вычислим абсолютную и относительную погрешность корня ```x2[0]```, вычисленного нашим алгоритмом."
   ]
  },
  {
   "cell_type": "markdown",
   "metadata": {},
   "source": [
    "* Абсолютная погрешность:"
   ]
  },
  {
   "cell_type": "code",
   "execution_count": 21,
   "metadata": {},
   "outputs": [
    {
     "data": {
      "text/plain": [
       "1.4065193454371183e-11"
      ]
     },
     "execution_count": 21,
     "metadata": {},
     "output_type": "execute_result"
    }
   ],
   "source": [
    "abs(scipy.optimize.brentq(f, 19, 21, xtol=1e-10) - x2[0])"
   ]
  },
  {
   "cell_type": "markdown",
   "metadata": {},
   "source": [
    "* Относительная погрешность:"
   ]
  },
  {
   "cell_type": "code",
   "execution_count": 22,
   "metadata": {},
   "outputs": [
    {
     "data": {
      "text/plain": [
       "7.00264748120026e-13"
      ]
     },
     "execution_count": 22,
     "metadata": {},
     "output_type": "execute_result"
    }
   ],
   "source": [
    "abs(scipy.optimize.brentq(f, 19, 21, xtol=1e-10) - x2[0])/abs(scipy.optimize.brentq(f, 19, 21, xtol=1e-10))"
   ]
  },
  {
   "cell_type": "markdown",
   "metadata": {},
   "source": [
    "#### Вывод\n",
    "\n",
    "Порядок погрешности $10^{-13}$, что не превышает требуемой точности $\\varepsilon = 10^{-10} \\Rightarrow$ всё хорошо, решение получилось довольно близким к *\"истинному\"*."
   ]
  },
  {
   "cell_type": "markdown",
   "metadata": {},
   "source": [
    "# 2.2: метод бисекции и метод Ньютона"
   ]
  },
  {
   "cell_type": "markdown",
   "metadata": {},
   "source": [
    "Найти указанный в варианте  корень уравнения $f(x)=0$ с точностью $\\varepsilon = 10^{-6}$,  двумя  способами.\n",
    "\n",
    "а) Использовать метод бисекции. Предварительно определить отрезок локализации  $[a, b]$.\n",
    "\n",
    "b) Использовать метод Ньютона. В качестве начального приближения для метода Ньютона взять  середину отрезка локализации из п. а).\n",
    "\n",
    "Сравнить число итераций в п. a), b).\n",
    "\n",
    "\n",
    "## Вариант 7, задача 2.2.2:\n",
    "\n",
    "Функция $\\large f(x) = x e^x - x - 1$\n",
    "\n",
    "Положительный корень"
   ]
  },
  {
   "cell_type": "markdown",
   "metadata": {},
   "source": [
    "# Теория\n",
    "\n",
    "## a) Метод бисекции\n",
    "\n",
    "Метод бисекции или метод деления отрезка пополам — простейший численный метод для решения нелинейных уравнений вида $f(x)=0.$ Предполагается только непрерывность функции $f(x)$. Поиск основывается на теореме о промежуточных значениях.\n",
    "\n",
    "### 1. Описание метода\n",
    "\n",
    "Пусть требуется с заданной точностью $\\varepsilon > 0$ найти корень $\\bar{x}$ уравнения $f(x)=0$. Отрезок локализации $[a, b]$ (т.е. отрезок, содержащий только один корень $\\bar{x}$) будем считать заданным. Предположим, что функция $f$ непрерына на отрезке $[a, b]$ и на его концах принимает значения разных знаков, т.е. $f(a) \\cdot f(b) < 0$.\n",
    "\n",
    "Для дальнейшего будет удобно обозначить отрезок $[a, b]$ через $[a^{(0)}, b^{(0)}]$. Примем за приближенное значение корня середину отрезка - точку $x^{(0)} = \\cfrac{a^{(0)} + b^{(0)}}{2}$. Так как положение корня $\\bar{x}$ на отрезке $[a^{(0)}, b^{(0)}]$ неизвестно, то можно лишь утверждать, что погрешность этого приближения не превышает половины длины отрезка: $\\vert x^{(0)} - \\bar{x}\\vert \\leqslant \\cfrac{b^{(0)}-a^{(0)}}{2}$.\n",
    "\n",
    "Уменьшить погрешность приближения можно, уточнив отрезок локализации, т.е. заменив начальный отрезок $[a^{(0)}, b^{(0)}]$ отрезком $[a^{(1)}, b^{(1)}]$ меньшей длины. Согласно *методу бисекции (половинного деления)* в качестве $[a^{(1)}, b^{(1)}]$ берут тот из отрезков $[a^{(0)}, x^{(0)}]$ и $[x^{(0)}, b^{(0)}]$, на концах которого выполняется условие $f(a^{(1)}) \\cdot f(b^{(1)}) \\leqslant 0$. Этот отрезок содержит искомый корень. Действительно, если $f(a^{(1)}) \\cdot f(b^{(1)}) < 0$, то наличие корня следует из теоремы:\n",
    "\n",
    "#### Пусть функция $f$ непрерывна на отрезке $[a, b]$ и принимает на его концах значения разных знаков, т.е. $f(a) \\cdot f(b) < 0$.$\\\\ $Тогда отрезок $[a, b]$ содержит по крайней мере один корень уравнения $f(x)=0$.\n",
    "\n",
    "\n",
    "Если же $f(a^{(1)}) \\cdot f(b^{(1)}) = 0$, то корнем является один из концов отрезка. \n",
    "\n",
    "Середина полученного отрезка $x^{(1)} = \\cfrac{a^{(1)}+b^{(1)}}{2}$ дает теперь приближение к корню, оценка погрешности которого составляет $\\vert x^{(1)} - \\bar{x}\\vert \\leqslant \\cfrac{b^{(1)}-a^{(1)}}{2} = \\cfrac{b-a}{2^2}$.\n",
    "\n",
    "За очередное уточнение отрезка локализации $[a^{(2)}, b^{(2)}]$ снова берут тот из отрезков $[a^{(1)}, x^{(1)}]$, $[x^{(1)}, b^{(1)}]$, на концах которого выполняется условие $f(a^{(2)}) \\cdot f(b^{(2)}) \\leqslant 0$.\n",
    "\n",
    "Опишем очередную $(n+1)$-ю итерацию метода. Пусть отрезок $[a^{(n)}, b^{(n)}]$ уже найден и вычислены значения $x^{(n)}, f(a^{(n)}), f(b^{(n)})$. Тогда производят следующие действия:\n",
    "\n",
    "$1^{\\circ}$. Вычисляют $f(x^{(n)})$.\n",
    "\n",
    "$2^{\\circ}$. Если $f(a^{(n)}) \\cdot f(b^{(n)}) \\leqslant 0$, то в качестве отрезка локализации $[a^{(n+1)}, b^{(n+1)}]$ принимают отрезок $[a^{(n)}, x^{(n)}]$. В противном случае $f(x^{(n)}) \\cdot f(b^{(n)}) < 0$ и за $[a^{(n+1)}, b^{(n+1)}]$ принимают отрезок $[x^{(n)}, b^{(n)}]$.\n",
    "\n",
    "$3^{\\circ}$. Вычисляют $x^{(n+1)} = \\cfrac{a^{(n+1)} + b^{(n+1)}}{2}$.\n",
    "\n",
    "Неограниченное продолжение итерационного процесса дает последовательность отрезков $[a^{(0)}, b^{(0)}]$, $[a^{(1)}, b^{(1)}]$, $\\ldots$, $[a^{(n)}, b^{(n)}]$, $\\ldots$, содержащих искомый корень. Каждый из них (за исключением начального) получен делением пополам предыдущего отрезка.\n",
    "\n",
    "### 2. Скорость сходимости\n",
    "\n",
    "Середина $n$-го отрезка - точка $x^{(n)}$ = $\\cfrac{a^{(n)} + b^{(n)}}{2}$ дает приближение к корню $\\bar{x}$, имеющее оценку погрешности $\\vert x^{(n)} - \\bar{x}\\vert \\leqslant \\cfrac{b^{(n)}-a^{(n)}}{2} = \\cfrac{b-a}{2^{n+1}}$.\n",
    "\n",
    "Из этой оценки видно, что метод бисекции сходится со скоростью геометрической прогрессии, заменатель которой $q = \\frac{1}{2}$. По сравнению с другими методами метод бисекции сходится довольно медленно. Однако он достаточно прост и весьма непритязателен; для его применения достаточно, что выполнялось неравенство $f(a) \\cdot f(b) < 0$, функция $f$ была непрерывна и верно определялся ее знак. В тех ситуациях, где не нужна сверхвысокая точность сходимости (а \n",
    "то часто имеет место при простых инженерных расчетах), этот метод весьма привлекателен.\n",
    "\n",
    "Заметим, что число итераций, которое требуется при применении метода бисекции для достижения разумной точности $\\varepsilon$, не может быть очень большим. Например, для уменьшения начального отрезка локализации в $10^6$ раз нужно 19 итераций.\n",
    "\n",
    "### 3. Критерий окончания\n",
    "\n",
    "Итерации следует вести до тех пор, пока не будет выполнено неравенство $b^{(n)} - a^{(n)} < 2 \\varepsilon$. При его выполнении можно принять $x^{(n)}$ за приближение к корню с точность $\\varepsilon$."
   ]
  },
  {
   "cell_type": "markdown",
   "metadata": {},
   "source": [
    "## b) Метод Ньютона\n",
    "\n",
    "Метод Ньютона, алгоритм Ньютона (также известный как метод касательных) — это итерационный численный метод нахождения корня (нуля) заданной функции.\n",
    "\n",
    "Основная идея метода заключается в следующем: задаётся начальное приближение вблизи предположительного корня, после чего строится касательная к графику исследуемой функции в точке приближения, для которой находится пересечение с осью абсцисс. Эта точка берётся в качестве следующего приближения. И так далее, пока не будет достигнута необходимая точность.\n",
    "\n",
    "### Расчетная формула метода Ньютона:\n",
    "\n",
    "$$x^{(n+1)}=x^{(n)}-\\cfrac{f(x^{(n)})}{f^\\prime(x^{(n)})}, n \\geqslant 0.$$\n",
    "\n",
    "### Критерий окончания\n",
    "\n",
    "При заданной точности $\\varepsilon > 0$ вычисления нужно вести до тех пор, пока не окажется выполненным неравенство\n",
    "\n",
    "$$\\vert x^{(n)} - x^{(n-1)} \\vert < \\varepsilon.$$"
   ]
  },
  {
   "cell_type": "markdown",
   "metadata": {},
   "source": [
    "# Программа"
   ]
  },
  {
   "cell_type": "markdown",
   "metadata": {},
   "source": [
    "# a) Метод бисекции"
   ]
  },
  {
   "cell_type": "code",
   "execution_count": 64,
   "metadata": {
    "collapsed": true
   },
   "outputs": [],
   "source": [
    "f2 = lambda x: x*math.exp(x) - x - 1 # функция для задания (см. текст выше)"
   ]
  },
  {
   "cell_type": "markdown",
   "metadata": {},
   "source": [
    "#### Изобразим"
   ]
  },
  {
   "cell_type": "code",
   "execution_count": 168,
   "metadata": {},
   "outputs": [
    {
     "data": {
      "text/plain": [
       "<matplotlib.text.Text at 0x20a50228278>"
      ]
     },
     "execution_count": 168,
     "metadata": {},
     "output_type": "execute_result"
    },
    {
     "data": {
      "image/png": "[encoded data removed]",
      "text/plain": [
       "<matplotlib.figure.Figure at 0x20a4fe44a58>"
      ]
     },
     "metadata": {},
     "output_type": "display_data"
    }
   ],
   "source": [
    "x_2, s = np.linspace(-2, 2, 30, retstep = True)\n",
    "fx2 = x2*np.exp(x_2) - x_2 - 1\n",
    "plt.plot(x2, fx2)\n",
    "plt.grid(True)\n",
    "plt.xlabel(r'$x$', fontsize=20)\n",
    "plt.ylabel(r'$f(x)$', fontsize=20)\n",
    "plt.title('График функции f(x) = x $e^x$ - x - 1', fontsize=20)"
   ]
  },
  {
   "cell_type": "markdown",
   "metadata": {},
   "source": [
    "Как можно заметить, у уравнения $x e^x - x - 1 = 0$ два корня, нам нужен положительный, поэтому в качестве отрезка локализации возьмем $[0.5, 1]$."
   ]
  },
  {
   "cell_type": "markdown",
   "metadata": {},
   "source": [
    "#### Точность $\\varepsilon$ для задания 2.2"
   ]
  },
  {
   "cell_type": "code",
   "execution_count": 17,
   "metadata": {
    "collapsed": true
   },
   "outputs": [],
   "source": [
    "eps2 = math.pow(10, -6)"
   ]
  },
  {
   "cell_type": "markdown",
   "metadata": {},
   "source": [
    "#### Пользуемся написанной ранее функцией ```Bisection(a, b, eps, func)```"
   ]
  },
  {
   "cell_type": "code",
   "execution_count": 18,
   "metadata": {},
   "outputs": [
    {
     "data": {
      "text/plain": [
       "(0.8064661026000977, 18)"
      ]
     },
     "execution_count": 18,
     "metadata": {},
     "output_type": "execute_result"
    }
   ],
   "source": [
    "x22_bisect = Bisection(0.5, 1, eps2, f2)\n",
    "x22_bisect"
   ]
  },
  {
   "cell_type": "code",
   "execution_count": 26,
   "metadata": {},
   "outputs": [
    {
     "name": "stdout",
     "output_type": "stream",
     "text": [
      "Итераций в методе бисекции: 18\n"
     ]
    }
   ],
   "source": [
    "print('Итераций в методе бисекции: {0}'.format(x_22[1]))"
   ]
  },
  {
   "cell_type": "markdown",
   "metadata": {},
   "source": [
    "Отметим корень на координатной плоскости"
   ]
  },
  {
   "cell_type": "code",
   "execution_count": 169,
   "metadata": {},
   "outputs": [
    {
     "data": {
      "text/plain": [
       "<matplotlib.text.Text at 0x20a502c3c18>"
      ]
     },
     "execution_count": 169,
     "metadata": {},
     "output_type": "execute_result"
    },
    {
     "data": {
      "image/png": "[encoded data removed]",
      "text/plain": [
       "<matplotlib.figure.Figure at 0x20a4f7dc588>"
      ]
     },
     "metadata": {},
     "output_type": "display_data"
    }
   ],
   "source": [
    "plt.plot(x_2, fx2)\n",
    "plt.grid(True)\n",
    "plt.scatter(x22_bisect[0], 0, c='r')\n",
    "plt.xlabel(r'$x$', fontsize=20)\n",
    "plt.ylabel(r'$f(x)$', fontsize=20)\n",
    "plt.title('График функции f(x) = x $e^x$ - x - 1\\n и положительный корень уравнения $f(x)=0$', fontsize=20)"
   ]
  },
  {
   "cell_type": "markdown",
   "metadata": {},
   "source": [
    "# b) Метод Ньютона\n",
    "\n",
    "В качестве начального приближения $-$ середина отрезка локализации пункта $a)$: $[0.5, 1]$, то есть $x_0 = 0.75$.\n",
    "\n",
    "Функция: $f(x) = x e^x - x - 1$\n",
    "\n",
    "Производная функции: $f^\\prime (x) = e^x(x+1)-1$"
   ]
  },
  {
   "cell_type": "code",
   "execution_count": 24,
   "metadata": {
    "collapsed": true
   },
   "outputs": [],
   "source": [
    "# производная\n",
    "f2_d = lambda x: math.exp(x)*(x+1) - 1"
   ]
  },
  {
   "cell_type": "markdown",
   "metadata": {},
   "source": [
    "#### Непосредственно реализация метода Ньютона"
   ]
  },
  {
   "cell_type": "code",
   "execution_count": 22,
   "metadata": {
    "collapsed": true
   },
   "outputs": [],
   "source": [
    "def Newton_method(x0, f, df, eps):\n",
    "    k=0\n",
    "    while True:\n",
    "        x1 = x0 - (f(x0) / df(x0)) # расчетная формула метода Ньютона\n",
    "        if abs(x1 - x0) < eps: # критерий окончания\n",
    "            return x1, k\n",
    "        x0 = x1\n",
    "        k+=1"
   ]
  },
  {
   "cell_type": "code",
   "execution_count": 25,
   "metadata": {},
   "outputs": [
    {
     "name": "stdout",
     "output_type": "stream",
     "text": [
      "Корень уравнения: 0.806466\n",
      "Итераций в методе Ньютона: 3\n"
     ]
    }
   ],
   "source": [
    "x22_Newton = Newton_method(0.75, f2, f2_d, eps2)\n",
    "print('Корень уравнения: {:.6f}'.format(x22_Newton[0]))\n",
    "print('Итераций в методе Ньютона: {0}'.format(x22_Newton[1]))"
   ]
  },
  {
   "cell_type": "markdown",
   "metadata": {},
   "source": [
    "#### Изобразим корень"
   ]
  },
  {
   "cell_type": "code",
   "execution_count": 171,
   "metadata": {},
   "outputs": [
    {
     "data": {
      "text/plain": [
       "<matplotlib.text.Text at 0x20a51971278>"
      ]
     },
     "execution_count": 171,
     "metadata": {},
     "output_type": "execute_result"
    },
    {
     "data": {
      "image/png": "[encoded data removed]",
      "text/plain": [
       "<matplotlib.figure.Figure at 0x20a51872518>"
      ]
     },
     "metadata": {},
     "output_type": "display_data"
    }
   ],
   "source": [
    "x_22 = np.linspace(0.5, 1)\n",
    "fx_22 = x_22*np.exp(x_22) - x_22 - 1\n",
    "plt.plot(x_22, fx)\n",
    "plt.grid(True)\n",
    "plt.scatter(x22_Newton[0], 0, c='r')\n",
    "plt.xlabel(r'$x$', fontsize=20)\n",
    "plt.ylabel(r'$f(x)$', fontsize=20)\n",
    "plt.title('График функции f(x) = x $e^x$ - x - 1\\n и корень уравнения $f(x)=0$', fontsize=20)"
   ]
  },
  {
   "cell_type": "markdown",
   "metadata": {},
   "source": [
    "#### Сравним количество итераций\n",
    "\n",
    "Методу бисекции понадобилось 18 итераций, методу Ньютона - 3. Метод бисекции по сравнению с методом Ньютона сходится довольно медленно."
   ]
  },
  {
   "cell_type": "markdown",
   "metadata": {},
   "source": [
    "# С помощью функции scipy.optimize.bisect\n",
    "\n",
    "https://docs.scipy.org/doc/scipy-0.14.0/reference/generated/scipy.optimize.bisect.html"
   ]
  },
  {
   "cell_type": "code",
   "execution_count": 50,
   "metadata": {},
   "outputs": [
    {
     "data": {
      "text/plain": [
       "0.8064656257629395"
      ]
     },
     "execution_count": 50,
     "metadata": {},
     "output_type": "execute_result"
    }
   ],
   "source": [
    "scipy.optimize.bisect(f2, 0.75, 1, rtol = 1e-6)"
   ]
  },
  {
   "cell_type": "markdown",
   "metadata": {},
   "source": [
    "Принимая решение ```scipy.optimize.bisect``` за эталонное, вычислим абсолютную и относительную погрешности корня, полученного с помощью написанного алгоритма ```Bisection```."
   ]
  },
  {
   "cell_type": "markdown",
   "metadata": {},
   "source": [
    "* Абсолютная погрешность:"
   ]
  },
  {
   "cell_type": "code",
   "execution_count": 71,
   "metadata": {},
   "outputs": [
    {
     "data": {
      "text/plain": [
       "5.912675320640171e-07"
      ]
     },
     "execution_count": 71,
     "metadata": {},
     "output_type": "execute_result"
    }
   ],
   "source": [
    "abs(scipy.optimize.bisect(f2, 0.75, 1, rtol = 1e-6) - x22_bisect[0])/abs(scipy.optimize.newton(f2, 0.75, tol = 1e-6))"
   ]
  },
  {
   "cell_type": "markdown",
   "metadata": {},
   "source": [
    "* Относительная погрешность:"
   ]
  },
  {
   "cell_type": "code",
   "execution_count": 72,
   "metadata": {},
   "outputs": [
    {
     "data": {
      "text/plain": [
       "5.912675320640171e-07"
      ]
     },
     "execution_count": 72,
     "metadata": {},
     "output_type": "execute_result"
    }
   ],
   "source": [
    "abs(scipy.optimize.bisect(f2, 0.75, 1, rtol = 1e-6) - x22_bisect[0])/abs(scipy.optimize.newton(f2, 0.75, tol = 1e-6))"
   ]
  },
  {
   "cell_type": "markdown",
   "metadata": {},
   "source": [
    "#### Вывод\n",
    "\n",
    "Порядок погрешности $10^{-7}$, что не превышает требуемой точности $\\varepsilon = 10^{-6} \\Rightarrow$ всё хорошо, решение получилось довольно близким к *\"истинному\"*."
   ]
  },
  {
   "cell_type": "markdown",
   "metadata": {},
   "source": [
    "# С помощью функции scipy.optimize.newton\n",
    "\n",
    "https://docs.scipy.org/doc/scipy/reference/generated/scipy.optimize.newton.html"
   ]
  },
  {
   "cell_type": "code",
   "execution_count": 51,
   "metadata": {},
   "outputs": [
    {
     "data": {
      "text/plain": [
       "0.8064659944011561"
      ]
     },
     "execution_count": 51,
     "metadata": {},
     "output_type": "execute_result"
    }
   ],
   "source": [
    "scipy.optimize.newton(f2, 0.75, tol = 1e-6)"
   ]
  },
  {
   "cell_type": "markdown",
   "metadata": {},
   "source": [
    "Принимая решение ```scipy.optimize.newton``` за эталонное, вычислим абсолютную и относительную погрешности корня, полученного с помощью написанного алгоритма ```Newton_method```."
   ]
  },
  {
   "cell_type": "markdown",
   "metadata": {},
   "source": [
    "* Абсолютная погрешность:"
   ]
  },
  {
   "cell_type": "code",
   "execution_count": 66,
   "metadata": {},
   "outputs": [
    {
     "data": {
      "text/plain": [
       "1.648291503286714e-10"
      ]
     },
     "execution_count": 66,
     "metadata": {},
     "output_type": "execute_result"
    }
   ],
   "source": [
    "abs(scipy.optimize.newton(f2, 0.75, tol = 1e-6) - x22_Newton[0])"
   ]
  },
  {
   "cell_type": "markdown",
   "metadata": {},
   "source": [
    "* Относительная погрешность:"
   ]
  },
  {
   "cell_type": "code",
   "execution_count": 67,
   "metadata": {},
   "outputs": [
    {
     "data": {
      "text/plain": [
       "2.0438450160699685e-10"
      ]
     },
     "execution_count": 67,
     "metadata": {},
     "output_type": "execute_result"
    }
   ],
   "source": [
    "abs(scipy.optimize.newton(f2, 0.75, tol = 1e-6) - x22_Newton[0])/abs(scipy.optimize.newton(f2, 0.75, tol = 1e-6))"
   ]
  },
  {
   "cell_type": "markdown",
   "metadata": {},
   "source": [
    "#### Вывод\n",
    "\n",
    "Порядок погрешности $10^{-10}$, что не превышает требуемой точности $\\varepsilon = 10^{-6} \\Rightarrow$ всё хорошо, решение получилось довольно близким к *\"истинному\"*."
   ]
  },
  {
   "cell_type": "markdown",
   "metadata": {},
   "source": [
    "# 2.3: метод простой итерации"
   ]
  },
  {
   "cell_type": "markdown",
   "metadata": {},
   "source": [
    "Локализовать корни уравнения $f(x)=0$ и найти их с точностью $\\varepsilon=10^{-5}$, используя метод простой итерации. К виду $x=\\varphi(x)$, удобному для итераций, уравнение $f(x)=0$ привести двумя способами."
   ]
  },
  {
   "cell_type": "markdown",
   "metadata": {},
   "source": [
    "a) Преобразовать уравнение в виду $x=x-\\alpha f(x)$, где $\\alpha=\\cfrac{2}{M+m}, 0 < m \\leqslant f^\\prime (x) \\leqslant M$, а $x$ принадлежит отрезку локализации $[a, b]$.\n",
    "\n",
    "b) Любым другим преобразованием уравнения. Проверить достаточное условие сходимости метода. \n",
    "\n",
    "\n",
    "Использовать критерий окончания итерационного процесса вида $\\vert x^{(n)} - x^{(n-1)} \\vert < \\cfrac{1-q}{q} \\varepsilon$, где\n",
    "\n",
    "в п. a) $q = \\cfrac{M-m}{M+m}$,\n",
    "\n",
    "в п. b) $q = \\large \\max\\limits_{x \\in [a, b]} \\vert \\varphi^\\prime (x) \\vert$.\n",
    "\n",
    "Сравнить число итераций и значения величины $q$ в п. a), п. b)."
   ]
  },
  {
   "cell_type": "markdown",
   "metadata": {},
   "source": [
    "## Вариант 7, задача 2.3.2:\n",
    "\n",
    "$\\large f(x) = e^{-x} - \\lg{(1-x^2)} - 2$"
   ]
  },
  {
   "cell_type": "markdown",
   "metadata": {},
   "source": [
    "# Метод простой итерации: теория"
   ]
  },
  {
   "cell_type": "markdown",
   "metadata": {},
   "source": [
    "Метод простой итерации — один из простейших численных методов решения уравнений. Метод основан на принципе сжимающего отображения, который применительно к численным методам в общем виде также может называться методом последовательных приближений.\n",
    "\n",
    "Чтобы применить метод простой итерации для решения нелинейного уравнения $f(x)=0$, необходимо преобразовать это уравнение к следующему виду:\n",
    "\n",
    "$$x = \\varphi(x).$$\n",
    "\n",
    "Это преобразование (приведение к виду, удобному для итераций) можно выполнить разными способами. Функция $\\varphi$ называется *итерационной функцией*.\n",
    "\n",
    "Выберем каким-либо образом приближенное значение корня $x^{(0)}$ и подставим его в правую часть уравнения $x = \\varphi(x).$ Получим значение $x^{(1)} = \\varphi(x^{(0)})$. Подставляя теперь $x^{(1)}$ в правую часть уравнения $x = \\varphi(x)$, имеем $x^{(2)} = \\varphi(x^{(1)})$. Продолжая этот процесс неограниченно, получаем последовательность приближений к корню, вычисляемых по формуле\n",
    "\n",
    "$$x^{(n+1)} = \\varphi(x^{(n)}), \\quad n \\geqslant 0.$$\n",
    "\n",
    "Если существует предел построенной последовательности $\\bar{x} = \\lim\\limits_{n \\to \\infty} x^{(n)}$, то, переходя к пределу в равенстве $x^{(n+1)} = \\varphi(x^{(n)})$ и предполагая функцию $\\varphi$ непрерывной, получаем равенство\n",
    "\n",
    "$$\\bar{x} = \\varphi(\\bar{x}).$$\n",
    "\n",
    "Это значит, что $\\bar{x}$ - корень уравнения $x = \\varphi(x)$.\n",
    "\n",
    "# Критерий окончания\n",
    "\n",
    "$$\\vert x^{(n)} - x^{(n-1)} \\vert < \\cfrac{1-q}{q} \\varepsilon.$$"
   ]
  },
  {
   "cell_type": "code",
   "execution_count": 63,
   "metadata": {
    "collapsed": true
   },
   "outputs": [],
   "source": [
    "f3 = lambda x: np.exp(-x) - np.log10(1-x**2) - 2 # функция для задания (см. текст выше)"
   ]
  },
  {
   "cell_type": "markdown",
   "metadata": {},
   "source": [
    "#### График функции"
   ]
  },
  {
   "cell_type": "code",
   "execution_count": 149,
   "metadata": {},
   "outputs": [
    {
     "data": {
      "text/plain": [
       "<matplotlib.text.Text at 0x20a4f73d7b8>"
      ]
     },
     "execution_count": 149,
     "metadata": {},
     "output_type": "execute_result"
    },
    {
     "data": {
      "image/png": "[encoded data removed]",
      "text/plain": [
       "<matplotlib.figure.Figure at 0x20a4e5d95f8>"
      ]
     },
     "metadata": {},
     "output_type": "display_data"
    }
   ],
   "source": [
    "x3, s = np.linspace(-0.999, 0.999, 500, retstep=True)\n",
    "fx3 = np.exp(-x3) - np.log10(1-x3**2) - 2\n",
    "plt.figure(figsize=(10, 7))\n",
    "plt.plot(x3, fx3)\n",
    "plt.plot([-1, -1], [-2, 4], c='r', linestyle='--', linewidth = 1.1)\n",
    "plt.plot([1, 1], [-2, 4], c='r', linestyle='--', linewidth = 1.1) # асимптоты для красоты\n",
    "plt.grid(True)\n",
    "plt.xlabel(r'$x$', fontsize=25)\n",
    "plt.ylabel(r'$f(x)$', fontsize=25)\n",
    "plt.title('График функции f(x) = $e^{-x}$ - $\\lg{(1-x^2)}$ - 2', fontsize=20)"
   ]
  },
  {
   "cell_type": "markdown",
   "metadata": {},
   "source": [
    "Как можно заметить, функция определена на интервале $(-1, 1)$ и имеет два корня.\n",
    "\n",
    "Определим отрезки локализации корней: $[-0.75, -0.25]$ и $[0.85, 0.99]$."
   ]
  },
  {
   "cell_type": "code",
   "execution_count": 61,
   "metadata": {
    "collapsed": true
   },
   "outputs": [],
   "source": [
    "# отрезок локализации первого корня\n",
    "a1 = -0.75\n",
    "b1 = -0.25\n",
    "\n",
    "# отрезок локализации второго корня\n",
    "a2 = 0.85\n",
    "b2 = 0.99\n",
    "\n",
    "# в дальнейшем будем пользоваться этими значениями"
   ]
  },
  {
   "cell_type": "markdown",
   "metadata": {},
   "source": [
    "#### Точность $\\varepsilon$ для задания 2.3"
   ]
  },
  {
   "cell_type": "code",
   "execution_count": 31,
   "metadata": {
    "collapsed": true
   },
   "outputs": [],
   "source": [
    "eps3 = 1e-5"
   ]
  },
  {
   "cell_type": "markdown",
   "metadata": {},
   "source": [
    "# Пункт a) \n",
    "\n",
    "Преобразовать уравнение к виду $x=x-\\alpha f(x)$, где $\\alpha = \\cfrac{2}{M+m}$, 0 < $m$ < $\\vert f^\\prime (x) \\vert$ < $M$, а $x$ принадлежит отрезку локализации  $[a, b]$."
   ]
  },
  {
   "cell_type": "markdown",
   "metadata": {},
   "source": [
    "## Первый отрезок локализации: $[-0.75, -0.25]$.\n",
    "\n",
    "Приведем уравнение $f(x) = 0$ к виду $x = x - \\alpha f(x)$ для корня на этом отрезке.\n",
    "\n",
    "* Производная функции:\n",
    "\n",
    "$f^\\prime (x) = \\cfrac{2 x}{(1-x^2) ln10} - e^x$.\n",
    "\n",
    "* На концах отрезка: \n",
    "\n",
    "$f^\\prime (-0.75) = -3.60601$,\n",
    "\n",
    "$f^\\prime (-0.25) = -1.51565$.\n",
    "\n",
    "* Значит, $m = 1.51565$ и $M = 3.60601$. Тогда $\\alpha = \\cfrac{2}{M+m} = \\cfrac{2}{3.60601 + 1.51565} = 0.390498$.\n",
    "\n",
    "Выберем знак $\\alpha$ таким образом, чтобы он соответствовал знаку производной функции $f(x)$ в окрестности корня: $\\alpha = -0.390498$\n",
    "\n",
    "* Значит, получим в итоге уравнение: \n",
    "$$x = x + 0.390498 \\bigg(e^{-x}-lg(1-x^2)-2\\bigg).$$"
   ]
  },
  {
   "cell_type": "code",
   "execution_count": 54,
   "metadata": {
    "collapsed": true
   },
   "outputs": [],
   "source": [
    "alpha1 = -0.390498 # коэфф-т alpha\n",
    "m1, M1 = 1.51565, 3.60601\n",
    "q1 = (M1 - m1)/(M1 + m1)\n",
    "x0_1 = (a1+b1)/2 # начальное приближение"
   ]
  },
  {
   "cell_type": "code",
   "execution_count": 72,
   "metadata": {
    "collapsed": true
   },
   "outputs": [],
   "source": [
    "# x0 - начальное приближение\n",
    "# alpha - коэффициент в преобразовании функции\n",
    "# func - функция\n",
    "# q - знаменатель геом. прогрессии, 0 <= q < 1\n",
    "# eps - требуемая точность\n",
    "def Fixed_point_iteration1(x0, alpha, func, q, eps):\n",
    "    x_k = x0 \n",
    "    x_n = x_k - alpha * func(x_k)\n",
    "    iters = 1 # считаем число итераций\n",
    "    while np.abs(x_n - x_k) >= ((1 - q)/q)*eps:\n",
    "        x_k = x_n\n",
    "        x_n = x_k - alpha * func(x_k)\n",
    "        iters += 1\n",
    "    return x_n, iters # возвращает корень и число итераций"
   ]
  },
  {
   "cell_type": "code",
   "execution_count": 56,
   "metadata": {},
   "outputs": [
    {
     "data": {
      "text/plain": [
       "(-0.59388404159972075, 27)"
      ]
     },
     "execution_count": 56,
     "metadata": {},
     "output_type": "execute_result"
    }
   ],
   "source": [
    "Fixed_point_iteration1(x0_1, alpha1, f3, q1, eps3)"
   ]
  },
  {
   "cell_type": "markdown",
   "metadata": {},
   "source": [
    "## Второй отрезок локализации: $[0.85, 0.99]$.\n",
    "\n",
    "Приведем уравнение $f(x) = 0$ к виду $x = x - \\alpha f(x)$ для корня на этом отрезке.\n",
    "\n",
    "* Производная функции:\n",
    "\n",
    "$f^\\prime (x) = \\cfrac{2 x}{(1-x^2) ln10} - e^x$.\n",
    "\n",
    "* На концах отрезка: \n",
    "\n",
    "$f^\\prime (0.85) = 2.23313$,\n",
    "\n",
    "$f^\\prime (0.95) = 42.8396$.\n",
    "\n",
    "* Значит, $m = 2.23313$ и $M = 42.8396$. Тогда $\\alpha = \\cfrac{2}{M+m} = \\cfrac{2}{2.23313 + 42.8396} = 0.0443727$.\n",
    "\n",
    "Выберем знак $\\alpha$ таким образом, чтобы он соответствовал знаку производной функции $f(x)$ в окрестности корня: $\\alpha = 0.0443727$\n",
    "\n",
    "* Значит, получим в итоге уравнение: \n",
    "$$x = x - 0.0443727 \\bigg(e^{-x}-lg(1-x^2)-2\\bigg).$$"
   ]
  },
  {
   "cell_type": "code",
   "execution_count": 57,
   "metadata": {
    "collapsed": true
   },
   "outputs": [],
   "source": [
    "alpha2 = 0.0443727\n",
    "m2, M2 = 2.23313, 42.8396\n",
    "q2 = (M2 - m2)/(M2 + m2)\n",
    "eps = 1e-5\n",
    "x0_2 = (a2+b2)/2"
   ]
  },
  {
   "cell_type": "code",
   "execution_count": 58,
   "metadata": {},
   "outputs": [
    {
     "data": {
      "text/plain": [
       "(0.8064730149706961, 67)"
      ]
     },
     "execution_count": 58,
     "metadata": {},
     "output_type": "execute_result"
    }
   ],
   "source": [
    "Fixed_point_iteration1(x0_2, alpha2, f2, q2, eps3)"
   ]
  },
  {
   "cell_type": "markdown",
   "metadata": {},
   "source": [
    "### Отметим корни"
   ]
  },
  {
   "cell_type": "code",
   "execution_count": 152,
   "metadata": {},
   "outputs": [
    {
     "data": {
      "text/plain": [
       "<matplotlib.collections.PathCollection at 0x20a5019dd68>"
      ]
     },
     "execution_count": 152,
     "metadata": {},
     "output_type": "execute_result"
    },
    {
     "data": {
      "image/png": "[encoded data removed]",
      "text/plain": [
       "<matplotlib.figure.Figure at 0x20a4ffcaba8>"
      ]
     },
     "metadata": {},
     "output_type": "display_data"
    }
   ],
   "source": [
    "plt.figure(figsize=(10, 7))\n",
    "plt.plot(x3, fx3)\n",
    "plt.plot([-1, -1], [-2, 4], c='r', linestyle='--', linewidth = 1.1)\n",
    "plt.plot([1, 1], [-2, 4], c='r', linestyle='--', linewidth = 1.1) # асимптоты для красоты\n",
    "plt.plot([-0.5939, -0.5939], [-2, 0], c='m', linestyle=':', linewidth = 1.4)\n",
    "plt.plot([0.9881, 0.9881], [-2, 0], c='m', linestyle=':', linewidth = 1.4) # линии от корней\n",
    "plt.grid(True)\n",
    "plt.xlabel(r'$x$', fontsize=25)\n",
    "plt.ylabel(r'$f(x)$', fontsize=25)\n",
    "plt.title('График функции f(x) = $e^{-x}$ - $\\lg{(1-x^2)}$ - 2 и корни уравнения $f(x)=0$', fontsize=20)\n",
    "plt.scatter(0.9881, 0, c='m', s = 25)\n",
    "plt.scatter(-0.5939, 0, c='m', s = 25)"
   ]
  },
  {
   "cell_type": "markdown",
   "metadata": {},
   "source": [
    "#### Таким образом, корни"
   ]
  },
  {
   "cell_type": "code",
   "execution_count": 60,
   "metadata": {},
   "outputs": [
    {
     "name": "stdout",
     "output_type": "stream",
     "text": [
      "(-1.3499608899075555, 20)\n",
      "(0.8064730149706961, 67)\n"
     ]
    }
   ],
   "source": [
    "print(Fixed_point_iteration1(x0_1, alpha1, f2, q1, eps3))\n",
    "print(Fixed_point_iteration1(x0_2, alpha2, f2, q2, eps3))"
   ]
  },
  {
   "cell_type": "markdown",
   "metadata": {},
   "source": [
    "# Пункт b) \n",
    "\n",
    "Любым  другим  преобразованием  уравнения. Проверить достаточное условие сходимости метода. "
   ]
  },
  {
   "cell_type": "markdown",
   "metadata": {},
   "source": [
    "### Достаточное условие сходимости метода\n",
    "\n",
    "#### Теорема\n",
    "\n",
    "Пусть в некоторой $\\sigma$-окрестности корня $\\bar{x}$ функция $\\varphi$ дифференцируема и удовлетворяет неравенству \n",
    "\n",
    "$$\\vert \\varphi^\\prime (x) \\vert \\le q,$$\n",
    "\n",
    "где $0 \\le q < 1$ - постоянная.\n",
    "\n",
    "Тогда независимо от выбора начального приближения $x^{(0)}$ из указанной $\\sigma$-окрестности корня итерационная последовательность не выходит из этой окрестности, метод сходится со скоростью геометрической прогрессии и справедлива следующая оценка погрешности:\n",
    "\n",
    "$$\\vert x^{(n)} - \\bar{x}\\vert \\le q^{n}\\vert x^{(0)} - \\bar{x}\\vert.$$\n",
    "\n",
    "(Это неравенство, как правило, не используется для практической оценки погрешности.)\n",
    "\n",
    "Таким образом, нужно, чтобы $q < 1$."
   ]
  },
  {
   "cell_type": "code",
   "execution_count": 101,
   "metadata": {
    "collapsed": true
   },
   "outputs": [],
   "source": [
    "def Fixed_point_iteration2(x0, func, q, eps):\n",
    "    x_i = x0\n",
    "    x_n = x_i + func(x_i)    \n",
    "    iters = 1\n",
    "    while np.abs(x_n - x_i) >= ((1 - q)/q)*eps: # пока не выполнится критерий окончания\n",
    "        x_i = x_n\n",
    "        x_n = x_i + func(x_i)       \n",
    "        iters += 1\n",
    "    return [x_n, iters] # возвращает корень, вычисленный с точностью eps, и число итераций"
   ]
  },
  {
   "cell_type": "markdown",
   "metadata": {},
   "source": [
    "Возьмем такие преобразования:\n",
    "\n",
    "* для первого отрезка локализации: $\\varphi(x) = 0,25 \\cdot (e^{-x} - \\lg{1-x^2} - 2)$;\n",
    "\n",
    "* для второго отрезка локализации: $\\varphi(x) = -e^{-4x} \\cdot (e^{-x} - \\lg{1-x^2} - 2)$."
   ]
  },
  {
   "cell_type": "code",
   "execution_count": 92,
   "metadata": {
    "collapsed": true
   },
   "outputs": [],
   "source": [
    "# 2 разные phi для разных отрезков\n",
    "f3 = lambda x: 0.25*(np.exp(-x) - np.log10(1-x**2) - 2)\n",
    "f4 = lambda x: -np.exp(-4*x)*(np.exp(-x) - np.log10(1-x**2) - 2)"
   ]
  },
  {
   "cell_type": "code",
   "execution_count": 93,
   "metadata": {},
   "outputs": [
    {
     "data": {
      "text/plain": [
       "0.90150481492801138"
      ]
     },
     "execution_count": 93,
     "metadata": {},
     "output_type": "execute_result"
    }
   ],
   "source": [
    "# q для первой функции\n",
    "# q = max | phi ' (x)|\n",
    "q3 = np.max(np.abs(derivative(f3, np.linspace(a1, b1), dx = 0.001)))\n",
    "q3"
   ]
  },
  {
   "cell_type": "markdown",
   "metadata": {},
   "source": [
    "$q_3 < 1 \\Rightarrow$ достаточное условие выполнено"
   ]
  },
  {
   "cell_type": "code",
   "execution_count": 94,
   "metadata": {},
   "outputs": [
    {
     "data": {
      "text/plain": [
       "0.8137279194964494"
      ]
     },
     "execution_count": 94,
     "metadata": {},
     "output_type": "execute_result"
    }
   ],
   "source": [
    "# q для второй функции\n",
    "# q = max | phi ' (x)|\n",
    "q4 = np.max(np.abs(derivative(f4, np.linspace(a2, b2), dx = 0.001)))\n",
    "q4"
   ]
  },
  {
   "cell_type": "markdown",
   "metadata": {},
   "source": [
    "$q_4 < 1 \\Rightarrow$ достаточное условие выполнено"
   ]
  },
  {
   "cell_type": "code",
   "execution_count": 95,
   "metadata": {},
   "outputs": [
    {
     "data": {
      "text/plain": [
       "[-0.59392132847072687, 12]"
      ]
     },
     "execution_count": 95,
     "metadata": {},
     "output_type": "execute_result"
    }
   ],
   "source": [
    "Fixed_point_iteration2(-0.52, f3, q3, eps3)"
   ]
  },
  {
   "cell_type": "code",
   "execution_count": 96,
   "metadata": {},
   "outputs": [
    {
     "data": {
      "text/plain": [
       "[0.98814689128636402, 12]"
      ]
     },
     "execution_count": 96,
     "metadata": {},
     "output_type": "execute_result"
    }
   ],
   "source": [
    "Fixed_point_iteration2(0.95, f4, q4, eps3)"
   ]
  },
  {
   "cell_type": "markdown",
   "metadata": {},
   "source": [
    "#### Погрешность"
   ]
  },
  {
   "cell_type": "markdown",
   "metadata": {},
   "source": [
    "Принимая за эталонное решение, полученное, например, с помощью встроенной функции ```brentq```, вычислим абсолютную и относительную погрешность получившихся корней."
   ]
  },
  {
   "cell_type": "markdown",
   "metadata": {},
   "source": [
    "* Первый корень (отрезок $[-0.75, -0.25]$)"
   ]
  },
  {
   "cell_type": "markdown",
   "metadata": {},
   "source": [
    "Абсолютная погрешность:"
   ]
  },
  {
   "cell_type": "code",
   "execution_count": 99,
   "metadata": {},
   "outputs": [
    {
     "data": {
      "text/plain": [
       "8.4733393079794439e-08"
      ]
     },
     "execution_count": 99,
     "metadata": {},
     "output_type": "execute_result"
    }
   ],
   "source": [
    "abs(scipy.optimize.brentq(f3, a1, b1, xtol=eps3) - Fixed_point_iteration2(-0.52, f3, q3, eps3)[0])"
   ]
  },
  {
   "cell_type": "markdown",
   "metadata": {},
   "source": [
    "Относительная погрешность:"
   ]
  },
  {
   "cell_type": "code",
   "execution_count": 100,
   "metadata": {},
   "outputs": [
    {
     "data": {
      "text/plain": [
       "1.4266768497648545e-07"
      ]
     },
     "execution_count": 100,
     "metadata": {},
     "output_type": "execute_result"
    }
   ],
   "source": [
    "abs(scipy.optimize.brentq(f3, a1, b1, xtol=eps3) - \n",
    "    Fixed_point_iteration2(-0.52, f3, q3, eps3)[0])/abs(scipy.optimize.brentq(f3, a1, b1, xtol=eps3))"
   ]
  },
  {
   "cell_type": "markdown",
   "metadata": {},
   "source": [
    "* Второй корень (отрезок $[0.85, 0.99]$)"
   ]
  },
  {
   "cell_type": "markdown",
   "metadata": {},
   "source": [
    "Абсолютная погрешность:"
   ]
  },
  {
   "cell_type": "code",
   "execution_count": 97,
   "metadata": {},
   "outputs": [
    {
     "data": {
      "text/plain": [
       "4.190196445374994e-07"
      ]
     },
     "execution_count": 97,
     "metadata": {},
     "output_type": "execute_result"
    }
   ],
   "source": [
    "abs(scipy.optimize.brentq(f4, a2, b2, xtol=eps3) - Fixed_point_iteration2(0.95, f4, q4, eps3)[0])"
   ]
  },
  {
   "cell_type": "markdown",
   "metadata": {},
   "source": [
    "Относительная погрешность:"
   ]
  },
  {
   "cell_type": "code",
   "execution_count": 98,
   "metadata": {},
   "outputs": [
    {
     "data": {
      "text/plain": [
       "4.2404572695516194e-07"
      ]
     },
     "execution_count": 98,
     "metadata": {},
     "output_type": "execute_result"
    }
   ],
   "source": [
    "abs(scipy.optimize.brentq(f4, a2, b2, xtol=eps3) - \n",
    "    Fixed_point_iteration2(0.95, f4, q4, eps3)[0])/abs(scipy.optimize.brentq(f4, a2, b2, xtol=eps3))"
   ]
  },
  {
   "cell_type": "markdown",
   "metadata": {},
   "source": [
    "#### Вывод\n",
    "\n",
    "Порядок погрешности $10^{-7}$, что не превышает требуемой точности $\\varepsilon = 10^{-5} \\Rightarrow$ всё хорошо, решение получилось довольно близким к *\"истинному\"*."
   ]
  },
  {
   "cell_type": "markdown",
   "metadata": {
    "collapsed": true
   },
   "source": [
    "# ツ"
   ]
  }
 ],
 "metadata": {
  "kernelspec": {
   "display_name": "Python 3",
   "language": "python",
   "name": "python3"
  },
  "language_info": {
   "codemirror_mode": {
    "name": "ipython",
    "version": 3
   },
   "file_extension": ".py",
   "mimetype": "text/x-python",
   "name": "python",
   "nbconvert_exporter": "python",
   "pygments_lexer": "ipython3",
   "version": "3.6.1"
  }
 },
 "nbformat": 4,
 "nbformat_minor": 2
}
